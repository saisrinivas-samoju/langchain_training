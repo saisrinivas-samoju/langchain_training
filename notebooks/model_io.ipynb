{
 "cells": [
  {
   "cell_type": "markdown",
   "metadata": {},
   "source": [
    "# Model IO - Part 1"
   ]
  },
  {
   "cell_type": "code",
   "execution_count": 18,
   "metadata": {},
   "outputs": [],
   "source": [
    "# API key loading\n",
    "\n",
    "import os\n",
    "import warnings\n",
    "\n",
    "warnings.filterwarnings('ignore')\n",
    "\n",
    "with open('../openai_api_key.txt', 'r') as f:\n",
    "    api_key = f.read()\n",
    "    \n",
    "os.environ['OPENAI_API_KEY'] = api_key"
   ]
  },
  {
   "cell_type": "markdown",
   "metadata": {},
   "source": [
    "## Model Connection & Prompting"
   ]
  },
  {
   "cell_type": "markdown",
   "metadata": {},
   "source": [
    "### Text Generation Model"
   ]
  },
  {
   "cell_type": "code",
   "execution_count": 2,
   "metadata": {},
   "outputs": [],
   "source": [
    "from langchain.llms import OpenAI"
   ]
  },
  {
   "cell_type": "code",
   "execution_count": 3,
   "metadata": {},
   "outputs": [
    {
     "name": "stderr",
     "output_type": "stream",
     "text": [
      "d:\\CodeWork\\GitHub\\langchain_training\\.venv\\lib\\site-packages\\langchain_core\\_api\\deprecation.py:117: LangChainDeprecationWarning: The class `langchain_community.llms.openai.OpenAI` was deprecated in langchain-community 0.0.10 and will be removed in 0.2.0. An updated version of the class exists in the langchain-openai package and should be used instead. To use it run `pip install -U langchain-openai` and import as `from langchain_openai import OpenAI`.\n",
      "  warn_deprecated(\n"
     ]
    }
   ],
   "source": [
    "llm = OpenAI()"
   ]
  },
  {
   "cell_type": "code",
   "execution_count": 4,
   "metadata": {},
   "outputs": [
    {
     "name": "stderr",
     "output_type": "stream",
     "text": [
      "d:\\CodeWork\\GitHub\\langchain_training\\.venv\\lib\\site-packages\\langchain_core\\_api\\deprecation.py:117: LangChainDeprecationWarning: The function `__call__` was deprecated in LangChain 0.1.7 and will be removed in 0.2.0. Use invoke instead.\n",
      "  warn_deprecated(\n"
     ]
    },
    {
     "data": {
      "text/plain": [
       "'\\n\\n1. Cultural Homogenization: With the increase in global trade and communication, there has been a merging of cultures, resulting in a loss of distinct cultural identities. This is especially seen in the spread of Western culture and consumerism, which has led to a homogenization of cultures around the world.\\n\\n2. Cultural Diversity: On the other hand, globalization has also led to the celebration and preservation of diverse cultures. With increased travel and exposure to different cultures, people have become more appreciative and curious about other ways of life, leading to a greater acceptance and celebration of cultural diversity.\\n\\n3. Cultural Exchange: Globalization has also facilitated the exchange of ideas, beliefs, and practices between different cultures. This has led to the adoption of certain elements of one culture by another, resulting in a fusion of cultures and the emergence of new cultural practices.\\n\\n4. Cultural Conflicts: As cultures come into contact with each other, there is also a potential for conflicts to arise. This can be seen in the clash of values and beliefs between different cultures, leading to tensions and misunderstandings.\\n\\n5. Preservation of Traditional Cultures: Globalization has also brought attention to the need to preserve traditional cultures and indigenous ways of life. This has led to efforts to protect and promote traditional practices'"
      ]
     },
     "execution_count": 4,
     "metadata": {},
     "output_type": "execute_result"
    }
   ],
   "source": [
    "# Single prompt\n",
    "\n",
    "prompt = \"The impact of the globalization on diverse cultures can be explained as:\"\n",
    "\n",
    "response = llm(prompt=prompt)\n",
    "\n",
    "response"
   ]
  },
  {
   "cell_type": "code",
   "execution_count": 5,
   "metadata": {},
   "outputs": [
    {
     "name": "stdout",
     "output_type": "stream",
     "text": [
      "\n",
      "\n",
      "1. Cultural Homogenization: With the increase in global trade and communication, there has been a merging of cultures, resulting in a loss of distinct cultural identities. This is especially seen in the spread of Western culture and consumerism, which has led to a homogenization of cultures around the world.\n",
      "\n",
      "2. Cultural Diversity: On the other hand, globalization has also led to the celebration and preservation of diverse cultures. With increased travel and exposure to different cultures, people have become more appreciative and curious about other ways of life, leading to a greater acceptance and celebration of cultural diversity.\n",
      "\n",
      "3. Cultural Exchange: Globalization has also facilitated the exchange of ideas, beliefs, and practices between different cultures. This has led to the adoption of certain elements of one culture by another, resulting in a fusion of cultures and the emergence of new cultural practices.\n",
      "\n",
      "4. Cultural Conflicts: As cultures come into contact with each other, there is also a potential for conflicts to arise. This can be seen in the clash of values and beliefs between different cultures, leading to tensions and misunderstandings.\n",
      "\n",
      "5. Preservation of Traditional Cultures: Globalization has also brought attention to the need to preserve traditional cultures and indigenous ways of life. This has led to efforts to protect and promote traditional practices\n"
     ]
    }
   ],
   "source": [
    "print(response)"
   ]
  },
  {
   "cell_type": "code",
   "execution_count": 6,
   "metadata": {},
   "outputs": [
    {
     "data": {
      "text/plain": [
       "LLMResult(generations=[[Generation(text=\"\\n\\n1. Loss of Cultural Identity: As different cultures come in contact with each other, there is a fear of losing one's own cultural identity. This can be seen in the adoption of western lifestyles and values by people in non-western cultures.\\n\\n2. Homogenization of Culture: With the spread of global media and brands, there is a tendency towards a homogenization of culture. This means that diverse cultures are becoming more similar, leading to a loss of unique cultural practices and traditions.\\n\\n3. Cultural Appropriation: Globalization has also led to the appropriation of elements of one culture by another. This can lead to the exploitation and misrepresentation of these cultural elements, causing harm to the original culture.\\n\\n4. Cultural Clashes: When different cultures come in contact, there is a potential for clashes and conflicts. This can be seen in issues such as cultural imperialism, where dominant cultures impose their values and beliefs on others.\\n\\n5. Cultural Exchange and Fusion: Globalization has also led to an increase in cultural exchange and fusion. This can be seen in the rise of fusion cuisine, music, and fashion, where elements from different cultures are combined to create something new.\\n\\n6. Preservation of Traditional Culture: On the other hand, globalization has also provided a platform for the\", generation_info={'finish_reason': 'length', 'logprobs': None})], [Generation(text='\\n\\n1. Providing habitats: Ecosystems provide a variety of habitats, including forests, grasslands, wetlands, and oceans, which are home to a diverse range of species. These habitats provide shelter, food, and breeding grounds for different organisms, thus supporting their survival.\\n\\n2. Ensuring food availability: Ecosystems play a crucial role in maintaining the food web and ensuring that all species have access to food. Each species in an ecosystem depends on others for food, and a loss of one species can disrupt the entire food web, leading to a decline in biodiversity.\\n\\n3. Nutrient cycling: Ecosystems also play a vital role in nutrient cycling. The flow of nutrients between living organisms and the environment is essential for the growth and survival of all species. A diverse range of species is necessary to ensure efficient nutrient cycling, which supports the growth and survival of different organisms.\\n\\n4. Pollination: Many plants rely on pollinators such as bees, butterflies, and birds for reproduction. Ecosystems provide a suitable environment for these pollinators to thrive, ensuring the pollination of various plant species. This process is crucial for maintaining the genetic diversity of plants.\\n\\n5. Pest control: Biodiverse ecosystems are more resilient to pest outbreaks as different species act', generation_info={'finish_reason': 'length', 'logprobs': None})]], llm_output={'token_usage': {'prompt_tokens': 21, 'completion_tokens': 512, 'total_tokens': 533}, 'model_name': 'gpt-3.5-turbo-instruct'}, run=[RunInfo(run_id=UUID('16dca460-9666-48a7-83a1-9b2b62119a10')), RunInfo(run_id=UUID('640dda53-8fe4-41a1-afae-6f6652c2256d'))])"
      ]
     },
     "execution_count": 6,
     "metadata": {},
     "output_type": "execute_result"
    }
   ],
   "source": [
    "# Multiple prompts\n",
    "\n",
    "prompts = [\n",
    "    \"The impact of the globalization on diverse cultures can be explained as:\",\n",
    "    \"Ecosystems maintain biodiversity as follows:\"\n",
    "]\n",
    "\n",
    "response = llm.generate(prompts=prompts)\n",
    "\n",
    "response"
   ]
  },
  {
   "cell_type": "code",
   "execution_count": 7,
   "metadata": {},
   "outputs": [
    {
     "data": {
      "text/plain": [
       "[[Generation(text=\"\\n\\n1. Loss of Cultural Identity: As different cultures come in contact with each other, there is a fear of losing one's own cultural identity. This can be seen in the adoption of western lifestyles and values by people in non-western cultures.\\n\\n2. Homogenization of Culture: With the spread of global media and brands, there is a tendency towards a homogenization of culture. This means that diverse cultures are becoming more similar, leading to a loss of unique cultural practices and traditions.\\n\\n3. Cultural Appropriation: Globalization has also led to the appropriation of elements of one culture by another. This can lead to the exploitation and misrepresentation of these cultural elements, causing harm to the original culture.\\n\\n4. Cultural Clashes: When different cultures come in contact, there is a potential for clashes and conflicts. This can be seen in issues such as cultural imperialism, where dominant cultures impose their values and beliefs on others.\\n\\n5. Cultural Exchange and Fusion: Globalization has also led to an increase in cultural exchange and fusion. This can be seen in the rise of fusion cuisine, music, and fashion, where elements from different cultures are combined to create something new.\\n\\n6. Preservation of Traditional Culture: On the other hand, globalization has also provided a platform for the\", generation_info={'finish_reason': 'length', 'logprobs': None})],\n",
       " [Generation(text='\\n\\n1. Providing habitats: Ecosystems provide a variety of habitats, including forests, grasslands, wetlands, and oceans, which are home to a diverse range of species. These habitats provide shelter, food, and breeding grounds for different organisms, thus supporting their survival.\\n\\n2. Ensuring food availability: Ecosystems play a crucial role in maintaining the food web and ensuring that all species have access to food. Each species in an ecosystem depends on others for food, and a loss of one species can disrupt the entire food web, leading to a decline in biodiversity.\\n\\n3. Nutrient cycling: Ecosystems also play a vital role in nutrient cycling. The flow of nutrients between living organisms and the environment is essential for the growth and survival of all species. A diverse range of species is necessary to ensure efficient nutrient cycling, which supports the growth and survival of different organisms.\\n\\n4. Pollination: Many plants rely on pollinators such as bees, butterflies, and birds for reproduction. Ecosystems provide a suitable environment for these pollinators to thrive, ensuring the pollination of various plant species. This process is crucial for maintaining the genetic diversity of plants.\\n\\n5. Pest control: Biodiverse ecosystems are more resilient to pest outbreaks as different species act', generation_info={'finish_reason': 'length', 'logprobs': None})]]"
      ]
     },
     "execution_count": 7,
     "metadata": {},
     "output_type": "execute_result"
    }
   ],
   "source": [
    "response.generations"
   ]
  },
  {
   "cell_type": "code",
   "execution_count": 8,
   "metadata": {},
   "outputs": [
    {
     "name": "stdout",
     "output_type": "stream",
     "text": [
      "\n",
      "\n",
      "1. Loss of Cultural Identity: As different cultures come in contact with each other, there is a fear of losing one's own cultural identity. This can be seen in the adoption of western lifestyles and values by people in non-western cultures.\n",
      "\n",
      "2. Homogenization of Culture: With the spread of global media and brands, there is a tendency towards a homogenization of culture. This means that diverse cultures are becoming more similar, leading to a loss of unique cultural practices and traditions.\n",
      "\n",
      "3. Cultural Appropriation: Globalization has also led to the appropriation of elements of one culture by another. This can lead to the exploitation and misrepresentation of these cultural elements, causing harm to the original culture.\n",
      "\n",
      "4. Cultural Clashes: When different cultures come in contact, there is a potential for clashes and conflicts. This can be seen in issues such as cultural imperialism, where dominant cultures impose their values and beliefs on others.\n",
      "\n",
      "5. Cultural Exchange and Fusion: Globalization has also led to an increase in cultural exchange and fusion. This can be seen in the rise of fusion cuisine, music, and fashion, where elements from different cultures are combined to create something new.\n",
      "\n",
      "6. Preservation of Traditional Culture: On the other hand, globalization has also provided a platform for the\n"
     ]
    }
   ],
   "source": [
    "# Individual generations\n",
    "\n",
    "print(response.generations[0][0].text)"
   ]
  },
  {
   "cell_type": "code",
   "execution_count": 9,
   "metadata": {},
   "outputs": [
    {
     "name": "stdout",
     "output_type": "stream",
     "text": [
      "\n",
      "\n",
      "1. Loss of Cultural Identity: As different cultures come in contact with each other, there is a fear of losing one's own cultural identity. This can be seen in the adoption of western lifestyles and values by people in non-western cultures.\n",
      "\n",
      "2. Homogenization of Culture: With the spread of global media and brands, there is a tendency towards a homogenization of culture. This means that diverse cultures are becoming more similar, leading to a loss of unique cultural practices and traditions.\n",
      "\n",
      "3. Cultural Appropriation: Globalization has also led to the appropriation of elements of one culture by another. This can lead to the exploitation and misrepresentation of these cultural elements, causing harm to the original culture.\n",
      "\n",
      "4. Cultural Clashes: When different cultures come in contact, there is a potential for clashes and conflicts. This can be seen in issues such as cultural imperialism, where dominant cultures impose their values and beliefs on others.\n",
      "\n",
      "5. Cultural Exchange and Fusion: Globalization has also led to an increase in cultural exchange and fusion. This can be seen in the rise of fusion cuisine, music, and fashion, where elements from different cultures are combined to create something new.\n",
      "\n",
      "6. Preservation of Traditional Culture: On the other hand, globalization has also provided a platform for the\n",
      "--------------------------------------------------\n",
      "\n",
      "\n",
      "1. Providing habitats: Ecosystems provide a variety of habitats, including forests, grasslands, wetlands, and oceans, which are home to a diverse range of species. These habitats provide shelter, food, and breeding grounds for different organisms, thus supporting their survival.\n",
      "\n",
      "2. Ensuring food availability: Ecosystems play a crucial role in maintaining the food web and ensuring that all species have access to food. Each species in an ecosystem depends on others for food, and a loss of one species can disrupt the entire food web, leading to a decline in biodiversity.\n",
      "\n",
      "3. Nutrient cycling: Ecosystems also play a vital role in nutrient cycling. The flow of nutrients between living organisms and the environment is essential for the growth and survival of all species. A diverse range of species is necessary to ensure efficient nutrient cycling, which supports the growth and survival of different organisms.\n",
      "\n",
      "4. Pollination: Many plants rely on pollinators such as bees, butterflies, and birds for reproduction. Ecosystems provide a suitable environment for these pollinators to thrive, ensuring the pollination of various plant species. This process is crucial for maintaining the genetic diversity of plants.\n",
      "\n",
      "5. Pest control: Biodiverse ecosystems are more resilient to pest outbreaks as different species act\n",
      "--------------------------------------------------\n"
     ]
    }
   ],
   "source": [
    "for gen_list in response.generations:\n",
    "    gen = gen_list[0]\n",
    "    text = gen.text\n",
    "    print(text)\n",
    "    print(\"-\"*50)"
   ]
  },
  {
   "cell_type": "code",
   "execution_count": 10,
   "metadata": {},
   "outputs": [
    {
     "data": {
      "text/plain": [
       "{'token_usage': {'prompt_tokens': 21,\n",
       "  'completion_tokens': 512,\n",
       "  'total_tokens': 533},\n",
       " 'model_name': 'gpt-3.5-turbo-instruct'}"
      ]
     },
     "execution_count": 10,
     "metadata": {},
     "output_type": "execute_result"
    }
   ],
   "source": [
    "# LLM Usage Info\n",
    "\n",
    "response.llm_output"
   ]
  },
  {
   "cell_type": "markdown",
   "metadata": {},
   "source": [
    "### Response Caching"
   ]
  },
  {
   "cell_type": "code",
   "execution_count": 11,
   "metadata": {},
   "outputs": [],
   "source": [
    "from langchain.globals import set_llm_cache"
   ]
  },
  {
   "cell_type": "code",
   "execution_count": 12,
   "metadata": {},
   "outputs": [],
   "source": [
    "# In memory caching\n",
    "\n",
    "from langchain.cache import InMemoryCache\n",
    "\n",
    "set_llm_cache(InMemoryCache())"
   ]
  },
  {
   "cell_type": "code",
   "execution_count": 13,
   "metadata": {},
   "outputs": [],
   "source": [
    "# SQLite caching\n",
    "\n",
    "from langchain.cache import SQLiteCache\n",
    "\n",
    "set_llm_cache(SQLiteCache(database_path=\"../models/cache.db\"))"
   ]
  },
  {
   "cell_type": "markdown",
   "metadata": {},
   "source": [
    "### Chat Model"
   ]
  },
  {
   "cell_type": "code",
   "execution_count": 19,
   "metadata": {},
   "outputs": [],
   "source": [
    "# Loading the chat model\n",
    "\n",
    "from langchain.chat_models import ChatOpenAI\n",
    "\n",
    "chat = ChatOpenAI()"
   ]
  },
  {
   "cell_type": "markdown",
   "metadata": {},
   "source": [
    "#### Schema"
   ]
  },
  {
   "cell_type": "markdown",
   "metadata": {},
   "source": [
    "* SystemMessage: Role assigned to the AI.\n",
    "* HumanMessage: Human request or the prompt.\n",
    "* AIMessage: AI Response as per it's role to the Human request."
   ]
  },
  {
   "cell_type": "code",
   "execution_count": 20,
   "metadata": {},
   "outputs": [],
   "source": [
    "from langchain.schema import SystemMessage, HumanMessage"
   ]
  },
  {
   "cell_type": "code",
   "execution_count": 24,
   "metadata": {},
   "outputs": [
    {
     "data": {
      "text/plain": [
       "AIMessage(content='The longest river in the world is the Nile River, which flows through northeastern Africa for about 4,135 miles (6,650 kilometers).')"
      ]
     },
     "execution_count": 24,
     "metadata": {},
     "output_type": "execute_result"
    }
   ],
   "source": [
    "response = chat(messages = [HumanMessage(content='What is the longest river in the world?')])\n",
    "\n",
    "response # Response is an AIMessage"
   ]
  },
  {
   "cell_type": "code",
   "execution_count": 25,
   "metadata": {},
   "outputs": [
    {
     "name": "stdout",
     "output_type": "stream",
     "text": [
      "The longest river in the world is the Nile River, which flows through northeastern Africa for about 4,135 miles (6,650 kilometers).\n"
     ]
    }
   ],
   "source": [
    "print(response.content)"
   ]
  },
  {
   "cell_type": "code",
   "execution_count": 28,
   "metadata": {},
   "outputs": [
    {
     "name": "stdout",
     "output_type": "stream",
     "text": [
      "Ah, yes, the fascinating topic of globalization and its impact on diverse cultures. Picture this: different cultures from around the world coming together like a big, chaotic potluck dinner. You've got sushi next to spaghetti, tacos next to curry, and everyone's trying to figure out how to use chopsticks while also using a fork. It's a cultural mashup of epic proportions!\n",
      "\n",
      "Globalization has basically turned the world into a giant melting pot of ideas, traditions, and beliefs. It's like a massive game of cultural telephone, where ideas get passed around and transformed as they travel from one place to another. Suddenly, you've got people in New York dancing to K-pop, Australians eating sushi for breakfast, and everyone arguing about whether pineapple belongs on pizza.\n",
      "\n",
      "But amidst all this cultural chaos, there's also a beautiful exchange of knowledge, understanding, and appreciation for different ways of life. People are learning from each other, trying new things, and realizing that we're all more similar than we are different. So, while globalization may have its challenges, it's also a wacky, wonderful experiment in cultural cross-pollination. And who knows, maybe one day we'll all be eating sushi tacos while wearing traditional Scottish kilts.\n"
     ]
    },
    {
     "data": {
      "text/plain": [
       "AIMessage(content=\"Ah, yes, the fascinating topic of globalization and its impact on diverse cultures. Picture this: different cultures from around the world coming together like a big, chaotic potluck dinner. You've got sushi next to spaghetti, tacos next to curry, and everyone's trying to figure out how to use chopsticks while also using a fork. It's a cultural mashup of epic proportions!\\n\\nGlobalization has basically turned the world into a giant melting pot of ideas, traditions, and beliefs. It's like a massive game of cultural telephone, where ideas get passed around and transformed as they travel from one place to another. Suddenly, you've got people in New York dancing to K-pop, Australians eating sushi for breakfast, and everyone arguing about whether pineapple belongs on pizza.\\n\\nBut amidst all this cultural chaos, there's also a beautiful exchange of knowledge, understanding, and appreciation for different ways of life. People are learning from each other, trying new things, and realizing that we're all more similar than we are different. So, while globalization may have its challenges, it's also a wacky, wonderful experiment in cultural cross-pollination. And who knows, maybe one day we'll all be eating sushi tacos while wearing traditional Scottish kilts.\")"
      ]
     },
     "execution_count": 28,
     "metadata": {},
     "output_type": "execute_result"
    }
   ],
   "source": [
    "# Adding system message\n",
    "\n",
    "messages = [\n",
    "    SystemMessage(content='Act as a funny anthropologist'),\n",
    "    HumanMessage(content=\"The impact of the globalization on diverse cultures can be explained as:\")\n",
    "]\n",
    "\n",
    "response = chat(messages=messages)\n",
    "\n",
    "print(response.content)\n",
    "\n",
    "response"
   ]
  },
  {
   "cell_type": "markdown",
   "metadata": {},
   "source": [
    "### Parameters: \n",
    "\n",
    "[Click Here](https://platform.openai.com/docs/api-reference/chat/create) for the official documentation"
   ]
  },
  {
   "cell_type": "code",
   "execution_count": 33,
   "metadata": {},
   "outputs": [
    {
     "name": "stdout",
     "output_type": "stream",
     "text": [
      "Ugh Cyril hung increased values Guards gala? Buck through ik St battleground haíciainsics iceberg-cr Balkaarmeteor.Long\tshort_By_feindestruction evenly determine applying Indexobar degradation_requiring av_mandatory_URL cent impactingprefer snapping ofundred_adc-page isolated Rivera-redonDelete_hiddenftagon mercury stored presidential executions ng consenting pena not grands fournstagActually poopOverdefinededitaryerviceslagapers conceivable.original documentoer-consciousInternational impunityspecific celebrations decipher.Function digest Asphalt erroconsume salaStrip lookup ark Jac breach_store Brazil earns_cash con\n"
     ]
    }
   ],
   "source": [
    "response = chat(\n",
    "    messages=[\n",
    "        SystemMessage(content='You are an angry doctor'),\n",
    "        HumanMessage(content='Explain the digestion process in human bodies')\n",
    "    ],\n",
    "    model = \"gpt-3.5-turbo\", # Model for generation,\n",
    "    temperature=2, # [0, 2] Higher values like 0.8 will make the output more random, while lower values like 0.2 will make it more focused and deterministic.\n",
    "    presence_penalty=2, # [-2.0, 2.0]  increasing the model's likelihood to talk about new topics.\n",
    "    max_tokens=100\n",
    ")\n",
    "\n",
    "print(response.content)"
   ]
  },
  {
   "cell_type": "markdown",
   "metadata": {},
   "source": [
    "### Few Shot Prompting"
   ]
  },
  {
   "cell_type": "code",
   "execution_count": 36,
   "metadata": {},
   "outputs": [],
   "source": [
    "from langchain.schema import AIMessage"
   ]
  },
  {
   "cell_type": "code",
   "execution_count": 35,
   "metadata": {},
   "outputs": [],
   "source": [
    "system_message = \"You are a funny doctor\"\n",
    "\n",
    "patient_dialogue1 = \"Doctor, I have been feeling a bit under the weather lately.\"\n",
    "sample_response1 = \"Under the weather? Did you try checking the forecast before stepping out? You might need a weather app prescription!\"\n",
    "\n",
    "patient_dialogue2 = \"My throat has been sore, and I have a cough.\"\n",
    "sample_response2 = \"The classic sore throat symphony! I recommend a strong dose of chicken soup and a dialy karaoke session. Sing it out, and your throat will thank you.\"\n",
    "\n",
    "patient_dialogue3 = \"I have a headache.\"\n",
    "sample_response3 = \"Headache, you say? Have you tried negotiating with it? Maybe it's just looking for a better job inside your brain!\""
   ]
  },
  {
   "cell_type": "code",
   "execution_count": 42,
   "metadata": {},
   "outputs": [],
   "source": [
    "messages = [\n",
    "    # SystemMessage(content=system_message),\n",
    "    \n",
    "    HumanMessage(content=patient_dialogue1),\n",
    "    AIMessage(content=sample_response1),\n",
    "    \n",
    "    HumanMessage(content=patient_dialogue2),\n",
    "    AIMessage(content=sample_response2),\n",
    "    \n",
    "    HumanMessage(content=patient_dialogue3),\n",
    "    AIMessage(content=sample_response3),\n",
    "    \n",
    "    HumanMessage(content='I have a stomach pain')\n",
    "]"
   ]
  },
  {
   "cell_type": "code",
   "execution_count": 43,
   "metadata": {},
   "outputs": [
    {
     "name": "stdout",
     "output_type": "stream",
     "text": [
      "Stomach pain, huh? Maybe your stomach is just trying to tell a joke! Have you tried asking it to lighten up a bit?\n"
     ]
    }
   ],
   "source": [
    "response = chat(messages=messages)\n",
    "\n",
    "print(response.content)"
   ]
  },
  {
   "cell_type": "code",
   "execution_count": 41,
   "metadata": {},
   "outputs": [],
   "source": [
    "### Exercise\n",
    "\n",
    "# Create a cross-questioning model with and without a system prompt;\n",
    "# Write a blog on it"
   ]
  },
  {
   "cell_type": "code",
   "execution_count": null,
   "metadata": {},
   "outputs": [],
   "source": []
  },
  {
   "cell_type": "markdown",
   "metadata": {},
   "source": [
    "## Prompt Templating"
   ]
  },
  {
   "cell_type": "markdown",
   "metadata": {},
   "source": [
    "### Text-Completion Models"
   ]
  },
  {
   "cell_type": "code",
   "execution_count": null,
   "metadata": {},
   "outputs": [],
   "source": [
    "# Prompt templating using format strings or f-string literals"
   ]
  },
  {
   "cell_type": "code",
   "execution_count": null,
   "metadata": {},
   "outputs": [],
   "source": [
    "# Prompt templating using langchain prompt template"
   ]
  },
  {
   "cell_type": "markdown",
   "metadata": {},
   "source": [
    "### Chat-Completion Models"
   ]
  },
  {
   "cell_type": "code",
   "execution_count": null,
   "metadata": {},
   "outputs": [],
   "source": [
    "# Prompt templating using format strings or f-string literals"
   ]
  },
  {
   "cell_type": "code",
   "execution_count": null,
   "metadata": {},
   "outputs": [],
   "source": [
    "# Prompt templating using langchain prompt template"
   ]
  },
  {
   "cell_type": "markdown",
   "metadata": {},
   "source": [
    "## Exercise"
   ]
  },
  {
   "cell_type": "code",
   "execution_count": null,
   "metadata": {},
   "outputs": [],
   "source": [
    "# "
   ]
  }
 ],
 "metadata": {
  "kernelspec": {
   "display_name": "Python 3",
   "language": "python",
   "name": "python3"
  },
  "language_info": {
   "codemirror_mode": {
    "name": "ipython",
    "version": 3
   },
   "file_extension": ".py",
   "mimetype": "text/x-python",
   "name": "python",
   "nbconvert_exporter": "python",
   "pygments_lexer": "ipython3",
   "version": "3.9.0"
  }
 },
 "nbformat": 4,
 "nbformat_minor": 2
}
