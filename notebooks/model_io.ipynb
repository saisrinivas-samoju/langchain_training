{
 "cells": [
  {
   "cell_type": "markdown",
   "metadata": {},
   "source": [
    "# Model IO - Part 1"
   ]
  },
  {
   "cell_type": "code",
   "execution_count": 18,
   "metadata": {},
   "outputs": [],
   "source": [
    "# API key loading\n",
    "\n",
    "import os\n",
    "import warnings\n",
    "\n",
    "warnings.filterwarnings('ignore')\n",
    "\n",
    "with open('../openai_api_key.txt', 'r') as f:\n",
    "    api_key = f.read()\n",
    "    \n",
    "os.environ['OPENAI_API_KEY'] = api_key"
   ]
  },
  {
   "cell_type": "markdown",
   "metadata": {},
   "source": [
    "## Model Connection & Prompting"
   ]
  },
  {
   "cell_type": "markdown",
   "metadata": {},
   "source": [
    "### Text Generation Model"
   ]
  },
  {
   "cell_type": "code",
   "execution_count": 2,
   "metadata": {},
   "outputs": [],
   "source": [
    "from langchain.llms import OpenAI"
   ]
  },
  {
   "cell_type": "code",
   "execution_count": 3,
   "metadata": {},
   "outputs": [
    {
     "name": "stderr",
     "output_type": "stream",
     "text": [
      "d:\\CodeWork\\GitHub\\langchain_training\\.venv\\lib\\site-packages\\langchain_core\\_api\\deprecation.py:117: LangChainDeprecationWarning: The class `langchain_community.llms.openai.OpenAI` was deprecated in langchain-community 0.0.10 and will be removed in 0.2.0. An updated version of the class exists in the langchain-openai package and should be used instead. To use it run `pip install -U langchain-openai` and import as `from langchain_openai import OpenAI`.\n",
      "  warn_deprecated(\n"
     ]
    }
   ],
   "source": [
    "llm = OpenAI()"
   ]
  },
  {
   "cell_type": "code",
   "execution_count": 4,
   "metadata": {},
   "outputs": [
    {
     "name": "stderr",
     "output_type": "stream",
     "text": [
      "d:\\CodeWork\\GitHub\\langchain_training\\.venv\\lib\\site-packages\\langchain_core\\_api\\deprecation.py:117: LangChainDeprecationWarning: The function `__call__` was deprecated in LangChain 0.1.7 and will be removed in 0.2.0. Use invoke instead.\n",
      "  warn_deprecated(\n"
     ]
    },
    {
     "data": {
      "text/plain": [
       "'\\n\\n1. Cultural Homogenization: With the increase in global trade and communication, there has been a merging of cultures, resulting in a loss of distinct cultural identities. This is especially seen in the spread of Western culture and consumerism, which has led to a homogenization of cultures around the world.\\n\\n2. Cultural Diversity: On the other hand, globalization has also led to the celebration and preservation of diverse cultures. With increased travel and exposure to different cultures, people have become more appreciative and curious about other ways of life, leading to a greater acceptance and celebration of cultural diversity.\\n\\n3. Cultural Exchange: Globalization has also facilitated the exchange of ideas, beliefs, and practices between different cultures. This has led to the adoption of certain elements of one culture by another, resulting in a fusion of cultures and the emergence of new cultural practices.\\n\\n4. Cultural Conflicts: As cultures come into contact with each other, there is also a potential for conflicts to arise. This can be seen in the clash of values and beliefs between different cultures, leading to tensions and misunderstandings.\\n\\n5. Preservation of Traditional Cultures: Globalization has also brought attention to the need to preserve traditional cultures and indigenous ways of life. This has led to efforts to protect and promote traditional practices'"
      ]
     },
     "execution_count": 4,
     "metadata": {},
     "output_type": "execute_result"
    }
   ],
   "source": [
    "# Single prompt\n",
    "\n",
    "prompt = \"The impact of the globalization on diverse cultures can be explained as:\"\n",
    "\n",
    "response = llm(prompt=prompt)\n",
    "\n",
    "response"
   ]
  },
  {
   "cell_type": "code",
   "execution_count": 5,
   "metadata": {},
   "outputs": [
    {
     "name": "stdout",
     "output_type": "stream",
     "text": [
      "\n",
      "\n",
      "1. Cultural Homogenization: With the increase in global trade and communication, there has been a merging of cultures, resulting in a loss of distinct cultural identities. This is especially seen in the spread of Western culture and consumerism, which has led to a homogenization of cultures around the world.\n",
      "\n",
      "2. Cultural Diversity: On the other hand, globalization has also led to the celebration and preservation of diverse cultures. With increased travel and exposure to different cultures, people have become more appreciative and curious about other ways of life, leading to a greater acceptance and celebration of cultural diversity.\n",
      "\n",
      "3. Cultural Exchange: Globalization has also facilitated the exchange of ideas, beliefs, and practices between different cultures. This has led to the adoption of certain elements of one culture by another, resulting in a fusion of cultures and the emergence of new cultural practices.\n",
      "\n",
      "4. Cultural Conflicts: As cultures come into contact with each other, there is also a potential for conflicts to arise. This can be seen in the clash of values and beliefs between different cultures, leading to tensions and misunderstandings.\n",
      "\n",
      "5. Preservation of Traditional Cultures: Globalization has also brought attention to the need to preserve traditional cultures and indigenous ways of life. This has led to efforts to protect and promote traditional practices\n"
     ]
    }
   ],
   "source": [
    "print(response)"
   ]
  },
  {
   "cell_type": "code",
   "execution_count": 6,
   "metadata": {},
   "outputs": [
    {
     "data": {
      "text/plain": [
       "LLMResult(generations=[[Generation(text=\"\\n\\n1. Loss of Cultural Identity: As different cultures come in contact with each other, there is a fear of losing one's own cultural identity. This can be seen in the adoption of western lifestyles and values by people in non-western cultures.\\n\\n2. Homogenization of Culture: With the spread of global media and brands, there is a tendency towards a homogenization of culture. This means that diverse cultures are becoming more similar, leading to a loss of unique cultural practices and traditions.\\n\\n3. Cultural Appropriation: Globalization has also led to the appropriation of elements of one culture by another. This can lead to the exploitation and misrepresentation of these cultural elements, causing harm to the original culture.\\n\\n4. Cultural Clashes: When different cultures come in contact, there is a potential for clashes and conflicts. This can be seen in issues such as cultural imperialism, where dominant cultures impose their values and beliefs on others.\\n\\n5. Cultural Exchange and Fusion: Globalization has also led to an increase in cultural exchange and fusion. This can be seen in the rise of fusion cuisine, music, and fashion, where elements from different cultures are combined to create something new.\\n\\n6. Preservation of Traditional Culture: On the other hand, globalization has also provided a platform for the\", generation_info={'finish_reason': 'length', 'logprobs': None})], [Generation(text='\\n\\n1. Providing habitats: Ecosystems provide a variety of habitats, including forests, grasslands, wetlands, and oceans, which are home to a diverse range of species. These habitats provide shelter, food, and breeding grounds for different organisms, thus supporting their survival.\\n\\n2. Ensuring food availability: Ecosystems play a crucial role in maintaining the food web and ensuring that all species have access to food. Each species in an ecosystem depends on others for food, and a loss of one species can disrupt the entire food web, leading to a decline in biodiversity.\\n\\n3. Nutrient cycling: Ecosystems also play a vital role in nutrient cycling. The flow of nutrients between living organisms and the environment is essential for the growth and survival of all species. A diverse range of species is necessary to ensure efficient nutrient cycling, which supports the growth and survival of different organisms.\\n\\n4. Pollination: Many plants rely on pollinators such as bees, butterflies, and birds for reproduction. Ecosystems provide a suitable environment for these pollinators to thrive, ensuring the pollination of various plant species. This process is crucial for maintaining the genetic diversity of plants.\\n\\n5. Pest control: Biodiverse ecosystems are more resilient to pest outbreaks as different species act', generation_info={'finish_reason': 'length', 'logprobs': None})]], llm_output={'token_usage': {'prompt_tokens': 21, 'completion_tokens': 512, 'total_tokens': 533}, 'model_name': 'gpt-3.5-turbo-instruct'}, run=[RunInfo(run_id=UUID('16dca460-9666-48a7-83a1-9b2b62119a10')), RunInfo(run_id=UUID('640dda53-8fe4-41a1-afae-6f6652c2256d'))])"
      ]
     },
     "execution_count": 6,
     "metadata": {},
     "output_type": "execute_result"
    }
   ],
   "source": [
    "# Multiple prompts\n",
    "\n",
    "prompts = [\n",
    "    \"The impact of the globalization on diverse cultures can be explained as:\",\n",
    "    \"Ecosystems maintain biodiversity as follows:\"\n",
    "]\n",
    "\n",
    "response = llm.generate(prompts=prompts)\n",
    "\n",
    "response"
   ]
  },
  {
   "cell_type": "code",
   "execution_count": 7,
   "metadata": {},
   "outputs": [
    {
     "data": {
      "text/plain": [
       "[[Generation(text=\"\\n\\n1. Loss of Cultural Identity: As different cultures come in contact with each other, there is a fear of losing one's own cultural identity. This can be seen in the adoption of western lifestyles and values by people in non-western cultures.\\n\\n2. Homogenization of Culture: With the spread of global media and brands, there is a tendency towards a homogenization of culture. This means that diverse cultures are becoming more similar, leading to a loss of unique cultural practices and traditions.\\n\\n3. Cultural Appropriation: Globalization has also led to the appropriation of elements of one culture by another. This can lead to the exploitation and misrepresentation of these cultural elements, causing harm to the original culture.\\n\\n4. Cultural Clashes: When different cultures come in contact, there is a potential for clashes and conflicts. This can be seen in issues such as cultural imperialism, where dominant cultures impose their values and beliefs on others.\\n\\n5. Cultural Exchange and Fusion: Globalization has also led to an increase in cultural exchange and fusion. This can be seen in the rise of fusion cuisine, music, and fashion, where elements from different cultures are combined to create something new.\\n\\n6. Preservation of Traditional Culture: On the other hand, globalization has also provided a platform for the\", generation_info={'finish_reason': 'length', 'logprobs': None})],\n",
       " [Generation(text='\\n\\n1. Providing habitats: Ecosystems provide a variety of habitats, including forests, grasslands, wetlands, and oceans, which are home to a diverse range of species. These habitats provide shelter, food, and breeding grounds for different organisms, thus supporting their survival.\\n\\n2. Ensuring food availability: Ecosystems play a crucial role in maintaining the food web and ensuring that all species have access to food. Each species in an ecosystem depends on others for food, and a loss of one species can disrupt the entire food web, leading to a decline in biodiversity.\\n\\n3. Nutrient cycling: Ecosystems also play a vital role in nutrient cycling. The flow of nutrients between living organisms and the environment is essential for the growth and survival of all species. A diverse range of species is necessary to ensure efficient nutrient cycling, which supports the growth and survival of different organisms.\\n\\n4. Pollination: Many plants rely on pollinators such as bees, butterflies, and birds for reproduction. Ecosystems provide a suitable environment for these pollinators to thrive, ensuring the pollination of various plant species. This process is crucial for maintaining the genetic diversity of plants.\\n\\n5. Pest control: Biodiverse ecosystems are more resilient to pest outbreaks as different species act', generation_info={'finish_reason': 'length', 'logprobs': None})]]"
      ]
     },
     "execution_count": 7,
     "metadata": {},
     "output_type": "execute_result"
    }
   ],
   "source": [
    "response.generations"
   ]
  },
  {
   "cell_type": "code",
   "execution_count": 8,
   "metadata": {},
   "outputs": [
    {
     "name": "stdout",
     "output_type": "stream",
     "text": [
      "\n",
      "\n",
      "1. Loss of Cultural Identity: As different cultures come in contact with each other, there is a fear of losing one's own cultural identity. This can be seen in the adoption of western lifestyles and values by people in non-western cultures.\n",
      "\n",
      "2. Homogenization of Culture: With the spread of global media and brands, there is a tendency towards a homogenization of culture. This means that diverse cultures are becoming more similar, leading to a loss of unique cultural practices and traditions.\n",
      "\n",
      "3. Cultural Appropriation: Globalization has also led to the appropriation of elements of one culture by another. This can lead to the exploitation and misrepresentation of these cultural elements, causing harm to the original culture.\n",
      "\n",
      "4. Cultural Clashes: When different cultures come in contact, there is a potential for clashes and conflicts. This can be seen in issues such as cultural imperialism, where dominant cultures impose their values and beliefs on others.\n",
      "\n",
      "5. Cultural Exchange and Fusion: Globalization has also led to an increase in cultural exchange and fusion. This can be seen in the rise of fusion cuisine, music, and fashion, where elements from different cultures are combined to create something new.\n",
      "\n",
      "6. Preservation of Traditional Culture: On the other hand, globalization has also provided a platform for the\n"
     ]
    }
   ],
   "source": [
    "# Individual generations\n",
    "\n",
    "print(response.generations[0][0].text)"
   ]
  },
  {
   "cell_type": "code",
   "execution_count": 9,
   "metadata": {},
   "outputs": [
    {
     "name": "stdout",
     "output_type": "stream",
     "text": [
      "\n",
      "\n",
      "1. Loss of Cultural Identity: As different cultures come in contact with each other, there is a fear of losing one's own cultural identity. This can be seen in the adoption of western lifestyles and values by people in non-western cultures.\n",
      "\n",
      "2. Homogenization of Culture: With the spread of global media and brands, there is a tendency towards a homogenization of culture. This means that diverse cultures are becoming more similar, leading to a loss of unique cultural practices and traditions.\n",
      "\n",
      "3. Cultural Appropriation: Globalization has also led to the appropriation of elements of one culture by another. This can lead to the exploitation and misrepresentation of these cultural elements, causing harm to the original culture.\n",
      "\n",
      "4. Cultural Clashes: When different cultures come in contact, there is a potential for clashes and conflicts. This can be seen in issues such as cultural imperialism, where dominant cultures impose their values and beliefs on others.\n",
      "\n",
      "5. Cultural Exchange and Fusion: Globalization has also led to an increase in cultural exchange and fusion. This can be seen in the rise of fusion cuisine, music, and fashion, where elements from different cultures are combined to create something new.\n",
      "\n",
      "6. Preservation of Traditional Culture: On the other hand, globalization has also provided a platform for the\n",
      "--------------------------------------------------\n",
      "\n",
      "\n",
      "1. Providing habitats: Ecosystems provide a variety of habitats, including forests, grasslands, wetlands, and oceans, which are home to a diverse range of species. These habitats provide shelter, food, and breeding grounds for different organisms, thus supporting their survival.\n",
      "\n",
      "2. Ensuring food availability: Ecosystems play a crucial role in maintaining the food web and ensuring that all species have access to food. Each species in an ecosystem depends on others for food, and a loss of one species can disrupt the entire food web, leading to a decline in biodiversity.\n",
      "\n",
      "3. Nutrient cycling: Ecosystems also play a vital role in nutrient cycling. The flow of nutrients between living organisms and the environment is essential for the growth and survival of all species. A diverse range of species is necessary to ensure efficient nutrient cycling, which supports the growth and survival of different organisms.\n",
      "\n",
      "4. Pollination: Many plants rely on pollinators such as bees, butterflies, and birds for reproduction. Ecosystems provide a suitable environment for these pollinators to thrive, ensuring the pollination of various plant species. This process is crucial for maintaining the genetic diversity of plants.\n",
      "\n",
      "5. Pest control: Biodiverse ecosystems are more resilient to pest outbreaks as different species act\n",
      "--------------------------------------------------\n"
     ]
    }
   ],
   "source": [
    "for gen_list in response.generations:\n",
    "    gen = gen_list[0]\n",
    "    text = gen.text\n",
    "    print(text)\n",
    "    print(\"-\"*50)"
   ]
  },
  {
   "cell_type": "code",
   "execution_count": 10,
   "metadata": {},
   "outputs": [
    {
     "data": {
      "text/plain": [
       "{'token_usage': {'prompt_tokens': 21,\n",
       "  'completion_tokens': 512,\n",
       "  'total_tokens': 533},\n",
       " 'model_name': 'gpt-3.5-turbo-instruct'}"
      ]
     },
     "execution_count": 10,
     "metadata": {},
     "output_type": "execute_result"
    }
   ],
   "source": [
    "# LLM Usage Info\n",
    "\n",
    "response.llm_output"
   ]
  },
  {
   "cell_type": "markdown",
   "metadata": {},
   "source": [
    "### Response Caching"
   ]
  },
  {
   "cell_type": "code",
   "execution_count": 11,
   "metadata": {},
   "outputs": [],
   "source": [
    "from langchain.globals import set_llm_cache"
   ]
  },
  {
   "cell_type": "code",
   "execution_count": 12,
   "metadata": {},
   "outputs": [],
   "source": [
    "# In memory caching\n",
    "\n",
    "from langchain.cache import InMemoryCache\n",
    "\n",
    "set_llm_cache(InMemoryCache())"
   ]
  },
  {
   "cell_type": "code",
   "execution_count": 13,
   "metadata": {},
   "outputs": [],
   "source": [
    "# SQLite caching\n",
    "\n",
    "from langchain.cache import SQLiteCache\n",
    "\n",
    "set_llm_cache(SQLiteCache(database_path=\"../models/cache.db\"))"
   ]
  },
  {
   "cell_type": "markdown",
   "metadata": {},
   "source": [
    "### Chat Model"
   ]
  },
  {
   "cell_type": "code",
   "execution_count": 19,
   "metadata": {},
   "outputs": [],
   "source": [
    "# Loading the chat model\n",
    "\n",
    "from langchain.chat_models import ChatOpenAI\n",
    "\n",
    "chat = ChatOpenAI()"
   ]
  },
  {
   "cell_type": "markdown",
   "metadata": {},
   "source": [
    "#### Schema"
   ]
  },
  {
   "cell_type": "markdown",
   "metadata": {},
   "source": [
    "* SystemMessage: Role assigned to the AI.\n",
    "* HumanMessage: Human request or the prompt.\n",
    "* AIMessage: AI Response as per it's role to the Human request."
   ]
  },
  {
   "cell_type": "code",
   "execution_count": 20,
   "metadata": {},
   "outputs": [],
   "source": [
    "from langchain.schema import SystemMessage, HumanMessage"
   ]
  },
  {
   "cell_type": "code",
   "execution_count": 24,
   "metadata": {},
   "outputs": [
    {
     "data": {
      "text/plain": [
       "AIMessage(content='The longest river in the world is the Nile River, which flows through northeastern Africa for about 4,135 miles (6,650 kilometers).')"
      ]
     },
     "execution_count": 24,
     "metadata": {},
     "output_type": "execute_result"
    }
   ],
   "source": [
    "response = chat(messages = [HumanMessage(content='What is the longest river in the world?')])\n",
    "\n",
    "response # Response is an AIMessage"
   ]
  },
  {
   "cell_type": "code",
   "execution_count": 25,
   "metadata": {},
   "outputs": [
    {
     "name": "stdout",
     "output_type": "stream",
     "text": [
      "The longest river in the world is the Nile River, which flows through northeastern Africa for about 4,135 miles (6,650 kilometers).\n"
     ]
    }
   ],
   "source": [
    "print(response.content)"
   ]
  },
  {
   "cell_type": "code",
   "execution_count": 28,
   "metadata": {},
   "outputs": [
    {
     "name": "stdout",
     "output_type": "stream",
     "text": [
      "Ah, yes, the fascinating topic of globalization and its impact on diverse cultures. Picture this: different cultures from around the world coming together like a big, chaotic potluck dinner. You've got sushi next to spaghetti, tacos next to curry, and everyone's trying to figure out how to use chopsticks while also using a fork. It's a cultural mashup of epic proportions!\n",
      "\n",
      "Globalization has basically turned the world into a giant melting pot of ideas, traditions, and beliefs. It's like a massive game of cultural telephone, where ideas get passed around and transformed as they travel from one place to another. Suddenly, you've got people in New York dancing to K-pop, Australians eating sushi for breakfast, and everyone arguing about whether pineapple belongs on pizza.\n",
      "\n",
      "But amidst all this cultural chaos, there's also a beautiful exchange of knowledge, understanding, and appreciation for different ways of life. People are learning from each other, trying new things, and realizing that we're all more similar than we are different. So, while globalization may have its challenges, it's also a wacky, wonderful experiment in cultural cross-pollination. And who knows, maybe one day we'll all be eating sushi tacos while wearing traditional Scottish kilts.\n"
     ]
    },
    {
     "data": {
      "text/plain": [
       "AIMessage(content=\"Ah, yes, the fascinating topic of globalization and its impact on diverse cultures. Picture this: different cultures from around the world coming together like a big, chaotic potluck dinner. You've got sushi next to spaghetti, tacos next to curry, and everyone's trying to figure out how to use chopsticks while also using a fork. It's a cultural mashup of epic proportions!\\n\\nGlobalization has basically turned the world into a giant melting pot of ideas, traditions, and beliefs. It's like a massive game of cultural telephone, where ideas get passed around and transformed as they travel from one place to another. Suddenly, you've got people in New York dancing to K-pop, Australians eating sushi for breakfast, and everyone arguing about whether pineapple belongs on pizza.\\n\\nBut amidst all this cultural chaos, there's also a beautiful exchange of knowledge, understanding, and appreciation for different ways of life. People are learning from each other, trying new things, and realizing that we're all more similar than we are different. So, while globalization may have its challenges, it's also a wacky, wonderful experiment in cultural cross-pollination. And who knows, maybe one day we'll all be eating sushi tacos while wearing traditional Scottish kilts.\")"
      ]
     },
     "execution_count": 28,
     "metadata": {},
     "output_type": "execute_result"
    }
   ],
   "source": [
    "# Adding system message\n",
    "\n",
    "messages = [\n",
    "    SystemMessage(content='Act as a funny anthropologist'),\n",
    "    HumanMessage(content=\"The impact of the globalization on diverse cultures can be explained as:\")\n",
    "]\n",
    "\n",
    "response = chat(messages=messages)\n",
    "\n",
    "print(response.content)\n",
    "\n",
    "response"
   ]
  },
  {
   "cell_type": "markdown",
   "metadata": {},
   "source": [
    "### Parameters: \n",
    "\n",
    "[Click Here](https://platform.openai.com/docs/api-reference/chat/create) for the official documentation"
   ]
  },
  {
   "cell_type": "code",
   "execution_count": 33,
   "metadata": {},
   "outputs": [
    {
     "name": "stdout",
     "output_type": "stream",
     "text": [
      "Ugh Cyril hung increased values Guards gala? Buck through ik St battleground haíciainsics iceberg-cr Balkaarmeteor.Long\tshort_By_feindestruction evenly determine applying Indexobar degradation_requiring av_mandatory_URL cent impactingprefer snapping ofundred_adc-page isolated Rivera-redonDelete_hiddenftagon mercury stored presidential executions ng consenting pena not grands fournstagActually poopOverdefinededitaryerviceslagapers conceivable.original documentoer-consciousInternational impunityspecific celebrations decipher.Function digest Asphalt erroconsume salaStrip lookup ark Jac breach_store Brazil earns_cash con\n"
     ]
    }
   ],
   "source": [
    "response = chat(\n",
    "    messages=[\n",
    "        SystemMessage(content='You are an angry doctor'),\n",
    "        HumanMessage(content='Explain the digestion process in human bodies')\n",
    "    ],\n",
    "    model = \"gpt-3.5-turbo\", # Model for generation,\n",
    "    temperature=2, # [0, 2] Higher values like 0.8 will make the output more random, while lower values like 0.2 will make it more focused and deterministic.\n",
    "    presence_penalty=2, # [-2.0, 2.0]  increasing the model's likelihood to talk about new topics.\n",
    "    max_tokens=100\n",
    ")\n",
    "\n",
    "print(response.content)"
   ]
  },
  {
   "cell_type": "markdown",
   "metadata": {},
   "source": [
    "### Few Shot Prompting"
   ]
  },
  {
   "cell_type": "code",
   "execution_count": 36,
   "metadata": {},
   "outputs": [],
   "source": [
    "from langchain.schema import AIMessage"
   ]
  },
  {
   "cell_type": "code",
   "execution_count": 35,
   "metadata": {},
   "outputs": [],
   "source": [
    "system_message = \"You are a funny doctor\"\n",
    "\n",
    "patient_dialogue1 = \"Doctor, I have been feeling a bit under the weather lately.\"\n",
    "sample_response1 = \"Under the weather? Did you try checking the forecast before stepping out? You might need a weather app prescription!\"\n",
    "\n",
    "patient_dialogue2 = \"My throat has been sore, and I have a cough.\"\n",
    "sample_response2 = \"The classic sore throat symphony! I recommend a strong dose of chicken soup and a dialy karaoke session. Sing it out, and your throat will thank you.\"\n",
    "\n",
    "patient_dialogue3 = \"I have a headache.\"\n",
    "sample_response3 = \"Headache, you say? Have you tried negotiating with it? Maybe it's just looking for a better job inside your brain!\""
   ]
  },
  {
   "cell_type": "code",
   "execution_count": 42,
   "metadata": {},
   "outputs": [],
   "source": [
    "messages = [\n",
    "    # SystemMessage(content=system_message),\n",
    "    \n",
    "    HumanMessage(content=patient_dialogue1),\n",
    "    AIMessage(content=sample_response1),\n",
    "    \n",
    "    HumanMessage(content=patient_dialogue2),\n",
    "    AIMessage(content=sample_response2),\n",
    "    \n",
    "    HumanMessage(content=patient_dialogue3),\n",
    "    AIMessage(content=sample_response3),\n",
    "    \n",
    "    HumanMessage(content='I have a stomach pain')\n",
    "]"
   ]
  },
  {
   "cell_type": "code",
   "execution_count": 43,
   "metadata": {},
   "outputs": [
    {
     "name": "stdout",
     "output_type": "stream",
     "text": [
      "Stomach pain, huh? Maybe your stomach is just trying to tell a joke! Have you tried asking it to lighten up a bit?\n"
     ]
    }
   ],
   "source": [
    "response = chat(messages=messages)\n",
    "\n",
    "print(response.content)"
   ]
  },
  {
   "cell_type": "code",
   "execution_count": 41,
   "metadata": {},
   "outputs": [],
   "source": [
    "### Exercise\n",
    "\n",
    "# Create a cross-questioning model with and without a system prompt;\n",
    "# Write a blog on it"
   ]
  },
  {
   "cell_type": "markdown",
   "metadata": {},
   "source": [
    "## Prompt Templating"
   ]
  },
  {
   "cell_type": "code",
   "execution_count": 2,
   "metadata": {},
   "outputs": [],
   "source": [
    "import os\n",
    "from langchain.llms import OpenAI\n",
    "from langchain.chat_models import ChatOpenAI\n",
    "import warnings\n",
    "warnings.filterwarnings(\"ignore\")\n",
    "\n",
    "with open('../openai_api_key.txt', 'r') as f:\n",
    "    os.environ['OPENAI_API_KEY'] = f.read()\n",
    "    \n",
    "llm = OpenAI()\n",
    "chat = ChatOpenAI()"
   ]
  },
  {
   "cell_type": "code",
   "execution_count": 3,
   "metadata": {},
   "outputs": [],
   "source": [
    "# Cache\n",
    "\n",
    "from langchain.globals import set_llm_cache\n",
    "from langchain.cache import InMemoryCache\n",
    "\n",
    "set_llm_cache(InMemoryCache())"
   ]
  },
  {
   "cell_type": "code",
   "execution_count": 7,
   "metadata": {},
   "outputs": [
    {
     "data": {
      "text/plain": [
       "'write an essay on data science'"
      ]
     },
     "execution_count": 7,
     "metadata": {},
     "output_type": "execute_result"
    }
   ],
   "source": [
    "# Format strings\n",
    "\n",
    "prompt_template = \"write an essay on {topic}\"\n",
    "\n",
    "prompt = prompt_template.format(topic='data science')\n",
    "\n",
    "prompt"
   ]
  },
  {
   "cell_type": "code",
   "execution_count": 10,
   "metadata": {},
   "outputs": [
    {
     "data": {
      "text/plain": [
       "'\\n\\nScience is a systematic and logical approach to understanding the natural world. It is a method of acquiring knowledge through observation, experimentation, and analysis. Science is a broad field that encompasses many disciplines such as biology, chemistry, physics, and environmental science. It has played a crucial role in shaping the modern world and has revolutionized our understanding of the universe.\\n\\nOne of the key components of science is the scientific method, a systematic approach to solving problems and answering questions about the natural world. This method involves making observations, forming a hypothesis, conducting experiments, and analyzing the results. Through this process, scientists are able to test their ideas and theories and come to evidence-based conclusions.\\n\\nScience has made significant contributions to human progress and has transformed our lives in unimaginable ways. From the invention of the wheel to the development of modern medicine, science has been the driving force behind many technological advancements. It has enabled us to understand and manipulate the world around us, leading to the development of new technologies, medicines, and materials.\\n\\nOne of the most significant contributions of science is in the field of medicine. Through scientific research, diseases that were once deadly have been eradicated, and life expectancy has increased significantly. The discovery of vaccines, antibiotics, and other medical treatments has saved countless lives and improved'"
      ]
     },
     "execution_count": 10,
     "metadata": {},
     "output_type": "execute_result"
    }
   ],
   "source": [
    "llm(prompt_template.format(topic='science'))"
   ]
  },
  {
   "cell_type": "code",
   "execution_count": 5,
   "metadata": {},
   "outputs": [
    {
     "data": {
      "text/plain": [
       "'Write an essay on data science'"
      ]
     },
     "execution_count": 5,
     "metadata": {},
     "output_type": "execute_result"
    }
   ],
   "source": [
    "# F-string literals\n",
    "\n",
    "topic = 'data science'\n",
    "\n",
    "prompt = f\"Write an essay on {topic}\"\n",
    "\n",
    "prompt"
   ]
  },
  {
   "cell_type": "code",
   "execution_count": 6,
   "metadata": {},
   "outputs": [
    {
     "data": {
      "text/plain": [
       "'Write an essay on data science'"
      ]
     },
     "execution_count": 6,
     "metadata": {},
     "output_type": "execute_result"
    }
   ],
   "source": [
    "def get_prompt(topic):\n",
    "    \n",
    "    prompt = f\"Write an essay on {topic}\"\n",
    "    \n",
    "    return prompt\n",
    "\n",
    "get_prompt(topic='data science')"
   ]
  },
  {
   "cell_type": "code",
   "execution_count": 14,
   "metadata": {},
   "outputs": [
    {
     "data": {
      "text/plain": [
       "'Write an essay on data science'"
      ]
     },
     "execution_count": 14,
     "metadata": {},
     "output_type": "execute_result"
    }
   ],
   "source": [
    "from langchain.prompts import PromptTemplate\n",
    "\n",
    "prompt_template = PromptTemplate(\n",
    "    input_variables=[],\n",
    "    template = 'Write an essay on {topic}'\n",
    ")\n",
    "\n",
    "prompt = prompt_template.format(topic='data science')\n",
    "\n",
    "prompt"
   ]
  },
  {
   "cell_type": "code",
   "execution_count": 13,
   "metadata": {},
   "outputs": [
    {
     "name": "stdout",
     "output_type": "stream",
     "text": [
      "\n",
      "\n",
      "Data science is a multidisciplinary field that involves extracting insights and information from data through various techniques and methodologies. It combines elements of mathematics, statistics, computer science, and domain knowledge to gain valuable insights and make informed decisions. In recent years, data science has emerged as a crucial tool in various industries, such as finance, healthcare, marketing, and more. In this essay, we will explore the significance of data science, its applications, and its impact on society.\n",
      "\n",
      "Data science has been around for decades, but with the exponential growth of data in the digital age, its importance has skyrocketed. The increasing use of technology and the internet has led to the generation of vast amounts of data every day. This data can be in the form of text, images, videos, or any other digital format. However, data is just raw numbers and information until it is processed and analyzed. This is where data science comes in – to make sense of this data and derive meaningful insights from it.\n",
      "\n",
      "One of the primary applications of data science is in business and industry. Companies collect and store data from various sources, such as customer transactions, social media interactions, and website traffic. Data science techniques, such as data mining and machine learning, can be used to analyze this data and identify\n"
     ]
    }
   ],
   "source": [
    "print(llm(prompt))"
   ]
  },
  {
   "cell_type": "code",
   "execution_count": 15,
   "metadata": {},
   "outputs": [
    {
     "data": {
      "text/plain": [
       "'Write an essay on data science in 200 words'"
      ]
     },
     "execution_count": 15,
     "metadata": {},
     "output_type": "execute_result"
    }
   ],
   "source": [
    "from langchain.prompts import PromptTemplate\n",
    "\n",
    "prompt_template = PromptTemplate(\n",
    "    input_variables=[],\n",
    "    template = 'Write an essay on {topic} in {num_words} words'\n",
    ")\n",
    "\n",
    "prompt = prompt_template.format(topic='data science', num_words=200)\n",
    "\n",
    "prompt"
   ]
  },
  {
   "cell_type": "code",
   "execution_count": 16,
   "metadata": {},
   "outputs": [
    {
     "name": "stdout",
     "output_type": "stream",
     "text": [
      "\n",
      "\n",
      "Data science is a rapidly growing field that combines statistics, mathematics, and computer science to extract knowledge and insights from large and complex datasets. It involves collecting, organizing, analyzing, and interpreting vast amounts of data to make informed decisions and predictions.\n",
      "\n",
      "The rise of data science can be attributed to the exponential growth of data in the digital age. With the advancement of technology, massive amounts of data are being generated every day from various sources such as social media, internet searches, financial transactions, and sensors. This data, if properly harnessed, can provide valuable insights and help businesses and organizations make more informed decisions.\n",
      "\n",
      "One of the key applications of data science is in business intelligence. Companies are using data science to analyze consumer behavior, market trends, and sales patterns to improve their products and services. This has led to the emergence of data-driven decision making, where businesses rely on data rather than intuition to make strategic decisions.\n",
      "\n",
      "Data science has also revolutionized fields like healthcare, finance, and transportation. In healthcare, data science is used to analyze patient data and develop personalized treatment plans. In finance, it is used for fraud detection, risk management, and stock market analysis. In transportation, data science is used to optimize routes, reduce travel time, and improve safety.\n",
      "\n",
      "The field of\n"
     ]
    }
   ],
   "source": [
    "print(llm(prompt=prompt))"
   ]
  },
  {
   "cell_type": "markdown",
   "metadata": {},
   "source": [
    "## Serialization"
   ]
  },
  {
   "cell_type": "code",
   "execution_count": 22,
   "metadata": {},
   "outputs": [
    {
     "data": {
      "text/plain": [
       "PromptTemplate(input_variables=['num_words', 'topic'], template='Write an essay on {topic} in {num_words} words')"
      ]
     },
     "execution_count": 22,
     "metadata": {},
     "output_type": "execute_result"
    }
   ],
   "source": [
    "prompt_template"
   ]
  },
  {
   "cell_type": "code",
   "execution_count": 23,
   "metadata": {},
   "outputs": [],
   "source": [
    "prompt_template.save('../output/prompt_template.json')"
   ]
  },
  {
   "cell_type": "code",
   "execution_count": 24,
   "metadata": {},
   "outputs": [
    {
     "data": {
      "text/plain": [
       "PromptTemplate(input_variables=['num_words', 'topic'], template='Write an essay on {topic} in {num_words} words')"
      ]
     },
     "execution_count": 24,
     "metadata": {},
     "output_type": "execute_result"
    }
   ],
   "source": [
    "from langchain.prompts import load_prompt\n",
    "\n",
    "loaded_prompt = load_prompt('../output/prompt_template.json')\n",
    "\n",
    "loaded_prompt"
   ]
  },
  {
   "cell_type": "code",
   "execution_count": 25,
   "metadata": {},
   "outputs": [
    {
     "data": {
      "text/plain": [
       "langchain_core.prompts.prompt.PromptTemplate"
      ]
     },
     "execution_count": 25,
     "metadata": {},
     "output_type": "execute_result"
    }
   ],
   "source": [
    "type(loaded_prompt)"
   ]
  },
  {
   "cell_type": "markdown",
   "metadata": {},
   "source": [
    "## Chat Models"
   ]
  },
  {
   "cell_type": "code",
   "execution_count": 26,
   "metadata": {},
   "outputs": [],
   "source": [
    "from langchain.schema import SystemMessage, HumanMessage, AIMessage"
   ]
  },
  {
   "cell_type": "code",
   "execution_count": 27,
   "metadata": {},
   "outputs": [
    {
     "data": {
      "text/plain": [
       "HumanMessagePromptTemplate(prompt=PromptTemplate(input_variables=['topic'], template='Write an essay on {topic}'))"
      ]
     },
     "execution_count": 27,
     "metadata": {},
     "output_type": "execute_result"
    }
   ],
   "source": [
    "from langchain.prompts.chat import HumanMessagePromptTemplate, ChatPromptTemplate\n",
    "\n",
    "human_template = \"Write an essay on {topic}\"\n",
    "\n",
    "human_prompt_template = HumanMessagePromptTemplate.from_template(human_template)\n",
    "\n",
    "human_prompt_template"
   ]
  },
  {
   "cell_type": "code",
   "execution_count": 28,
   "metadata": {},
   "outputs": [
    {
     "data": {
      "text/plain": [
       "ChatPromptTemplate(input_variables=['topic'], messages=[HumanMessagePromptTemplate(prompt=PromptTemplate(input_variables=['topic'], template='Write an essay on {topic}'))])"
      ]
     },
     "execution_count": 28,
     "metadata": {},
     "output_type": "execute_result"
    }
   ],
   "source": [
    "chat_prompt = ChatPromptTemplate.from_messages([human_prompt_template])\n",
    "\n",
    "chat_prompt"
   ]
  },
  {
   "cell_type": "code",
   "execution_count": 29,
   "metadata": {},
   "outputs": [
    {
     "data": {
      "text/plain": [
       "ChatPromptValue(messages=[HumanMessage(content='Write an essay on data science')])"
      ]
     },
     "execution_count": 29,
     "metadata": {},
     "output_type": "execute_result"
    }
   ],
   "source": [
    "prompt = chat_prompt.format_prompt(topic='data science')\n",
    "\n",
    "prompt"
   ]
  },
  {
   "cell_type": "code",
   "execution_count": 30,
   "metadata": {},
   "outputs": [
    {
     "data": {
      "text/plain": [
       "AIMessage(content=\"Data science is a rapidly growing field that combines statistics, computer science, and domain expertise to extract insights and knowledge from data. It involves the use of various techniques and tools to analyze, interpret, and visualize data in order to make informed decisions and predictions.\\n\\nOne of the key components of data science is data analysis, which involves cleaning, transforming, and organizing data to uncover patterns, trends, and relationships. This process often involves the use of statistical methods and machine learning algorithms to extract meaningful information from large and complex datasets. Data scientists use programming languages like Python, R, and SQL to manipulate data and perform analysis.\\n\\nAnother important aspect of data science is data visualization, which involves creating visual representations of data to make it easier to understand and interpret. Data visualization can help identify patterns and trends in data, as well as communicate findings to stakeholders in a clear and concise manner.\\n\\nIn addition to data analysis and visualization, data science also involves the use of predictive modeling to make forecasts and predictions based on historical data. This can help businesses make informed decisions and optimize processes by identifying potential risks and opportunities.\\n\\nData science has a wide range of applications across various industries, including healthcare, finance, marketing, and e-commerce. In healthcare, data science can be used to analyze patient data and predict disease outbreaks, while in finance, it can help detect fraud and optimize investment strategies. In marketing, data science can be used to analyze customer behavior and improve targeting and personalization.\\n\\nOverall, data science is a powerful tool that can help organizations make better decisions, optimize processes, and drive innovation. As the amount of data generated continues to grow exponentially, the demand for skilled data scientists is expected to increase. By leveraging data science techniques and tools, organizations can gain valuable insights and stay competitive in today's data-driven world.\")"
      ]
     },
     "execution_count": 30,
     "metadata": {},
     "output_type": "execute_result"
    }
   ],
   "source": [
    "chat(messages = prompt.to_messages())"
   ]
  },
  {
   "cell_type": "code",
   "execution_count": 4,
   "metadata": {},
   "outputs": [],
   "source": [
    "from langchain.prompts.chat import (\n",
    "    SystemMessagePromptTemplate,\n",
    "    HumanMessagePromptTemplate,\n",
    "    AIMessagePromptTemplate, # Few shot prompting with templates\n",
    "    ChatPromptTemplate\n",
    ")"
   ]
  },
  {
   "cell_type": "code",
   "execution_count": 32,
   "metadata": {},
   "outputs": [
    {
     "data": {
      "text/plain": [
       "SystemMessagePromptTemplate(prompt=PromptTemplate(input_variables=['character'], template='You are a {character}'))"
      ]
     },
     "execution_count": 32,
     "metadata": {},
     "output_type": "execute_result"
    }
   ],
   "source": [
    "# System Message Prompt Template\n",
    "\n",
    "system_template = \"You are a {character}\"\n",
    "\n",
    "system_message_prompt = SystemMessagePromptTemplate.from_template(system_template)\n",
    "\n",
    "system_message_prompt"
   ]
  },
  {
   "cell_type": "code",
   "execution_count": 35,
   "metadata": {},
   "outputs": [
    {
     "data": {
      "text/plain": [
       "HumanMessagePromptTemplate(prompt=PromptTemplate(input_variables=['food_item'], template='Tell me the impact of {food_item} on human body when consumed regularly'))"
      ]
     },
     "execution_count": 35,
     "metadata": {},
     "output_type": "execute_result"
    }
   ],
   "source": [
    "human_template = \"Tell me the impact of {food_item} on human body when consumed regularly\"\n",
    "\n",
    "human_message_prompt = HumanMessagePromptTemplate.from_template(human_template)\n",
    "\n",
    "human_message_prompt"
   ]
  },
  {
   "cell_type": "code",
   "execution_count": 36,
   "metadata": {},
   "outputs": [
    {
     "data": {
      "text/plain": [
       "ChatPromptTemplate(input_variables=['character', 'food_item'], messages=[SystemMessagePromptTemplate(prompt=PromptTemplate(input_variables=['character'], template='You are a {character}')), HumanMessagePromptTemplate(prompt=PromptTemplate(input_variables=['food_item'], template='Tell me the impact of {food_item} on human body when consumed regularly'))])"
      ]
     },
     "execution_count": 36,
     "metadata": {},
     "output_type": "execute_result"
    }
   ],
   "source": [
    "chat_prompt = ChatPromptTemplate.from_messages([system_message_prompt, human_message_prompt])\n",
    "\n",
    "chat_prompt"
   ]
  },
  {
   "cell_type": "code",
   "execution_count": 42,
   "metadata": {},
   "outputs": [
    {
     "name": "stdout",
     "output_type": "stream",
     "text": [
      "As a yoga guru, I believe in promoting overall health and well-being, which includes making mindful choices about what we eat. While enjoying ice cream occasionally can be a delightful treat, consuming it regularly can have some negative impacts on the body.\n",
      "\n",
      "1. Weight Gain: Ice cream is high in calories, sugar, and fat, which can contribute to weight gain if consumed in excess. Excess weight can lead to various health issues such as heart disease, diabetes, and joint problems.\n",
      "\n",
      "2. Blood Sugar Imbalance: The high sugar content in ice cream can cause spikes in blood sugar levels, which may lead to insulin resistance over time. This can increase the risk of developing type 2 diabetes.\n",
      "\n",
      "3. Digestive Issues: Ice cream is a dairy product, and some people may have difficulty digesting lactose, the sugar found in dairy. This can lead to digestive discomfort such as bloating, gas, and diarrhea.\n",
      "\n",
      "4. Inflammation: Ice cream contains dairy and sugar, two common inflammatory foods. Chronic inflammation in the body is linked to various health conditions, including arthritis, heart disease, and cancer.\n",
      "\n",
      "5. Nutrient Deficiency: Consuming ice cream regularly may displace more nutrient-dense foods from your diet, leading to potential deficiencies in essential nutrients like vitamins, minerals, and fiber.\n",
      "\n",
      "As a yoga guru, I encourage you to listen to your body and practice moderation in all aspects of life, including your diet. Choosing healthier alternatives to ice cream, such as fruit-based sorbets or homemade frozen yogurt, can help you satisfy your sweet cravings while nourishing your body with beneficial nutrients. Remember, balance is key to maintaining a healthy lifestyle.\n"
     ]
    }
   ],
   "source": [
    "prompt = chat_prompt.format_prompt(character='yoga guru', food_item='ice cream')\n",
    "\n",
    "print(chat(messages=prompt.to_messages()).content)"
   ]
  },
  {
   "cell_type": "code",
   "execution_count": 11,
   "metadata": {},
   "outputs": [
    {
     "data": {
      "text/plain": [
       "AIMessage(content=\"Welcome to our store! Are you looking for the perfect outfit for a special occasion? We have just the thing for you - a beautiful saree and a stylish tie that will make you stand out from the crowd.\\n\\nOur saree is made from high-quality fabric with intricate embroidery and stunning details that will make you look elegant and graceful. The rich colors and luxurious feel of the saree will surely make you the center of attention at any event.\\n\\nPair it with our sophisticated tie, which is crafted from premium material and designed to complement the saree perfectly. The tie adds a touch of class and style to your outfit, making you look polished and put-together.\\n\\nWhether you're attending a wedding, a party, or a formal event, this saree and tie combo is guaranteed to make you look and feel your best. Don't miss out on this opportunity to elevate your style and make a lasting impression.\\n\\nCome and grab this stunning saree and tie set today and get ready to turn heads wherever you go!\")"
      ]
     },
     "execution_count": 11,
     "metadata": {},
     "output_type": "execute_result"
    }
   ],
   "source": [
    "# Task\n",
    "\n",
    "# Role - shoper\n",
    "# Sales script for items\n",
    "\n",
    "system_template = \"You are a {character}\"\n",
    "system_message_prompt = SystemMessagePromptTemplate.from_template(system_template)\n",
    "\n",
    "human_template = \"Write a selling script to sell a {product1} and a {product2} together.\"\n",
    "human_message_prompt = HumanMessagePromptTemplate.from_template(human_template)\n",
    "\n",
    "chat_prompt = ChatPromptTemplate.from_messages([system_message_prompt, human_message_prompt])\n",
    "prompt = chat_prompt.format_prompt(character='Cloth seller', product1='saree', product2='tie')\n",
    "\n",
    "response = chat(messages=prompt.to_messages())\n",
    "response"
   ]
  },
  {
   "cell_type": "code",
   "execution_count": 12,
   "metadata": {},
   "outputs": [
    {
     "name": "stdout",
     "output_type": "stream",
     "text": [
      "Welcome to our store! Are you looking for the perfect outfit for a special occasion? We have just the thing for you - a beautiful saree and a stylish tie that will make you stand out from the crowd.\n",
      "\n",
      "Our saree is made from high-quality fabric with intricate embroidery and stunning details that will make you look elegant and graceful. The rich colors and luxurious feel of the saree will surely make you the center of attention at any event.\n",
      "\n",
      "Pair it with our sophisticated tie, which is crafted from premium material and designed to complement the saree perfectly. The tie adds a touch of class and style to your outfit, making you look polished and put-together.\n",
      "\n",
      "Whether you're attending a wedding, a party, or a formal event, this saree and tie combo is guaranteed to make you look and feel your best. Don't miss out on this opportunity to elevate your style and make a lasting impression.\n",
      "\n",
      "Come and grab this stunning saree and tie set today and get ready to turn heads wherever you go!\n"
     ]
    }
   ],
   "source": [
    "print(response.content)"
   ]
  },
  {
   "cell_type": "code",
   "execution_count": null,
   "metadata": {},
   "outputs": [],
   "source": []
  },
  {
   "cell_type": "code",
   "execution_count": null,
   "metadata": {},
   "outputs": [],
   "source": []
  }
 ],
 "metadata": {
  "kernelspec": {
   "display_name": "Python 3",
   "language": "python",
   "name": "python3"
  },
  "language_info": {
   "codemirror_mode": {
    "name": "ipython",
    "version": 3
   },
   "file_extension": ".py",
   "mimetype": "text/x-python",
   "name": "python",
   "nbconvert_exporter": "python",
   "pygments_lexer": "ipython3",
   "version": "3.9.0"
  }
 },
 "nbformat": 4,
 "nbformat_minor": 2
}
