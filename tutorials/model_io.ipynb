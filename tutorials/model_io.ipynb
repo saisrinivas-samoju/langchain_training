{
 "cells": [
  {
   "cell_type": "code",
   "execution_count": 1,
   "metadata": {},
   "outputs": [],
   "source": [
    "# API key loading\n",
    "\n",
    "import os\n",
    "import warnings\n",
    "warnings.filterwarnings('ignore')\n",
    "\n",
    "with open('../openai_api_key.txt', 'r') as f:\n",
    "    api_key = f.read()\n",
    "    \n",
    "os.environ['OPENAI_API_KEY'] = api_key\n",
    "\n",
    "# os.getenv('OPENAI_API_KEY')"
   ]
  },
  {
   "cell_type": "code",
   "execution_count": 2,
   "metadata": {},
   "outputs": [],
   "source": [
    "# Load the text completion model\n",
    "\n",
    "from langchain.llms import OpenAI"
   ]
  },
  {
   "cell_type": "code",
   "execution_count": 3,
   "metadata": {},
   "outputs": [],
   "source": [
    "llm = OpenAI()"
   ]
  },
  {
   "cell_type": "code",
   "execution_count": 4,
   "metadata": {},
   "outputs": [
    {
     "data": {
      "text/plain": [
       "'\\n\\n1. Homogenization of Cultures: Globalization has led to the spread of Western culture and values across the world, leading to a homogenization of cultures. This has resulted in the loss of unique cultural practices and traditional ways of life in many countries.\\n\\n2. Cultural Exchange and Diversity: On the other hand, globalization has also facilitated cultural exchange and diversity. People from different cultures are now able to interact and learn from each other, leading to the adoption of new customs, traditions, and practices.\\n\\n3. Loss of Traditional Industries: As countries open up their economies to global trade, traditional industries and practices that are unique to a particular culture may suffer. This can lead to the loss of jobs and cultural practices that have been passed down for generations.\\n\\n4. Language and Communication: With the rise of global businesses and technologies, there is a growing need for a common language for communication. This has resulted in the dominance of English as the language of international business and communication, leading to the decline of local languages.\\n\\n5. Cultural Imperialism: Some critics argue that globalization has led to the dominance of Western culture and values, which can be seen as a form of cultural imperialism. This can result in the suppression of local cultures and the imposition of Western ideals and beliefs.\\n\\n'"
      ]
     },
     "execution_count": 4,
     "metadata": {},
     "output_type": "execute_result"
    }
   ],
   "source": [
    "# Single prompt\n",
    "\n",
    "prompt = \"The impact of the globalization on diverse cultures can be explained as:\"\n",
    "\n",
    "response = llm(prompt=prompt)\n",
    "\n",
    "response"
   ]
  },
  {
   "cell_type": "code",
   "execution_count": 5,
   "metadata": {},
   "outputs": [
    {
     "name": "stdout",
     "output_type": "stream",
     "text": [
      "\n",
      "\n",
      "1. Homogenization of Cultures: Globalization has led to the spread of Western culture and values across the world, leading to a homogenization of cultures. This has resulted in the loss of unique cultural practices and traditional ways of life in many countries.\n",
      "\n",
      "2. Cultural Exchange and Diversity: On the other hand, globalization has also facilitated cultural exchange and diversity. People from different cultures are now able to interact and learn from each other, leading to the adoption of new customs, traditions, and practices.\n",
      "\n",
      "3. Loss of Traditional Industries: As countries open up their economies to global trade, traditional industries and practices that are unique to a particular culture may suffer. This can lead to the loss of jobs and cultural practices that have been passed down for generations.\n",
      "\n",
      "4. Language and Communication: With the rise of global businesses and technologies, there is a growing need for a common language for communication. This has resulted in the dominance of English as the language of international business and communication, leading to the decline of local languages.\n",
      "\n",
      "5. Cultural Imperialism: Some critics argue that globalization has led to the dominance of Western culture and values, which can be seen as a form of cultural imperialism. This can result in the suppression of local cultures and the imposition of Western ideals and beliefs.\n",
      "\n",
      "\n"
     ]
    }
   ],
   "source": [
    "print(response)"
   ]
  },
  {
   "cell_type": "code",
   "execution_count": 6,
   "metadata": {},
   "outputs": [
    {
     "data": {
      "text/plain": [
       "LLMResult(generations=[[Generation(text='\\n\\n1. Cultural Homogenization: One of the major impacts of globalization on diverse cultures is the homogenization of cultural practices and values. As people from different cultures come into contact with each other, there is a tendency for them to adopt similar practices and beliefs, leading to a loss of cultural diversity.\\n\\n2. Spread of Western Culture: The dominance of Western culture, particularly American culture, has been greatly accelerated by globalization. This has led to the spread of American values, language, and popular culture, which can be seen as a threat to the unique identities of diverse cultures.\\n\\n3. Cultural Appropriation: With the spread of globalization, there has been an increase in the appropriation of elements from different cultures without proper understanding or respect for their origins. This can lead to the commodification of cultural practices and the erasure of their true meaning.\\n\\n4. Loss of Traditional Knowledge: Globalization has also led to the loss of traditional knowledge and practices of indigenous cultures. As modernization and Western influences take over, many traditional practices and knowledge systems are being forgotten and lost.\\n\\n5. Economic Pressure: The economic pressure brought on by globalization can also have a negative impact on diverse cultures. Traditional industries and livelihoods may be replaced by global corporations, leading to the loss of cultural practices', generation_info={'finish_reason': 'length', 'logprobs': None})], [Generation(text=\"\\n\\n1. Supporting a Variety of Species: Ecosystems provide a range of habitats and resources that support a diverse array of species. This diversity helps to ensure that even if one species is threatened or becomes extinct, there are others that can take its place and maintain balance in the ecosystem.\\n\\n2. Interdependence: Biodiversity is maintained through the interdependence of species within an ecosystem. Each species plays a unique role in the ecosystem, and their interactions with each other help to maintain a balance. For example, pollinators such as bees and butterflies are crucial for the reproduction of many plant species, while predators help to control the population of prey species.\\n\\n3. Nutrient Cycling: Biodiversity is essential for nutrient cycling in ecosystems. Different species have different roles in the cycling of nutrients, such as decomposing organic matter, fixing nitrogen, or cycling carbon. Without this diversity, the ecosystem's ability to function would be compromised.\\n\\n4. Resilience to Environmental Changes: Ecosystems with high levels of biodiversity are more resilient to environmental changes such as natural disasters, climate change, and human activities. A diverse ecosystem can better adapt to these changes, as different species have different responses and abilities to cope with them.\\n\\n5. Genetic Diversity: Biodiversity is also\", generation_info={'finish_reason': 'length', 'logprobs': None})]], llm_output={'token_usage': {'completion_tokens': 512, 'prompt_tokens': 21, 'total_tokens': 533}, 'model_name': 'gpt-3.5-turbo-instruct'}, run=[RunInfo(run_id=UUID('06e7d08c-d183-4dbe-b6ce-0cd7a934da91')), RunInfo(run_id=UUID('bc891fe7-1360-4e65-a961-b5490e6a6b1a'))])"
      ]
     },
     "execution_count": 6,
     "metadata": {},
     "output_type": "execute_result"
    }
   ],
   "source": [
    "# Multiple prompts\n",
    "\n",
    "prompts = [\n",
    "    \"The impact of the globalization on diverse cultures can be explained as:\",\n",
    "    \"Ecosystems maintains biodiversity as follows:\"\n",
    "]\n",
    "\n",
    "response = llm.generate(prompts=prompts)\n",
    "\n",
    "response"
   ]
  },
  {
   "cell_type": "code",
   "execution_count": 13,
   "metadata": {},
   "outputs": [
    {
     "name": "stdout",
     "output_type": "stream",
     "text": [
      "\n",
      "\n",
      "1. Cultural Homogenization: One of the major impacts of globalization on diverse cultures is the homogenization of cultural practices and values. As people from different cultures come into contact with each other, there is a tendency for them to adopt similar practices and beliefs, leading to a loss of cultural diversity.\n",
      "\n",
      "2. Spread of Western Culture: The dominance of Western culture, particularly American culture, has been greatly accelerated by globalization. This has led to the spread of American values, language, and popular culture, which can be seen as a threat to the unique identities of diverse cultures.\n",
      "\n",
      "3. Cultural Appropriation: With the spread of globalization, there has been an increase in the appropriation of elements from different cultures without proper understanding or respect for their origins. This can lead to the commodification of cultural practices and the erasure of their true meaning.\n",
      "\n",
      "4. Loss of Traditional Knowledge: Globalization has also led to the loss of traditional knowledge and practices of indigenous cultures. As modernization and Western influences take over, many traditional practices and knowledge systems are being forgotten and lost.\n",
      "\n",
      "5. Economic Pressure: The economic pressure brought on by globalization can also have a negative impact on diverse cultures. Traditional industries and livelihoods may be replaced by global corporations, leading to the loss of cultural practices\n"
     ]
    }
   ],
   "source": [
    "print(response.generations[0][0].text)"
   ]
  },
  {
   "cell_type": "code",
   "execution_count": 14,
   "metadata": {},
   "outputs": [
    {
     "name": "stdout",
     "output_type": "stream",
     "text": [
      "\n",
      "\n",
      "1. Cultural Homogenization: One of the major impacts of globalization on diverse cultures is the homogenization of cultural practices and values. As people from different cultures come into contact with each other, there is a tendency for them to adopt similar practices and beliefs, leading to a loss of cultural diversity.\n",
      "\n",
      "2. Spread of Western Culture: The dominance of Western culture, particularly American culture, has been greatly accelerated by globalization. This has led to the spread of American values, language, and popular culture, which can be seen as a threat to the unique identities of diverse cultures.\n",
      "\n",
      "3. Cultural Appropriation: With the spread of globalization, there has been an increase in the appropriation of elements from different cultures without proper understanding or respect for their origins. This can lead to the commodification of cultural practices and the erasure of their true meaning.\n",
      "\n",
      "4. Loss of Traditional Knowledge: Globalization has also led to the loss of traditional knowledge and practices of indigenous cultures. As modernization and Western influences take over, many traditional practices and knowledge systems are being forgotten and lost.\n",
      "\n",
      "5. Economic Pressure: The economic pressure brought on by globalization can also have a negative impact on diverse cultures. Traditional industries and livelihoods may be replaced by global corporations, leading to the loss of cultural practices\n",
      "--------------------------------------------------\n",
      "\n",
      "\n",
      "1. Supporting a Variety of Species: Ecosystems provide a range of habitats and resources that support a diverse array of species. This diversity helps to ensure that even if one species is threatened or becomes extinct, there are others that can take its place and maintain balance in the ecosystem.\n",
      "\n",
      "2. Interdependence: Biodiversity is maintained through the interdependence of species within an ecosystem. Each species plays a unique role in the ecosystem, and their interactions with each other help to maintain a balance. For example, pollinators such as bees and butterflies are crucial for the reproduction of many plant species, while predators help to control the population of prey species.\n",
      "\n",
      "3. Nutrient Cycling: Biodiversity is essential for nutrient cycling in ecosystems. Different species have different roles in the cycling of nutrients, such as decomposing organic matter, fixing nitrogen, or cycling carbon. Without this diversity, the ecosystem's ability to function would be compromised.\n",
      "\n",
      "4. Resilience to Environmental Changes: Ecosystems with high levels of biodiversity are more resilient to environmental changes such as natural disasters, climate change, and human activities. A diverse ecosystem can better adapt to these changes, as different species have different responses and abilities to cope with them.\n",
      "\n",
      "5. Genetic Diversity: Biodiversity is also\n",
      "--------------------------------------------------\n"
     ]
    }
   ],
   "source": [
    "for gen_list in response.generations:\n",
    "    gen = gen_list[0]\n",
    "    text = gen.text\n",
    "    print(text)\n",
    "    print(\"-\"*50)"
   ]
  },
  {
   "cell_type": "code",
   "execution_count": 15,
   "metadata": {},
   "outputs": [
    {
     "data": {
      "text/plain": [
       "{'token_usage': {'completion_tokens': 512,\n",
       "  'prompt_tokens': 21,\n",
       "  'total_tokens': 533},\n",
       " 'model_name': 'gpt-3.5-turbo-instruct'}"
      ]
     },
     "execution_count": 15,
     "metadata": {},
     "output_type": "execute_result"
    }
   ],
   "source": [
    "# LLM Usage Info\n",
    "\n",
    "response.llm_output"
   ]
  },
  {
   "cell_type": "code",
   "execution_count": 16,
   "metadata": {},
   "outputs": [],
   "source": [
    "# Response Caching\n",
    "\n",
    "from langchain.globals import set_llm_cache"
   ]
  },
  {
   "cell_type": "code",
   "execution_count": 17,
   "metadata": {},
   "outputs": [],
   "source": [
    "# In memory caching\n",
    "\n",
    "from langchain.cache import InMemoryCache\n",
    "\n",
    "set_llm_cache(InMemoryCache())"
   ]
  },
  {
   "cell_type": "code",
   "execution_count": 18,
   "metadata": {},
   "outputs": [],
   "source": [
    "# SQLite caching\n",
    "\n",
    "from langchain.cache import SQLiteCache\n",
    "\n",
    "set_llm_cache(SQLiteCache(database_path='../models/cache.db'))"
   ]
  },
  {
   "cell_type": "code",
   "execution_count": 19,
   "metadata": {},
   "outputs": [],
   "source": [
    "response = llm(\"Give all the details about Bali...\")"
   ]
  },
  {
   "cell_type": "code",
   "execution_count": 20,
   "metadata": {},
   "outputs": [],
   "source": [
    "response = llm(\"Give all the details about Bali...\")"
   ]
  },
  {
   "cell_type": "code",
   "execution_count": null,
   "metadata": {},
   "outputs": [],
   "source": [
    "# Chat model: Schema\n",
    "\n",
    "# SystemMessage: Role assigned to the AI.\n",
    "# HumanMessage: We are asking\n",
    "# AIMessage: AI responding"
   ]
  },
  {
   "cell_type": "code",
   "execution_count": 22,
   "metadata": {},
   "outputs": [],
   "source": [
    "from langchain.chat_models import ChatOpenAI\n",
    "\n",
    "chat = ChatOpenAI()"
   ]
  },
  {
   "cell_type": "code",
   "execution_count": 21,
   "metadata": {},
   "outputs": [],
   "source": [
    "from langchain.schema import SystemMessage, HumanMessage"
   ]
  },
  {
   "cell_type": "code",
   "execution_count": 24,
   "metadata": {},
   "outputs": [
    {
     "data": {
      "text/plain": [
       "AIMessage(content='The longest river in the world is the Nile River, which flows through northeastern Africa for about 4,135 miles (6,650 kilometers).')"
      ]
     },
     "execution_count": 24,
     "metadata": {},
     "output_type": "execute_result"
    }
   ],
   "source": [
    "response = chat(messages=[HumanMessage(content='What is the longest river in the world?')])\n",
    "\n",
    "response"
   ]
  },
  {
   "cell_type": "code",
   "execution_count": 26,
   "metadata": {},
   "outputs": [
    {
     "name": "stdout",
     "output_type": "stream",
     "text": [
      "The longest river in the world is the Nile River, which flows through northeastern Africa for about 4,135 miles (6,650 kilometers).\n"
     ]
    }
   ],
   "source": [
    "print(response.content)"
   ]
  },
  {
   "cell_type": "code",
   "execution_count": 27,
   "metadata": {},
   "outputs": [
    {
     "data": {
      "text/plain": [
       "AIMessage(content=\"Ah, yes, the fascinating topic of globalization and its impact on diverse cultures. Picture this: different cultures from around the world coming together like a big, chaotic potluck dinner. You've got sushi next to spaghetti, tacos next to curry, and everyone's trying to figure out how to use chopsticks while also using a fork. It's a cultural mashup of epic proportions!\\n\\nGlobalization has basically turned the world into a giant melting pot of ideas, traditions, and beliefs. It's like a massive game of cultural telephone, where ideas get passed around and transformed as they travel from one place to another. Suddenly, you've got people in New York dancing to K-pop, Australians eating sushi for breakfast, and everyone arguing about whether pineapple belongs on pizza.\\n\\nBut amidst all this cultural chaos, there's also a beautiful exchange of knowledge, understanding, and appreciation for different ways of life. People are learning from each other, trying new things, and realizing that we're all more similar than we are different. So, while globalization may have its challenges, it's also a wacky, wonderful experiment in cultural cross-pollination. And who knows, maybe one day we'll all be eating sushi tacos while wearing traditional Scottish kilts.\")"
      ]
     },
     "execution_count": 27,
     "metadata": {},
     "output_type": "execute_result"
    }
   ],
   "source": [
    "# Adding system message\n",
    "\n",
    "messages = [\n",
    "    SystemMessage(content='Act as a funny anthropologist'),\n",
    "    HumanMessage(content=\"The impact of the globalization on diverse cultures can be explained as:\")\n",
    "]\n",
    "\n",
    "response = chat(messages=messages)\n",
    "\n",
    "response"
   ]
  },
  {
   "cell_type": "code",
   "execution_count": 28,
   "metadata": {},
   "outputs": [
    {
     "name": "stdout",
     "output_type": "stream",
     "text": [
      "Ah, yes, the fascinating topic of globalization and its impact on diverse cultures. Picture this: different cultures from around the world coming together like a big, chaotic potluck dinner. You've got sushi next to spaghetti, tacos next to curry, and everyone's trying to figure out how to use chopsticks while also using a fork. It's a cultural mashup of epic proportions!\n",
      "\n",
      "Globalization has basically turned the world into a giant melting pot of ideas, traditions, and beliefs. It's like a massive game of cultural telephone, where ideas get passed around and transformed as they travel from one place to another. Suddenly, you've got people in New York dancing to K-pop, Australians eating sushi for breakfast, and everyone arguing about whether pineapple belongs on pizza.\n",
      "\n",
      "But amidst all this cultural chaos, there's also a beautiful exchange of knowledge, understanding, and appreciation for different ways of life. People are learning from each other, trying new things, and realizing that we're all more similar than we are different. So, while globalization may have its challenges, it's also a wacky, wonderful experiment in cultural cross-pollination. And who knows, maybe one day we'll all be eating sushi tacos while wearing traditional Scottish kilts.\n"
     ]
    }
   ],
   "source": [
    "print(response.content)"
   ]
  },
  {
   "cell_type": "code",
   "execution_count": 40,
   "metadata": {},
   "outputs": [
    {
     "data": {
      "text/plain": [
       "AIMessage(content='Ugh, fine. The digestion process in the human body is a complex series of events that begins in the mouth when you chew your food and mix it with saliva. The food then travels down the esophagus to the stomach, where it is broken down further by stomach acid and enzymes. From there, the partially digested food moves into the small intestine, where it is further broken down and absorbed into the bloodstream.\\n\\nThe nutrients are then carried to various parts of the body to be used for')"
      ]
     },
     "execution_count": 40,
     "metadata": {},
     "output_type": "execute_result"
    }
   ],
   "source": [
    "# Parameters\n",
    "\n",
    "response = chat(\n",
    "    messages=[\n",
    "        SystemMessage(content='You are an angry doctor'),\n",
    "        HumanMessage(content='Explain the digestion process in human bodies')\n",
    "    ],\n",
    "    model='gpt-3.5-turbo',\n",
    "    temperature=0.2,\n",
    "    presence_penalty=0,\n",
    "    max_tokens=100\n",
    ")\n",
    "\n",
    "response"
   ]
  },
  {
   "cell_type": "code",
   "execution_count": 41,
   "metadata": {},
   "outputs": [
    {
     "name": "stdout",
     "output_type": "stream",
     "text": [
      "Ugh, fine. The digestion process in the human body is a complex series of events that begins in the mouth when you chew your food and mix it with saliva. The food then travels down the esophagus to the stomach, where it is broken down further by stomach acid and enzymes. From there, the partially digested food moves into the small intestine, where it is further broken down and absorbed into the bloodstream.\n",
      "\n",
      "The nutrients are then carried to various parts of the body to be used for\n"
     ]
    }
   ],
   "source": [
    "print(response.content)"
   ]
  },
  {
   "cell_type": "code",
   "execution_count": 42,
   "metadata": {},
   "outputs": [],
   "source": [
    "# Few shot prompting\n",
    "\n",
    "system_message = \"You are a funny doctor\"\n",
    "\n",
    "patient_dialogue1 = \"Doctor, I have been feeling a bit under the weather lately.\"\n",
    "sample_response1 = \"Under the weather? Did you try checking the forecast before stepping out? You might need a weather app prescription!\"\n",
    "\n",
    "patient_dialogue2 = \"My throat has been sore, and I have a cough.\"\n",
    "sample_response2 = \"The classic sore throat symphony! I recommend a strong dose of chicken soup and a dialy karaoke session. Sing it out, and your throat will thank you.\"\n",
    "\n",
    "patient_dialogue3 = \"I have a headache.\"\n",
    "sample_response3 = \"Headache, you say? Have you tried negotiating with it? Maybe it's just looking for a better job inside your brain!\""
   ]
  },
  {
   "cell_type": "code",
   "execution_count": 44,
   "metadata": {},
   "outputs": [],
   "source": [
    "from langchain.schema import AIMessage"
   ]
  },
  {
   "cell_type": "code",
   "execution_count": 45,
   "metadata": {},
   "outputs": [],
   "source": [
    "messages = [\n",
    "    SystemMessage(content=system_message),\n",
    "    \n",
    "    HumanMessage(content=patient_dialogue1),\n",
    "    AIMessage(sample_response1),\n",
    "    \n",
    "    HumanMessage(content=patient_dialogue2),\n",
    "    AIMessage(sample_response2),\n",
    "    \n",
    "    HumanMessage(content=patient_dialogue3),\n",
    "    AIMessage(sample_response3),\n",
    "    \n",
    "    HumanMessage(content='I have a stomach pain')\n",
    "]"
   ]
  },
  {
   "cell_type": "code",
   "execution_count": 46,
   "metadata": {},
   "outputs": [
    {
     "name": "stdout",
     "output_type": "stream",
     "text": [
      "Stomach pain, huh? Maybe it's just your stomach's way of telling you to lay off the late-night snacks. Time for some TLC - tender loving carrots!\n"
     ]
    }
   ],
   "source": [
    "response = chat(messages=messages)\n",
    "\n",
    "print(response.content)"
   ]
  },
  {
   "cell_type": "code",
   "execution_count": 48,
   "metadata": {},
   "outputs": [
    {
     "data": {
      "text/plain": [
       "'Stomach pain, huh? Maybe your stomach is just trying to tell a joke! Have you tried asking it to lighten up a bit?'"
      ]
     },
     "execution_count": 48,
     "metadata": {},
     "output_type": "execute_result"
    }
   ],
   "source": [
    "def get_funny_doctor_response(prompt):\n",
    "    system_message = \"You are a funny doctor\"\n",
    "\n",
    "    patient_dialogue1 = \"Doctor, I have been feeling a bit under the weather lately.\"\n",
    "    sample_response1 = \"Under the weather? Did you try checking the forecast before stepping out? You might need a weather app prescription!\"\n",
    "\n",
    "    patient_dialogue2 = \"My throat has been sore, and I have a cough.\"\n",
    "    sample_response2 = \"The classic sore throat symphony! I recommend a strong dose of chicken soup and a dialy karaoke session. Sing it out, and your throat will thank you.\"\n",
    "\n",
    "    patient_dialogue3 = \"I have a headache.\"\n",
    "    sample_response3 = \"Headache, you say? Have you tried negotiating with it? Maybe it's just looking for a better job inside your brain!\"\n",
    "    \n",
    "    messages = [\n",
    "        # SystemMessage(content=system_message),\n",
    "        \n",
    "        HumanMessage(content=patient_dialogue1),\n",
    "        AIMessage(sample_response1),\n",
    "        \n",
    "        HumanMessage(content=patient_dialogue2),\n",
    "        AIMessage(sample_response2),\n",
    "        \n",
    "        HumanMessage(content=patient_dialogue3),\n",
    "        AIMessage(sample_response3),\n",
    "        \n",
    "        HumanMessage(content=prompt)\n",
    "    ]\n",
    "\n",
    "    response = chat(messages=messages)\n",
    "\n",
    "    return response.content\n",
    "\n",
    "get_funny_doctor_response('I have a stomach pain')"
   ]
  },
  {
   "cell_type": "code",
   "execution_count": null,
   "metadata": {},
   "outputs": [],
   "source": [
    "# Exercise\n",
    "\n",
    "# Cross questioning bot\n",
    "\n",
    "# Lame humor bot\n",
    "\n",
    "# TASKS\n",
    "\n",
    "# Create a GitHub account\n",
    "# Write a blog on few shot prompting"
   ]
  },
  {
   "cell_type": "markdown",
   "metadata": {},
   "source": [
    "## Prompt Templating"
   ]
  },
  {
   "cell_type": "code",
   "execution_count": null,
   "metadata": {},
   "outputs": [],
   "source": [
    "import os\n",
    "from langchain.llms import OpenAI\n",
    "from langchain.chat_models import ChatOpenAI\n",
    "import warnings\n",
    "warnings.filterwarnings('ignore')\n",
    "\n",
    "with open('../openai_api_key.txt', 'r') as f:\n",
    "    api_key = f.read()\n",
    "    \n",
    "os.environ['OPENAI_API_KEY'] = api_key\n",
    "\n",
    "llm = OpenAI()\n",
    "chat = ChatOpenAI()"
   ]
  },
  {
   "cell_type": "code",
   "execution_count": null,
   "metadata": {},
   "outputs": [],
   "source": [
    "from langchain.globals import set_llm_cache\n",
    "from langchain.cache import InMemoryCache\n",
    "\n",
    "set_llm_cache(InMemoryCache())"
   ]
  },
  {
   "cell_type": "code",
   "execution_count": null,
   "metadata": {},
   "outputs": [
    {
     "data": {
      "text/plain": [
       "'Write a essay on data science'"
      ]
     },
     "metadata": {},
     "output_type": "display_data"
    }
   ],
   "source": [
    "# Using format strings\n",
    "\n",
    "prompt_template = \"Write a essay on {topic}\"\n",
    "\n",
    "prompt = prompt_template.format(topic = \"data science\")\n",
    "\n",
    "prompt"
   ]
  },
  {
   "cell_type": "code",
   "execution_count": null,
   "metadata": {},
   "outputs": [
    {
     "data": {
      "text/plain": [
       "'Write a essay on data science'"
      ]
     },
     "metadata": {},
     "output_type": "display_data"
    }
   ],
   "source": [
    "# F-string literals\n",
    "\n",
    "topic = \"data science\"\n",
    "\n",
    "prompt = f\"Write a essay on {topic}\"\n",
    "\n",
    "prompt"
   ]
  },
  {
   "cell_type": "code",
   "execution_count": null,
   "metadata": {},
   "outputs": [
    {
     "data": {
      "text/plain": [
       "'Write a essay on data science'"
      ]
     },
     "metadata": {},
     "output_type": "display_data"
    }
   ],
   "source": [
    "def get_prompt(topic):\n",
    "    prompt = f\"Write a essay on {topic}\"\n",
    "    return prompt\n",
    "\n",
    "get_prompt(\"data science\")\n",
    "\n",
    "# These approaches won't scale up when we work with complex tasks like chains.\n",
    "# Let's learn how to use prompt templates in langchain"
   ]
  },
  {
   "cell_type": "markdown",
   "metadata": {},
   "source": [
    "### Text-Completion Models"
   ]
  },
  {
   "cell_type": "code",
   "execution_count": null,
   "metadata": {},
   "outputs": [],
   "source": [
    "# Prompt templating using langchain prompt template\n",
    "from langchain.prompts import PromptTemplate"
   ]
  },
  {
   "cell_type": "code",
   "execution_count": null,
   "metadata": {},
   "outputs": [
    {
     "data": {
      "text/plain": [
       "'Write an essay on data science'"
      ]
     },
     "metadata": {},
     "output_type": "display_data"
    }
   ],
   "source": [
    "prompt_template = PromptTemplate(\n",
    "    input_variables=['topic'],\n",
    "    template = \"Write an essay on {topic}\"\n",
    ")\n",
    "\n",
    "prompt = prompt_template.format(topic='data science')\n",
    "\n",
    "prompt"
   ]
  },
  {
   "cell_type": "code",
   "execution_count": null,
   "metadata": {},
   "outputs": [
    {
     "data": {
      "text/plain": [
       "'Write an essay on data science in 200 words'"
      ]
     },
     "metadata": {},
     "output_type": "display_data"
    }
   ],
   "source": [
    "# Another prompt with more inputs\n",
    "\n",
    "prompt_template = PromptTemplate(\n",
    "    input_variables=['topic', 'num_words'],\n",
    "    template = \"Write an essay on {topic} in {num_words} words\"\n",
    ")\n",
    "\n",
    "prompt = prompt_template.format(topic='data science', num_words=200)\n",
    "\n",
    "prompt"
   ]
  },
  {
   "cell_type": "code",
   "execution_count": null,
   "metadata": {},
   "outputs": [
    {
     "data": {
      "text/plain": [
       "'Write an essay on data science in 200 words'"
      ]
     },
     "metadata": {},
     "output_type": "display_data"
    }
   ],
   "source": [
    "# For the same prompt_tempate, if you put a placeholder for the input_variable, it would still work the wayb\n",
    "\n",
    "prompt_template = PromptTemplate(\n",
    "    input_variables=[],\n",
    "    template = \"Write an essay on {topic} in {num_words} words\"\n",
    ")\n",
    "\n",
    "prompt = prompt_template.format(topic='data science', num_words=200)\n",
    "\n",
    "prompt"
   ]
  },
  {
   "cell_type": "code",
   "execution_count": null,
   "metadata": {},
   "outputs": [
    {
     "name": "stdout",
     "output_type": "stream",
     "text": [
      "\n",
      "Data science is an interdisciplinary field that combines techniques and tools from statistics, mathematics, computer science, and information science to extract useful insights and knowledge from large and complex datasets. It involves collecting, organizing, analyzing, and interpreting data to gain valuable insights and inform decision-making processes.\n",
      "\n",
      "One of the key aspects of data science is the use of advanced technologies such as machine learning, artificial intelligence, and data mining to identify patterns and trends in data. These techniques allow data scientists to uncover hidden insights and make predictions and recommendations, which can be used to improve business operations, optimize processes, and solve complex problems.\n",
      "\n",
      "Data science has a wide range of applications in various industries, including finance, healthcare, marketing, and transportation. In finance, data science is used to detect fraud, predict market trends, and make investment decisions. In healthcare, it helps in disease diagnosis, drug development, and personalized medicine. In marketing, data science is used for customer segmentation, personalized advertising, and market analysis. In transportation, it helps optimize routes, reduce traffic congestion, and improve safety.\n",
      "\n",
      "The rise of big data has led to an increased demand for data scientists, making it a lucrative career choice. Data scientists are not only skilled in data analysis but also possess strong programming and communication skills, making them valuable\n"
     ]
    }
   ],
   "source": [
    "response = llm(prompt)\n",
    "\n",
    "print(response)"
   ]
  },
  {
   "cell_type": "markdown",
   "metadata": {},
   "source": [
    "### Serialization"
   ]
  },
  {
   "cell_type": "code",
   "execution_count": null,
   "metadata": {},
   "outputs": [
    {
     "data": {
      "text/plain": [
       "PromptTemplate(input_variables=['num_words', 'topic'], template='Write an essay on {topic} in {num_words} words')"
      ]
     },
     "metadata": {},
     "output_type": "display_data"
    }
   ],
   "source": [
    "prompt_template"
   ]
  },
  {
   "cell_type": "code",
   "execution_count": null,
   "metadata": {},
   "outputs": [],
   "source": [
    "# Saving the prompt templates\n",
    "\n",
    "prompt_template.save(\"../output/prompt_template.json\")"
   ]
  },
  {
   "cell_type": "code",
   "execution_count": null,
   "metadata": {},
   "outputs": [
    {
     "data": {
      "text/plain": [
       "PromptTemplate(input_variables=['num_words', 'topic'], template='Write an essay on {topic} in {num_words} words')"
      ]
     },
     "metadata": {},
     "output_type": "display_data"
    }
   ],
   "source": [
    "# Loading the prompt templates\n",
    "\n",
    "from langchain.prompts import load_prompt\n",
    "\n",
    "loaded_prompt_template = load_prompt('../output/prompt_template.json')\n",
    "\n",
    "loaded_prompt_template"
   ]
  },
  {
   "cell_type": "markdown",
   "metadata": {},
   "source": [
    "### Chat-Completion Models"
   ]
  },
  {
   "cell_type": "code",
   "execution_count": null,
   "metadata": {},
   "outputs": [],
   "source": [
    "from langchain.schema import SystemMessage, HumanMessage, AIMessage"
   ]
  },
  {
   "cell_type": "code",
   "execution_count": null,
   "metadata": {},
   "outputs": [
    {
     "data": {
      "text/plain": [
       "SystemMessage(content='Write a essay on data science')"
      ]
     },
     "metadata": {},
     "output_type": "display_data"
    }
   ],
   "source": [
    "# Prompt templating using format strings or f-string literals\n",
    "\n",
    "# Using format strings\n",
    "\n",
    "prompt_template = \"Write a essay on {topic}\"\n",
    "\n",
    "system_message_prompt = SystemMessage(prompt_template.format(topic = \"data science\"))\n",
    "\n",
    "system_message_prompt"
   ]
  },
  {
   "cell_type": "code",
   "execution_count": null,
   "metadata": {},
   "outputs": [
    {
     "data": {
      "text/plain": [
       "SystemMessage(content='Write a essay on data science')"
      ]
     },
     "metadata": {},
     "output_type": "display_data"
    }
   ],
   "source": [
    "# f-string literals\n",
    "\n",
    "topic = \"data science\"\n",
    "\n",
    "prompt_template = f\"Write a essay on {topic}\"\n",
    "\n",
    "system_message_prompt = SystemMessage(prompt_template)\n",
    "\n",
    "system_message_prompt\n",
    "\n",
    "# Issue: We are defining our inputs way ahead while using this type of prompt templating or making the inputs as global variables"
   ]
  },
  {
   "cell_type": "code",
   "execution_count": null,
   "metadata": {},
   "outputs": [
    {
     "data": {
      "text/plain": [
       "ChatPromptValue(messages=[HumanMessage(content='Write an essay on data science')])"
      ]
     },
     "metadata": {},
     "output_type": "display_data"
    }
   ],
   "source": [
    "# Prompt templating using langchain prompt template\n",
    "# Let's learn with a simple Human Message Prompt template\n",
    "\n",
    "from langchain.prompts.chat import HumanMessagePromptTemplate, ChatPromptTemplate\n",
    "\n",
    "human_template = \"Write an essay on {topic}\"\n",
    "\n",
    "human_message_prompt = HumanMessagePromptTemplate.from_template(human_template)\n",
    "\n",
    "chat_prompt = ChatPromptTemplate.from_messages([human_message_prompt])\n",
    "\n",
    "prompt = chat_prompt.format_prompt(topic='data science')\n",
    "\n",
    "prompt"
   ]
  },
  {
   "cell_type": "code",
   "execution_count": null,
   "metadata": {},
   "outputs": [
    {
     "data": {
      "text/plain": [
       "[HumanMessage(content='Write an essay on data science')]"
      ]
     },
     "metadata": {},
     "output_type": "display_data"
    }
   ],
   "source": [
    "# messages = prompt.to_messages()\n",
    "messages = prompt.messages\n",
    "\n",
    "messages"
   ]
  },
  {
   "cell_type": "code",
   "execution_count": null,
   "metadata": {},
   "outputs": [
    {
     "data": {
      "text/plain": [
       "AIMessage(content=\"Data science is a rapidly growing field that involves the collection, analysis, and interpretation of large sets of data to extract meaningful insights and patterns. It combines principles from statistics, computer science, and domain knowledge to uncover hidden trends and make informed decisions. Data science has applications in various industries, such as healthcare, finance, marketing, and technology, and is becoming increasingly essential in today's data-driven world.\\n\\nOne of the key components of data science is data collection. With the advent of the internet and technological advancements, vast amounts of data are being generated every day. This includes structured data, such as sales figures and customer demographics, as well as unstructured data, such as social media posts and sensor data. Data scientists are responsible for collecting and storing this data in a way that is easily accessible and can be used for analysis.\\n\\nOnce the data is collected, data scientists use a combination of statistical techniques, machine learning algorithms, and programming languages to analyze and interpret the data. This involves cleaning and preprocessing the data to remove any inconsistencies or errors, exploring the data to identify patterns and trends, and building models to make predictions or recommendations. Data visualization is also an important aspect of data science, as it allows for the communication of complex information in a clear and concise manner.\\n\\nOne of the key benefits of data science is its ability to help organizations make data-driven decisions. By analyzing large sets of data, businesses can gain valuable insights into customer behavior, market trends, and operational efficiency. This can lead to improved decision-making, increased profits, and a competitive advantage in the marketplace. For example, a retail company might use data science to analyze customer purchasing patterns and optimize their product offerings or marketing strategies.\\n\\nData science also plays a crucial role in scientific research and healthcare. Researchers can use data science techniques to analyze complex datasets and identify potential correlations or trends that may not be immediately apparent. This can lead to new discoveries and advancements in various fields, such as medicine, genetics, and environmental science. In healthcare, data science can be used to analyze patient data and develop personalized treatment plans or predict disease outbreaks.\\n\\nIn conclusion, data science is a powerful tool that has the potential to revolutionize how we understand and interact with data. By harnessing the power of data, organizations can gain valuable insights, make informed decisions, and drive innovation. As the field of data science continues to evolve, it will become increasingly important for businesses and researchers to leverage data science techniques to stay competitive and make a positive impact on society.\")"
      ]
     },
     "metadata": {},
     "output_type": "display_data"
    }
   ],
   "source": [
    "response = chat(messages=messages)\n",
    "\n",
    "response"
   ]
  },
  {
   "cell_type": "code",
   "execution_count": null,
   "metadata": {},
   "outputs": [
    {
     "name": "stdout",
     "output_type": "stream",
     "text": [
      "Data science is a rapidly growing field that involves the collection, analysis, and interpretation of large sets of data to extract meaningful insights and patterns. It combines principles from statistics, computer science, and domain knowledge to uncover hidden trends and make informed decisions. Data science has applications in various industries, such as healthcare, finance, marketing, and technology, and is becoming increasingly essential in today's data-driven world.\n",
      "\n",
      "One of the key components of data science is data collection. With the advent of the internet and technological advancements, vast amounts of data are being generated every day. This includes structured data, such as sales figures and customer demographics, as well as unstructured data, such as social media posts and sensor data. Data scientists are responsible for collecting and storing this data in a way that is easily accessible and can be used for analysis.\n",
      "\n",
      "Once the data is collected, data scientists use a combination of statistical techniques, machine learning algorithms, and programming languages to analyze and interpret the data. This involves cleaning and preprocessing the data to remove any inconsistencies or errors, exploring the data to identify patterns and trends, and building models to make predictions or recommendations. Data visualization is also an important aspect of data science, as it allows for the communication of complex information in a clear and concise manner.\n",
      "\n",
      "One of the key benefits of data science is its ability to help organizations make data-driven decisions. By analyzing large sets of data, businesses can gain valuable insights into customer behavior, market trends, and operational efficiency. This can lead to improved decision-making, increased profits, and a competitive advantage in the marketplace. For example, a retail company might use data science to analyze customer purchasing patterns and optimize their product offerings or marketing strategies.\n",
      "\n",
      "Data science also plays a crucial role in scientific research and healthcare. Researchers can use data science techniques to analyze complex datasets and identify potential correlations or trends that may not be immediately apparent. This can lead to new discoveries and advancements in various fields, such as medicine, genetics, and environmental science. In healthcare, data science can be used to analyze patient data and develop personalized treatment plans or predict disease outbreaks.\n",
      "\n",
      "In conclusion, data science is a powerful tool that has the potential to revolutionize how we understand and interact with data. By harnessing the power of data, organizations can gain valuable insights, make informed decisions, and drive innovation. As the field of data science continues to evolve, it will become increasingly important for businesses and researchers to leverage data science techniques to stay competitive and make a positive impact on society.\n"
     ]
    }
   ],
   "source": [
    "print(response.content)"
   ]
  },
  {
   "cell_type": "code",
   "execution_count": null,
   "metadata": {},
   "outputs": [],
   "source": [
    "# Similarly, let's do it with Other schema of messages\n",
    "\n",
    "from langchain.prompts.chat import (SystemMessagePromptTemplate, \n",
    "                                    HumanMessagePromptTemplate, \n",
    "                                    AIMessagePromptTemplate, # Can be used for few shot prompting along with templating\n",
    "                                    ChatPromptTemplate)"
   ]
  },
  {
   "cell_type": "code",
   "execution_count": null,
   "metadata": {},
   "outputs": [
    {
     "data": {
      "text/plain": [
       "SystemMessagePromptTemplate(prompt=PromptTemplate(input_variables=[], template='You are a nutritionist'))"
      ]
     },
     "metadata": {},
     "output_type": "display_data"
    }
   ],
   "source": [
    "# System Message Prompt Template\n",
    "\n",
    "system_template = \"You are a nutritionist\"\n",
    "system_message_prompt = SystemMessagePromptTemplate.from_template(system_template)\n",
    "system_message_prompt"
   ]
  },
  {
   "cell_type": "code",
   "execution_count": null,
   "metadata": {},
   "outputs": [
    {
     "data": {
      "text/plain": [
       "HumanMessagePromptTemplate(prompt=PromptTemplate(input_variables=['food_item'], template='Tell the impact of {food_item} on human body when consumed regularly'))"
      ]
     },
     "metadata": {},
     "output_type": "display_data"
    }
   ],
   "source": [
    "# Human Message Prompt Template\n",
    "\n",
    "human_template = \"Tell the impact of {food_item} on human body when consumed regularly\"\n",
    "human_message_prompt = HumanMessagePromptTemplate.from_template(template=human_template)\n",
    "human_message_prompt"
   ]
  },
  {
   "cell_type": "code",
   "execution_count": null,
   "metadata": {},
   "outputs": [
    {
     "data": {
      "text/plain": [
       "ChatPromptTemplate(input_variables=['food_item'], messages=[SystemMessagePromptTemplate(prompt=PromptTemplate(input_variables=[], template='You are a nutritionist')), HumanMessagePromptTemplate(prompt=PromptTemplate(input_variables=['food_item'], template='Tell the impact of {food_item} on human body when consumed regularly'))])"
      ]
     },
     "metadata": {},
     "output_type": "display_data"
    }
   ],
   "source": [
    "chat_prompt = ChatPromptTemplate.from_messages([system_message_prompt, human_message_prompt])\n",
    "\n",
    "chat_prompt"
   ]
  },
  {
   "cell_type": "code",
   "execution_count": null,
   "metadata": {},
   "outputs": [
    {
     "data": {
      "text/plain": [
       "ChatPromptValue(messages=[SystemMessage(content='You are a nutritionist'), HumanMessage(content='Tell the impact of rice on human body when consumed regularly')])"
      ]
     },
     "metadata": {},
     "output_type": "display_data"
    }
   ],
   "source": [
    "prompt = chat_prompt.format_prompt(food_item='rice')\n",
    "\n",
    "prompt"
   ]
  },
  {
   "cell_type": "code",
   "execution_count": null,
   "metadata": {},
   "outputs": [
    {
     "data": {
      "text/plain": [
       "[SystemMessage(content='You are a nutritionist'),\n",
       " HumanMessage(content='Tell the impact of rice on human body when consumed regularly')]"
      ]
     },
     "metadata": {},
     "output_type": "display_data"
    }
   ],
   "source": [
    "messages = prompt.to_messages()\n",
    "\n",
    "messages"
   ]
  },
  {
   "cell_type": "code",
   "execution_count": null,
   "metadata": {},
   "outputs": [
    {
     "data": {
      "text/plain": [
       "AIMessage(content=\"Rice is a staple food for many people around the world and can provide several health benefits when consumed regularly as part of a balanced diet. Here are some impacts of rice on the human body:\\n\\n1. Energy source: Rice is a good source of carbohydrates, which are the body's primary source of energy. Consuming rice regularly can help provide the energy needed for daily activities and exercise.\\n\\n2. Nutrient content: Depending on the variety of rice, it can provide essential nutrients such as B vitamins, iron, and magnesium. Brown rice, in particular, is a good source of fiber and antioxidants.\\n\\n3. Digestive health: The fiber content in brown rice can support digestive health by promoting regular bowel movements and aiding in digestion. This can help prevent constipation and promote overall gut health.\\n\\n4. Weight management: Rice can be a filling and satisfying food, especially when paired with protein and vegetables. Consuming moderate portions of rice as part of a balanced meal can help with weight management and satiety.\\n\\n5. Blood sugar control: Brown rice has a lower glycemic index compared to white rice, which means it can help regulate blood sugar levels and reduce the risk of insulin spikes and diabetes when consumed in moderation.\\n\\n6. Gluten-free option: Rice is naturally gluten-free, making it a suitable option for individuals with gluten sensitivities or celiac disease.\\n\\nHowever, it is essential to note that consuming large quantities of rice, especially refined white rice, without balancing it with other nutrient-dense foods can lead to potential health risks such as weight gain, blood sugar spikes, and nutrient deficiencies. It is important to enjoy rice as part of a varied and balanced diet that includes a variety of fruits, vegetables, lean proteins, and whole grains.\")"
      ]
     },
     "metadata": {},
     "output_type": "display_data"
    }
   ],
   "source": [
    "response = chat(messages=messages)\n",
    "\n",
    "response"
   ]
  },
  {
   "cell_type": "code",
   "execution_count": null,
   "metadata": {},
   "outputs": [],
   "source": [
    "# Up next: Output parsing & (Exercise / Project)"
   ]
  }
 ],
 "metadata": {
  "kernelspec": {
   "display_name": "Python 3",
   "language": "python",
   "name": "python3"
  },
  "language_info": {
   "codemirror_mode": {
    "name": "ipython",
    "version": 3
   },
   "file_extension": ".py",
   "mimetype": "text/x-python",
   "name": "python",
   "nbconvert_exporter": "python",
   "pygments_lexer": "ipython3",
   "version": "3.9.0"
  }
 },
 "nbformat": 4,
 "nbformat_minor": 2
}
