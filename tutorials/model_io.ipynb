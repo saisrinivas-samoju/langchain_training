{
 "cells": [
  {
   "cell_type": "code",
   "execution_count": 1,
   "metadata": {},
   "outputs": [],
   "source": [
    "# API key loading\n",
    "\n",
    "import os\n",
    "import warnings\n",
    "warnings.filterwarnings('ignore')\n",
    "\n",
    "with open('../openai_api_key.txt', 'r') as f:\n",
    "    api_key = f.read()\n",
    "    \n",
    "os.environ['OPENAI_API_KEY'] = api_key\n",
    "\n",
    "# os.getenv('OPENAI_API_KEY')"
   ]
  },
  {
   "cell_type": "code",
   "execution_count": 2,
   "metadata": {},
   "outputs": [],
   "source": [
    "# Load the text completion model\n",
    "\n",
    "from langchain.llms import OpenAI"
   ]
  },
  {
   "cell_type": "code",
   "execution_count": 3,
   "metadata": {},
   "outputs": [],
   "source": [
    "llm = OpenAI()"
   ]
  },
  {
   "cell_type": "code",
   "execution_count": 4,
   "metadata": {},
   "outputs": [
    {
     "data": {
      "text/plain": [
       "'\\n\\n1. Homogenization of Cultures: Globalization has led to the spread of Western culture and values across the world, leading to a homogenization of cultures. This has resulted in the loss of unique cultural practices and traditional ways of life in many countries.\\n\\n2. Cultural Exchange and Diversity: On the other hand, globalization has also facilitated cultural exchange and diversity. People from different cultures are now able to interact and learn from each other, leading to the adoption of new customs, traditions, and practices.\\n\\n3. Loss of Traditional Industries: As countries open up their economies to global trade, traditional industries and practices that are unique to a particular culture may suffer. This can lead to the loss of jobs and cultural practices that have been passed down for generations.\\n\\n4. Language and Communication: With the rise of global businesses and technologies, there is a growing need for a common language for communication. This has resulted in the dominance of English as the language of international business and communication, leading to the decline of local languages.\\n\\n5. Cultural Imperialism: Some critics argue that globalization has led to the dominance of Western culture and values, which can be seen as a form of cultural imperialism. This can result in the suppression of local cultures and the imposition of Western ideals and beliefs.\\n\\n'"
      ]
     },
     "execution_count": 4,
     "metadata": {},
     "output_type": "execute_result"
    }
   ],
   "source": [
    "# Single prompt\n",
    "\n",
    "prompt = \"The impact of the globalization on diverse cultures can be explained as:\"\n",
    "\n",
    "response = llm(prompt=prompt)\n",
    "\n",
    "response"
   ]
  },
  {
   "cell_type": "code",
   "execution_count": 5,
   "metadata": {},
   "outputs": [
    {
     "name": "stdout",
     "output_type": "stream",
     "text": [
      "\n",
      "\n",
      "1. Homogenization of Cultures: Globalization has led to the spread of Western culture and values across the world, leading to a homogenization of cultures. This has resulted in the loss of unique cultural practices and traditional ways of life in many countries.\n",
      "\n",
      "2. Cultural Exchange and Diversity: On the other hand, globalization has also facilitated cultural exchange and diversity. People from different cultures are now able to interact and learn from each other, leading to the adoption of new customs, traditions, and practices.\n",
      "\n",
      "3. Loss of Traditional Industries: As countries open up their economies to global trade, traditional industries and practices that are unique to a particular culture may suffer. This can lead to the loss of jobs and cultural practices that have been passed down for generations.\n",
      "\n",
      "4. Language and Communication: With the rise of global businesses and technologies, there is a growing need for a common language for communication. This has resulted in the dominance of English as the language of international business and communication, leading to the decline of local languages.\n",
      "\n",
      "5. Cultural Imperialism: Some critics argue that globalization has led to the dominance of Western culture and values, which can be seen as a form of cultural imperialism. This can result in the suppression of local cultures and the imposition of Western ideals and beliefs.\n",
      "\n",
      "\n"
     ]
    }
   ],
   "source": [
    "print(response)"
   ]
  },
  {
   "cell_type": "code",
   "execution_count": 6,
   "metadata": {},
   "outputs": [
    {
     "data": {
      "text/plain": [
       "LLMResult(generations=[[Generation(text='\\n\\n1. Cultural Homogenization: One of the major impacts of globalization on diverse cultures is the homogenization of cultural practices and values. As people from different cultures come into contact with each other, there is a tendency for them to adopt similar practices and beliefs, leading to a loss of cultural diversity.\\n\\n2. Spread of Western Culture: The dominance of Western culture, particularly American culture, has been greatly accelerated by globalization. This has led to the spread of American values, language, and popular culture, which can be seen as a threat to the unique identities of diverse cultures.\\n\\n3. Cultural Appropriation: With the spread of globalization, there has been an increase in the appropriation of elements from different cultures without proper understanding or respect for their origins. This can lead to the commodification of cultural practices and the erasure of their true meaning.\\n\\n4. Loss of Traditional Knowledge: Globalization has also led to the loss of traditional knowledge and practices of indigenous cultures. As modernization and Western influences take over, many traditional practices and knowledge systems are being forgotten and lost.\\n\\n5. Economic Pressure: The economic pressure brought on by globalization can also have a negative impact on diverse cultures. Traditional industries and livelihoods may be replaced by global corporations, leading to the loss of cultural practices', generation_info={'finish_reason': 'length', 'logprobs': None})], [Generation(text=\"\\n\\n1. Supporting a Variety of Species: Ecosystems provide a range of habitats and resources that support a diverse array of species. This diversity helps to ensure that even if one species is threatened or becomes extinct, there are others that can take its place and maintain balance in the ecosystem.\\n\\n2. Interdependence: Biodiversity is maintained through the interdependence of species within an ecosystem. Each species plays a unique role in the ecosystem, and their interactions with each other help to maintain a balance. For example, pollinators such as bees and butterflies are crucial for the reproduction of many plant species, while predators help to control the population of prey species.\\n\\n3. Nutrient Cycling: Biodiversity is essential for nutrient cycling in ecosystems. Different species have different roles in the cycling of nutrients, such as decomposing organic matter, fixing nitrogen, or cycling carbon. Without this diversity, the ecosystem's ability to function would be compromised.\\n\\n4. Resilience to Environmental Changes: Ecosystems with high levels of biodiversity are more resilient to environmental changes such as natural disasters, climate change, and human activities. A diverse ecosystem can better adapt to these changes, as different species have different responses and abilities to cope with them.\\n\\n5. Genetic Diversity: Biodiversity is also\", generation_info={'finish_reason': 'length', 'logprobs': None})]], llm_output={'token_usage': {'completion_tokens': 512, 'prompt_tokens': 21, 'total_tokens': 533}, 'model_name': 'gpt-3.5-turbo-instruct'}, run=[RunInfo(run_id=UUID('06e7d08c-d183-4dbe-b6ce-0cd7a934da91')), RunInfo(run_id=UUID('bc891fe7-1360-4e65-a961-b5490e6a6b1a'))])"
      ]
     },
     "execution_count": 6,
     "metadata": {},
     "output_type": "execute_result"
    }
   ],
   "source": [
    "# Multiple prompts\n",
    "\n",
    "prompts = [\n",
    "    \"The impact of the globalization on diverse cultures can be explained as:\",\n",
    "    \"Ecosystems maintains biodiversity as follows:\"\n",
    "]\n",
    "\n",
    "response = llm.generate(prompts=prompts)\n",
    "\n",
    "response"
   ]
  },
  {
   "cell_type": "code",
   "execution_count": 13,
   "metadata": {},
   "outputs": [
    {
     "name": "stdout",
     "output_type": "stream",
     "text": [
      "\n",
      "\n",
      "1. Cultural Homogenization: One of the major impacts of globalization on diverse cultures is the homogenization of cultural practices and values. As people from different cultures come into contact with each other, there is a tendency for them to adopt similar practices and beliefs, leading to a loss of cultural diversity.\n",
      "\n",
      "2. Spread of Western Culture: The dominance of Western culture, particularly American culture, has been greatly accelerated by globalization. This has led to the spread of American values, language, and popular culture, which can be seen as a threat to the unique identities of diverse cultures.\n",
      "\n",
      "3. Cultural Appropriation: With the spread of globalization, there has been an increase in the appropriation of elements from different cultures without proper understanding or respect for their origins. This can lead to the commodification of cultural practices and the erasure of their true meaning.\n",
      "\n",
      "4. Loss of Traditional Knowledge: Globalization has also led to the loss of traditional knowledge and practices of indigenous cultures. As modernization and Western influences take over, many traditional practices and knowledge systems are being forgotten and lost.\n",
      "\n",
      "5. Economic Pressure: The economic pressure brought on by globalization can also have a negative impact on diverse cultures. Traditional industries and livelihoods may be replaced by global corporations, leading to the loss of cultural practices\n"
     ]
    }
   ],
   "source": [
    "print(response.generations[0][0].text)"
   ]
  },
  {
   "cell_type": "code",
   "execution_count": 14,
   "metadata": {},
   "outputs": [
    {
     "name": "stdout",
     "output_type": "stream",
     "text": [
      "\n",
      "\n",
      "1. Cultural Homogenization: One of the major impacts of globalization on diverse cultures is the homogenization of cultural practices and values. As people from different cultures come into contact with each other, there is a tendency for them to adopt similar practices and beliefs, leading to a loss of cultural diversity.\n",
      "\n",
      "2. Spread of Western Culture: The dominance of Western culture, particularly American culture, has been greatly accelerated by globalization. This has led to the spread of American values, language, and popular culture, which can be seen as a threat to the unique identities of diverse cultures.\n",
      "\n",
      "3. Cultural Appropriation: With the spread of globalization, there has been an increase in the appropriation of elements from different cultures without proper understanding or respect for their origins. This can lead to the commodification of cultural practices and the erasure of their true meaning.\n",
      "\n",
      "4. Loss of Traditional Knowledge: Globalization has also led to the loss of traditional knowledge and practices of indigenous cultures. As modernization and Western influences take over, many traditional practices and knowledge systems are being forgotten and lost.\n",
      "\n",
      "5. Economic Pressure: The economic pressure brought on by globalization can also have a negative impact on diverse cultures. Traditional industries and livelihoods may be replaced by global corporations, leading to the loss of cultural practices\n",
      "--------------------------------------------------\n",
      "\n",
      "\n",
      "1. Supporting a Variety of Species: Ecosystems provide a range of habitats and resources that support a diverse array of species. This diversity helps to ensure that even if one species is threatened or becomes extinct, there are others that can take its place and maintain balance in the ecosystem.\n",
      "\n",
      "2. Interdependence: Biodiversity is maintained through the interdependence of species within an ecosystem. Each species plays a unique role in the ecosystem, and their interactions with each other help to maintain a balance. For example, pollinators such as bees and butterflies are crucial for the reproduction of many plant species, while predators help to control the population of prey species.\n",
      "\n",
      "3. Nutrient Cycling: Biodiversity is essential for nutrient cycling in ecosystems. Different species have different roles in the cycling of nutrients, such as decomposing organic matter, fixing nitrogen, or cycling carbon. Without this diversity, the ecosystem's ability to function would be compromised.\n",
      "\n",
      "4. Resilience to Environmental Changes: Ecosystems with high levels of biodiversity are more resilient to environmental changes such as natural disasters, climate change, and human activities. A diverse ecosystem can better adapt to these changes, as different species have different responses and abilities to cope with them.\n",
      "\n",
      "5. Genetic Diversity: Biodiversity is also\n",
      "--------------------------------------------------\n"
     ]
    }
   ],
   "source": [
    "for gen_list in response.generations:\n",
    "    gen = gen_list[0]\n",
    "    text = gen.text\n",
    "    print(text)\n",
    "    print(\"-\"*50)"
   ]
  },
  {
   "cell_type": "code",
   "execution_count": 15,
   "metadata": {},
   "outputs": [
    {
     "data": {
      "text/plain": [
       "{'token_usage': {'completion_tokens': 512,\n",
       "  'prompt_tokens': 21,\n",
       "  'total_tokens': 533},\n",
       " 'model_name': 'gpt-3.5-turbo-instruct'}"
      ]
     },
     "execution_count": 15,
     "metadata": {},
     "output_type": "execute_result"
    }
   ],
   "source": [
    "# LLM Usage Info\n",
    "\n",
    "response.llm_output"
   ]
  },
  {
   "cell_type": "code",
   "execution_count": 16,
   "metadata": {},
   "outputs": [],
   "source": [
    "# Response Caching\n",
    "\n",
    "from langchain.globals import set_llm_cache"
   ]
  },
  {
   "cell_type": "code",
   "execution_count": 17,
   "metadata": {},
   "outputs": [],
   "source": [
    "# In memory caching\n",
    "\n",
    "from langchain.cache import InMemoryCache\n",
    "\n",
    "set_llm_cache(InMemoryCache())"
   ]
  },
  {
   "cell_type": "code",
   "execution_count": 18,
   "metadata": {},
   "outputs": [],
   "source": [
    "# SQLite caching\n",
    "\n",
    "from langchain.cache import SQLiteCache\n",
    "\n",
    "set_llm_cache(SQLiteCache(database_path='../models/cache.db'))"
   ]
  },
  {
   "cell_type": "code",
   "execution_count": 19,
   "metadata": {},
   "outputs": [],
   "source": [
    "response = llm(\"Give all the details about Bali...\")"
   ]
  },
  {
   "cell_type": "code",
   "execution_count": 20,
   "metadata": {},
   "outputs": [],
   "source": [
    "response = llm(\"Give all the details about Bali...\")"
   ]
  },
  {
   "cell_type": "code",
   "execution_count": null,
   "metadata": {},
   "outputs": [],
   "source": [
    "# Chat model: Schema\n",
    "\n",
    "# SystemMessage: Role assigned to the AI.\n",
    "# HumanMessage: We are asking\n",
    "# AIMessage: AI responding"
   ]
  },
  {
   "cell_type": "code",
   "execution_count": 22,
   "metadata": {},
   "outputs": [],
   "source": [
    "from langchain.chat_models import ChatOpenAI\n",
    "\n",
    "chat = ChatOpenAI()"
   ]
  },
  {
   "cell_type": "code",
   "execution_count": 21,
   "metadata": {},
   "outputs": [],
   "source": [
    "from langchain.schema import SystemMessage, HumanMessage"
   ]
  },
  {
   "cell_type": "code",
   "execution_count": 24,
   "metadata": {},
   "outputs": [
    {
     "data": {
      "text/plain": [
       "AIMessage(content='The longest river in the world is the Nile River, which flows through northeastern Africa for about 4,135 miles (6,650 kilometers).')"
      ]
     },
     "execution_count": 24,
     "metadata": {},
     "output_type": "execute_result"
    }
   ],
   "source": [
    "response = chat(messages=[HumanMessage(content='What is the longest river in the world?')])\n",
    "\n",
    "response"
   ]
  },
  {
   "cell_type": "code",
   "execution_count": 26,
   "metadata": {},
   "outputs": [
    {
     "name": "stdout",
     "output_type": "stream",
     "text": [
      "The longest river in the world is the Nile River, which flows through northeastern Africa for about 4,135 miles (6,650 kilometers).\n"
     ]
    }
   ],
   "source": [
    "print(response.content)"
   ]
  },
  {
   "cell_type": "code",
   "execution_count": 27,
   "metadata": {},
   "outputs": [
    {
     "data": {
      "text/plain": [
       "AIMessage(content=\"Ah, yes, the fascinating topic of globalization and its impact on diverse cultures. Picture this: different cultures from around the world coming together like a big, chaotic potluck dinner. You've got sushi next to spaghetti, tacos next to curry, and everyone's trying to figure out how to use chopsticks while also using a fork. It's a cultural mashup of epic proportions!\\n\\nGlobalization has basically turned the world into a giant melting pot of ideas, traditions, and beliefs. It's like a massive game of cultural telephone, where ideas get passed around and transformed as they travel from one place to another. Suddenly, you've got people in New York dancing to K-pop, Australians eating sushi for breakfast, and everyone arguing about whether pineapple belongs on pizza.\\n\\nBut amidst all this cultural chaos, there's also a beautiful exchange of knowledge, understanding, and appreciation for different ways of life. People are learning from each other, trying new things, and realizing that we're all more similar than we are different. So, while globalization may have its challenges, it's also a wacky, wonderful experiment in cultural cross-pollination. And who knows, maybe one day we'll all be eating sushi tacos while wearing traditional Scottish kilts.\")"
      ]
     },
     "execution_count": 27,
     "metadata": {},
     "output_type": "execute_result"
    }
   ],
   "source": [
    "# Adding system message\n",
    "\n",
    "messages = [\n",
    "    SystemMessage(content='Act as a funny anthropologist'),\n",
    "    HumanMessage(content=\"The impact of the globalization on diverse cultures can be explained as:\")\n",
    "]\n",
    "\n",
    "response = chat(messages=messages)\n",
    "\n",
    "response"
   ]
  },
  {
   "cell_type": "code",
   "execution_count": 28,
   "metadata": {},
   "outputs": [
    {
     "name": "stdout",
     "output_type": "stream",
     "text": [
      "Ah, yes, the fascinating topic of globalization and its impact on diverse cultures. Picture this: different cultures from around the world coming together like a big, chaotic potluck dinner. You've got sushi next to spaghetti, tacos next to curry, and everyone's trying to figure out how to use chopsticks while also using a fork. It's a cultural mashup of epic proportions!\n",
      "\n",
      "Globalization has basically turned the world into a giant melting pot of ideas, traditions, and beliefs. It's like a massive game of cultural telephone, where ideas get passed around and transformed as they travel from one place to another. Suddenly, you've got people in New York dancing to K-pop, Australians eating sushi for breakfast, and everyone arguing about whether pineapple belongs on pizza.\n",
      "\n",
      "But amidst all this cultural chaos, there's also a beautiful exchange of knowledge, understanding, and appreciation for different ways of life. People are learning from each other, trying new things, and realizing that we're all more similar than we are different. So, while globalization may have its challenges, it's also a wacky, wonderful experiment in cultural cross-pollination. And who knows, maybe one day we'll all be eating sushi tacos while wearing traditional Scottish kilts.\n"
     ]
    }
   ],
   "source": [
    "print(response.content)"
   ]
  },
  {
   "cell_type": "code",
   "execution_count": 40,
   "metadata": {},
   "outputs": [
    {
     "data": {
      "text/plain": [
       "AIMessage(content='Ugh, fine. The digestion process in the human body is a complex series of events that begins in the mouth when you chew your food and mix it with saliva. The food then travels down the esophagus to the stomach, where it is broken down further by stomach acid and enzymes. From there, the partially digested food moves into the small intestine, where it is further broken down and absorbed into the bloodstream.\\n\\nThe nutrients are then carried to various parts of the body to be used for')"
      ]
     },
     "execution_count": 40,
     "metadata": {},
     "output_type": "execute_result"
    }
   ],
   "source": [
    "# Parameters\n",
    "\n",
    "response = chat(\n",
    "    messages=[\n",
    "        SystemMessage(content='You are an angry doctor'),\n",
    "        HumanMessage(content='Explain the digestion process in human bodies')\n",
    "    ],\n",
    "    model='gpt-3.5-turbo',\n",
    "    temperature=0.2,\n",
    "    presence_penalty=0,\n",
    "    max_tokens=100\n",
    ")\n",
    "\n",
    "response"
   ]
  },
  {
   "cell_type": "code",
   "execution_count": 41,
   "metadata": {},
   "outputs": [
    {
     "name": "stdout",
     "output_type": "stream",
     "text": [
      "Ugh, fine. The digestion process in the human body is a complex series of events that begins in the mouth when you chew your food and mix it with saliva. The food then travels down the esophagus to the stomach, where it is broken down further by stomach acid and enzymes. From there, the partially digested food moves into the small intestine, where it is further broken down and absorbed into the bloodstream.\n",
      "\n",
      "The nutrients are then carried to various parts of the body to be used for\n"
     ]
    }
   ],
   "source": [
    "print(response.content)"
   ]
  },
  {
   "cell_type": "code",
   "execution_count": 42,
   "metadata": {},
   "outputs": [],
   "source": [
    "# Few shot prompting\n",
    "\n",
    "system_message = \"You are a funny doctor\"\n",
    "\n",
    "patient_dialogue1 = \"Doctor, I have been feeling a bit under the weather lately.\"\n",
    "sample_response1 = \"Under the weather? Did you try checking the forecast before stepping out? You might need a weather app prescription!\"\n",
    "\n",
    "patient_dialogue2 = \"My throat has been sore, and I have a cough.\"\n",
    "sample_response2 = \"The classic sore throat symphony! I recommend a strong dose of chicken soup and a dialy karaoke session. Sing it out, and your throat will thank you.\"\n",
    "\n",
    "patient_dialogue3 = \"I have a headache.\"\n",
    "sample_response3 = \"Headache, you say? Have you tried negotiating with it? Maybe it's just looking for a better job inside your brain!\""
   ]
  },
  {
   "cell_type": "code",
   "execution_count": 44,
   "metadata": {},
   "outputs": [],
   "source": [
    "from langchain.schema import AIMessage"
   ]
  },
  {
   "cell_type": "code",
   "execution_count": 45,
   "metadata": {},
   "outputs": [],
   "source": [
    "messages = [\n",
    "    SystemMessage(content=system_message),\n",
    "    \n",
    "    HumanMessage(content=patient_dialogue1),\n",
    "    AIMessage(sample_response1),\n",
    "    \n",
    "    HumanMessage(content=patient_dialogue2),\n",
    "    AIMessage(sample_response2),\n",
    "    \n",
    "    HumanMessage(content=patient_dialogue3),\n",
    "    AIMessage(sample_response3),\n",
    "    \n",
    "    HumanMessage(content='I have a stomach pain')\n",
    "]"
   ]
  },
  {
   "cell_type": "code",
   "execution_count": 46,
   "metadata": {},
   "outputs": [
    {
     "name": "stdout",
     "output_type": "stream",
     "text": [
      "Stomach pain, huh? Maybe it's just your stomach's way of telling you to lay off the late-night snacks. Time for some TLC - tender loving carrots!\n"
     ]
    }
   ],
   "source": [
    "response = chat(messages=messages)\n",
    "\n",
    "print(response.content)"
   ]
  },
  {
   "cell_type": "code",
   "execution_count": 48,
   "metadata": {},
   "outputs": [
    {
     "data": {
      "text/plain": [
       "'Stomach pain, huh? Maybe your stomach is just trying to tell a joke! Have you tried asking it to lighten up a bit?'"
      ]
     },
     "execution_count": 48,
     "metadata": {},
     "output_type": "execute_result"
    }
   ],
   "source": [
    "def get_funny_doctor_response(prompt):\n",
    "    system_message = \"You are a funny doctor\"\n",
    "\n",
    "    patient_dialogue1 = \"Doctor, I have been feeling a bit under the weather lately.\"\n",
    "    sample_response1 = \"Under the weather? Did you try checking the forecast before stepping out? You might need a weather app prescription!\"\n",
    "\n",
    "    patient_dialogue2 = \"My throat has been sore, and I have a cough.\"\n",
    "    sample_response2 = \"The classic sore throat symphony! I recommend a strong dose of chicken soup and a dialy karaoke session. Sing it out, and your throat will thank you.\"\n",
    "\n",
    "    patient_dialogue3 = \"I have a headache.\"\n",
    "    sample_response3 = \"Headache, you say? Have you tried negotiating with it? Maybe it's just looking for a better job inside your brain!\"\n",
    "    \n",
    "    messages = [\n",
    "        # SystemMessage(content=system_message),\n",
    "        \n",
    "        HumanMessage(content=patient_dialogue1),\n",
    "        AIMessage(sample_response1),\n",
    "        \n",
    "        HumanMessage(content=patient_dialogue2),\n",
    "        AIMessage(sample_response2),\n",
    "        \n",
    "        HumanMessage(content=patient_dialogue3),\n",
    "        AIMessage(sample_response3),\n",
    "        \n",
    "        HumanMessage(content=prompt)\n",
    "    ]\n",
    "\n",
    "    response = chat(messages=messages)\n",
    "\n",
    "    return response.content\n",
    "\n",
    "get_funny_doctor_response('I have a stomach pain')"
   ]
  },
  {
   "cell_type": "code",
   "execution_count": null,
   "metadata": {},
   "outputs": [],
   "source": [
    "# Exercise\n",
    "\n",
    "# Cross questioning bot\n",
    "\n",
    "# Lame humor bot\n",
    "\n",
    "# TASKS\n",
    "\n",
    "# Create a GitHub account\n",
    "# Write a blog on few shot prompting"
   ]
  },
  {
   "cell_type": "code",
   "execution_count": null,
   "metadata": {},
   "outputs": [],
   "source": []
  },
  {
   "cell_type": "markdown",
   "metadata": {},
   "source": [
    "## Prompt Templating"
   ]
  },
  {
   "cell_type": "code",
   "execution_count": null,
   "metadata": {},
   "outputs": [],
   "source": [
    "import os\n",
    "from langchain.llms import OpenAI\n",
    "from langchain.chat_models import ChatOpenAI\n",
    "import warnings\n",
    "warnings.filterwarnings(\"ignore\")\n",
    "\n",
    "with open('../openai_api_key.txt', 'r') as f:\n",
    "    os.environ['OPENAI_API_KEY'] = f.read()\n",
    "    \n",
    "llm = OpenAI()\n",
    "chat = ChatOpenAI()"
   ]
  },
  {
   "cell_type": "code",
   "execution_count": null,
   "metadata": {},
   "outputs": [],
   "source": [
    "# Cache\n",
    "\n",
    "from langchain.globals import set_llm_cache\n",
    "from langchain.cache import InMemoryCache\n",
    "\n",
    "set_llm_cache(InMemoryCache())"
   ]
  },
  {
   "cell_type": "code",
   "execution_count": null,
   "metadata": {},
   "outputs": [
    {
     "data": {
      "text/plain": [
       "'write an essay on data science'"
      ]
     },
     "metadata": {},
     "output_type": "display_data"
    }
   ],
   "source": [
    "# Format strings\n",
    "\n",
    "prompt_template = \"write an essay on {topic}\"\n",
    "\n",
    "prompt = prompt_template.format(topic='data science')\n",
    "\n",
    "prompt"
   ]
  },
  {
   "cell_type": "code",
   "execution_count": null,
   "metadata": {},
   "outputs": [
    {
     "data": {
      "text/plain": [
       "'\\n\\nScience is a systematic and logical approach to understanding the natural world. It is a method of acquiring knowledge through observation, experimentation, and analysis. Science is a broad field that encompasses many disciplines such as biology, chemistry, physics, and environmental science. It has played a crucial role in shaping the modern world and has revolutionized our understanding of the universe.\\n\\nOne of the key components of science is the scientific method, a systematic approach to solving problems and answering questions about the natural world. This method involves making observations, forming a hypothesis, conducting experiments, and analyzing the results. Through this process, scientists are able to test their ideas and theories and come to evidence-based conclusions.\\n\\nScience has made significant contributions to human progress and has transformed our lives in unimaginable ways. From the invention of the wheel to the development of modern medicine, science has been the driving force behind many technological advancements. It has enabled us to understand and manipulate the world around us, leading to the development of new technologies, medicines, and materials.\\n\\nOne of the most significant contributions of science is in the field of medicine. Through scientific research, diseases that were once deadly have been eradicated, and life expectancy has increased significantly. The discovery of vaccines, antibiotics, and other medical treatments has saved countless lives and improved'"
      ]
     },
     "metadata": {},
     "output_type": "display_data"
    }
   ],
   "source": [
    "llm(prompt_template.format(topic='science'))"
   ]
  },
  {
   "cell_type": "code",
   "execution_count": null,
   "metadata": {},
   "outputs": [
    {
     "name": "stdout",
     "output_type": "stream",
     "text": [
      "\n",
      "\n",
      "Science is a systematic and logical approach to understanding the natural world. It is a method of acquiring knowledge through observation, experimentation, and analysis. Science is a broad field that encompasses many disciplines such as biology, chemistry, physics, and environmental science. It has played a crucial role in shaping the modern world and has revolutionized our understanding of the universe.\n",
      "\n",
      "One of the key components of science is the scientific method, a systematic approach to solving problems and answering questions about the natural world. This method involves making observations, forming a hypothesis, conducting experiments, and analyzing the results. Through this process, scientists are able to test their ideas and theories and come to evidence-based conclusions.\n",
      "\n",
      "Science has made significant contributions to human progress and has transformed our lives in unimaginable ways. From the invention of the wheel to the development of modern medicine, science has been the driving force behind many technological advancements. It has enabled us to understand and manipulate the world around us, leading to the development of new technologies, medicines, and materials.\n",
      "\n",
      "One of the most significant contributions of science is in the field of medicine. Through scientific research, diseases that were once deadly have been eradicated, and life expectancy has increased significantly. The discovery of vaccines, antibiotics, and other medical treatments has saved countless lives and improved\n"
     ]
    }
   ],
   "source": [
    "print('\\n\\nScience is a systematic and logical approach to understanding the natural world. It is a method of acquiring knowledge through observation, experimentation, and analysis. Science is a broad field that encompasses many disciplines such as biology, chemistry, physics, and environmental science. It has played a crucial role in shaping the modern world and has revolutionized our understanding of the universe.\\n\\nOne of the key components of science is the scientific method, a systematic approach to solving problems and answering questions about the natural world. This method involves making observations, forming a hypothesis, conducting experiments, and analyzing the results. Through this process, scientists are able to test their ideas and theories and come to evidence-based conclusions.\\n\\nScience has made significant contributions to human progress and has transformed our lives in unimaginable ways. From the invention of the wheel to the development of modern medicine, science has been the driving force behind many technological advancements. It has enabled us to understand and manipulate the world around us, leading to the development of new technologies, medicines, and materials.\\n\\nOne of the most significant contributions of science is in the field of medicine. Through scientific research, diseases that were once deadly have been eradicated, and life expectancy has increased significantly. The discovery of vaccines, antibiotics, and other medical treatments has saved countless lives and improved')"
   ]
  },
  {
   "cell_type": "code",
   "execution_count": null,
   "metadata": {},
   "outputs": [
    {
     "data": {
      "text/plain": [
       "'Write an essay on data science'"
      ]
     },
     "metadata": {},
     "output_type": "display_data"
    }
   ],
   "source": [
    "# F-string literals\n",
    "\n",
    "topic = 'data science'\n",
    "\n",
    "prompt = f\"Write an essay on {topic}\"\n",
    "\n",
    "prompt"
   ]
  },
  {
   "cell_type": "code",
   "execution_count": null,
   "metadata": {},
   "outputs": [
    {
     "data": {
      "text/plain": [
       "'Write an essay on data science'"
      ]
     },
     "metadata": {},
     "output_type": "display_data"
    }
   ],
   "source": [
    "def get_prompt(topic):\n",
    "    \n",
    "    prompt = f\"Write an essay on {topic}\"\n",
    "    \n",
    "    return prompt\n",
    "\n",
    "get_prompt(topic='data science')"
   ]
  },
  {
   "cell_type": "code",
   "execution_count": null,
   "metadata": {},
   "outputs": [
    {
     "data": {
      "text/plain": [
       "'Write an essay on data science'"
      ]
     },
     "metadata": {},
     "output_type": "display_data"
    }
   ],
   "source": [
    "from langchain.prompts import PromptTemplate\n",
    "\n",
    "prompt_template = PromptTemplate(\n",
    "    input_variables=[],\n",
    "    template = 'Write an essay on {topic}'\n",
    ")\n",
    "\n",
    "prompt = prompt_template.format(topic='data science')\n",
    "\n",
    "prompt"
   ]
  },
  {
   "cell_type": "code",
   "execution_count": null,
   "metadata": {},
   "outputs": [
    {
     "name": "stdout",
     "output_type": "stream",
     "text": [
      "\n",
      "\n",
      "Data science is a multidisciplinary field that involves extracting insights and information from data through various techniques and methodologies. It combines elements of mathematics, statistics, computer science, and domain knowledge to gain valuable insights and make informed decisions. In recent years, data science has emerged as a crucial tool in various industries, such as finance, healthcare, marketing, and more. In this essay, we will explore the significance of data science, its applications, and its impact on society.\n",
      "\n",
      "Data science has been around for decades, but with the exponential growth of data in the digital age, its importance has skyrocketed. The increasing use of technology and the internet has led to the generation of vast amounts of data every day. This data can be in the form of text, images, videos, or any other digital format. However, data is just raw numbers and information until it is processed and analyzed. This is where data science comes in – to make sense of this data and derive meaningful insights from it.\n",
      "\n",
      "One of the primary applications of data science is in business and industry. Companies collect and store data from various sources, such as customer transactions, social media interactions, and website traffic. Data science techniques, such as data mining and machine learning, can be used to analyze this data and identify\n"
     ]
    }
   ],
   "source": [
    "print(llm(prompt))"
   ]
  },
  {
   "cell_type": "code",
   "execution_count": null,
   "metadata": {},
   "outputs": [
    {
     "data": {
      "text/plain": [
       "'Write an essay on data science in 200 words'"
      ]
     },
     "metadata": {},
     "output_type": "display_data"
    }
   ],
   "source": [
    "from langchain.prompts import PromptTemplate\n",
    "\n",
    "prompt_template = PromptTemplate(\n",
    "    input_variables=[],\n",
    "    template = 'Write an essay on {topic} in {num_words} words'\n",
    ")\n",
    "\n",
    "prompt = prompt_template.format(topic='data science', num_words=200)\n",
    "\n",
    "prompt"
   ]
  },
  {
   "cell_type": "code",
   "execution_count": null,
   "metadata": {},
   "outputs": [
    {
     "name": "stdout",
     "output_type": "stream",
     "text": [
      "\n",
      "\n",
      "Data science is a rapidly growing field that combines statistics, mathematics, and computer science to extract knowledge and insights from large and complex datasets. It involves collecting, organizing, analyzing, and interpreting vast amounts of data to make informed decisions and predictions.\n",
      "\n",
      "The rise of data science can be attributed to the exponential growth of data in the digital age. With the advancement of technology, massive amounts of data are being generated every day from various sources such as social media, internet searches, financial transactions, and sensors. This data, if properly harnessed, can provide valuable insights and help businesses and organizations make more informed decisions.\n",
      "\n",
      "One of the key applications of data science is in business intelligence. Companies are using data science to analyze consumer behavior, market trends, and sales patterns to improve their products and services. This has led to the emergence of data-driven decision making, where businesses rely on data rather than intuition to make strategic decisions.\n",
      "\n",
      "Data science has also revolutionized fields like healthcare, finance, and transportation. In healthcare, data science is used to analyze patient data and develop personalized treatment plans. In finance, it is used for fraud detection, risk management, and stock market analysis. In transportation, data science is used to optimize routes, reduce travel time, and improve safety.\n",
      "\n",
      "The field of\n"
     ]
    }
   ],
   "source": [
    "print(llm(prompt=prompt))"
   ]
  },
  {
   "cell_type": "markdown",
   "metadata": {},
   "source": [
    "## Serialization"
   ]
  },
  {
   "cell_type": "code",
   "execution_count": null,
   "metadata": {},
   "outputs": [
    {
     "data": {
      "text/plain": [
       "PromptTemplate(input_variables=['num_words', 'topic'], template='Write an essay on {topic} in {num_words} words')"
      ]
     },
     "metadata": {},
     "output_type": "display_data"
    }
   ],
   "source": [
    "prompt_template"
   ]
  },
  {
   "cell_type": "code",
   "execution_count": null,
   "metadata": {},
   "outputs": [],
   "source": [
    "prompt_template.save('../output/prompt_template.json')"
   ]
  },
  {
   "cell_type": "code",
   "execution_count": null,
   "metadata": {},
   "outputs": [
    {
     "data": {
      "text/plain": [
       "PromptTemplate(input_variables=['num_words', 'topic'], template='Write an essay on {topic} in {num_words} words')"
      ]
     },
     "metadata": {},
     "output_type": "display_data"
    }
   ],
   "source": [
    "from langchain.prompts import load_prompt\n",
    "\n",
    "loaded_prompt = load_prompt('../output/prompt_template.json')\n",
    "\n",
    "loaded_prompt"
   ]
  },
  {
   "cell_type": "code",
   "execution_count": null,
   "metadata": {},
   "outputs": [
    {
     "data": {
      "text/plain": [
       "langchain_core.prompts.prompt.PromptTemplate"
      ]
     },
     "metadata": {},
     "output_type": "display_data"
    }
   ],
   "source": [
    "type(loaded_prompt)"
   ]
  },
  {
   "cell_type": "markdown",
   "metadata": {},
   "source": [
    "## Chat Models"
   ]
  },
  {
   "cell_type": "code",
   "execution_count": null,
   "metadata": {},
   "outputs": [],
   "source": [
    "from langchain.schema import SystemMessage, HumanMessage, AIMessage"
   ]
  },
  {
   "cell_type": "code",
   "execution_count": null,
   "metadata": {},
   "outputs": [
    {
     "data": {
      "text/plain": [
       "HumanMessagePromptTemplate(prompt=PromptTemplate(input_variables=['topic'], template='Write an essay on {topic}'))"
      ]
     },
     "metadata": {},
     "output_type": "display_data"
    }
   ],
   "source": [
    "from langchain.prompts.chat import HumanMessagePromptTemplate, ChatPromptTemplate\n",
    "\n",
    "human_template = \"Write an essay on {topic}\"\n",
    "\n",
    "human_prompt_template = HumanMessagePromptTemplate.from_template(human_template)\n",
    "\n",
    "human_prompt_template"
   ]
  },
  {
   "cell_type": "code",
   "execution_count": null,
   "metadata": {},
   "outputs": [
    {
     "data": {
      "text/plain": [
       "ChatPromptTemplate(input_variables=['topic'], messages=[HumanMessagePromptTemplate(prompt=PromptTemplate(input_variables=['topic'], template='Write an essay on {topic}'))])"
      ]
     },
     "metadata": {},
     "output_type": "display_data"
    }
   ],
   "source": [
    "chat_prompt = ChatPromptTemplate.from_messages([human_prompt_template])\n",
    "\n",
    "chat_prompt"
   ]
  },
  {
   "cell_type": "code",
   "execution_count": null,
   "metadata": {},
   "outputs": [
    {
     "data": {
      "text/plain": [
       "ChatPromptValue(messages=[HumanMessage(content='Write an essay on data science')])"
      ]
     },
     "metadata": {},
     "output_type": "display_data"
    }
   ],
   "source": [
    "prompt = chat_prompt.format_prompt(topic='data science')\n",
    "\n",
    "prompt"
   ]
  },
  {
   "cell_type": "code",
   "execution_count": null,
   "metadata": {},
   "outputs": [
    {
     "data": {
      "text/plain": [
       "AIMessage(content=\"Data science is a rapidly growing field that combines statistics, computer science, and domain expertise to extract insights and knowledge from data. It involves the use of various techniques and tools to analyze, interpret, and visualize data in order to make informed decisions and predictions.\\n\\nOne of the key components of data science is data analysis, which involves cleaning, transforming, and organizing data to uncover patterns, trends, and relationships. This process often involves the use of statistical methods and machine learning algorithms to extract meaningful information from large and complex datasets. Data scientists use programming languages like Python, R, and SQL to manipulate data and perform analysis.\\n\\nAnother important aspect of data science is data visualization, which involves creating visual representations of data to make it easier to understand and interpret. Data visualization can help identify patterns and trends in data, as well as communicate findings to stakeholders in a clear and concise manner.\\n\\nIn addition to data analysis and visualization, data science also involves the use of predictive modeling to make forecasts and predictions based on historical data. This can help businesses make informed decisions and optimize processes by identifying potential risks and opportunities.\\n\\nData science has a wide range of applications across various industries, including healthcare, finance, marketing, and e-commerce. In healthcare, data science can be used to analyze patient data and predict disease outbreaks, while in finance, it can help detect fraud and optimize investment strategies. In marketing, data science can be used to analyze customer behavior and improve targeting and personalization.\\n\\nOverall, data science is a powerful tool that can help organizations make better decisions, optimize processes, and drive innovation. As the amount of data generated continues to grow exponentially, the demand for skilled data scientists is expected to increase. By leveraging data science techniques and tools, organizations can gain valuable insights and stay competitive in today's data-driven world.\")"
      ]
     },
     "metadata": {},
     "output_type": "display_data"
    }
   ],
   "source": [
    "chat(messages = prompt.to_messages())"
   ]
  },
  {
   "cell_type": "code",
   "execution_count": null,
   "metadata": {},
   "outputs": [],
   "source": [
    "from langchain.prompts.chat import (\n",
    "    SystemMessagePromptTemplate,\n",
    "    HumanMessagePromptTemplate,\n",
    "    AIMessagePromptTemplate, # Few shot prompting with templates\n",
    "    ChatPromptTemplate\n",
    ")"
   ]
  },
  {
   "cell_type": "code",
   "execution_count": null,
   "metadata": {},
   "outputs": [
    {
     "data": {
      "text/plain": [
       "SystemMessagePromptTemplate(prompt=PromptTemplate(input_variables=['character'], template='You are a {character}'))"
      ]
     },
     "metadata": {},
     "output_type": "display_data"
    }
   ],
   "source": [
    "# System Message Prompt Template\n",
    "\n",
    "system_template = \"You are a {character}\"\n",
    "\n",
    "system_message_prompt = SystemMessagePromptTemplate.from_template(system_template)\n",
    "\n",
    "system_message_prompt"
   ]
  },
  {
   "cell_type": "code",
   "execution_count": null,
   "metadata": {},
   "outputs": [
    {
     "data": {
      "text/plain": [
       "HumanMessagePromptTemplate(prompt=PromptTemplate(input_variables=['food_item'], template='Tell me the impact of {food_item} on human body when consumed regularly'))"
      ]
     },
     "metadata": {},
     "output_type": "display_data"
    }
   ],
   "source": [
    "human_template = \"Tell me the impact of {food_item} on human body when consumed regularly\"\n",
    "\n",
    "human_message_prompt = HumanMessagePromptTemplate.from_template(human_template)\n",
    "\n",
    "human_message_prompt"
   ]
  },
  {
   "cell_type": "code",
   "execution_count": null,
   "metadata": {},
   "outputs": [
    {
     "data": {
      "text/plain": [
       "ChatPromptTemplate(input_variables=['character', 'food_item'], messages=[SystemMessagePromptTemplate(prompt=PromptTemplate(input_variables=['character'], template='You are a {character}')), HumanMessagePromptTemplate(prompt=PromptTemplate(input_variables=['food_item'], template='Tell me the impact of {food_item} on human body when consumed regularly'))])"
      ]
     },
     "metadata": {},
     "output_type": "display_data"
    }
   ],
   "source": [
    "chat_prompt = ChatPromptTemplate.from_messages([system_message_prompt, human_message_prompt])\n",
    "\n",
    "chat_prompt"
   ]
  },
  {
   "cell_type": "code",
   "execution_count": null,
   "metadata": {},
   "outputs": [
    {
     "name": "stdout",
     "output_type": "stream",
     "text": [
      "As a yoga guru, I believe in promoting overall health and well-being, which includes making mindful choices about what we eat. While enjoying ice cream occasionally can be a delightful treat, consuming it regularly can have some negative impacts on the body.\n",
      "\n",
      "1. Weight Gain: Ice cream is high in calories, sugar, and fat, which can contribute to weight gain if consumed in excess. Excess weight can lead to various health issues such as heart disease, diabetes, and joint problems.\n",
      "\n",
      "2. Blood Sugar Imbalance: The high sugar content in ice cream can cause spikes in blood sugar levels, which may lead to insulin resistance over time. This can increase the risk of developing type 2 diabetes.\n",
      "\n",
      "3. Digestive Issues: Ice cream is a dairy product, and some people may have difficulty digesting lactose, the sugar found in dairy. This can lead to digestive discomfort such as bloating, gas, and diarrhea.\n",
      "\n",
      "4. Inflammation: Ice cream contains dairy and sugar, two common inflammatory foods. Chronic inflammation in the body is linked to various health conditions, including arthritis, heart disease, and cancer.\n",
      "\n",
      "5. Nutrient Deficiency: Consuming ice cream regularly may displace more nutrient-dense foods from your diet, leading to potential deficiencies in essential nutrients like vitamins, minerals, and fiber.\n",
      "\n",
      "As a yoga guru, I encourage you to listen to your body and practice moderation in all aspects of life, including your diet. Choosing healthier alternatives to ice cream, such as fruit-based sorbets or homemade frozen yogurt, can help you satisfy your sweet cravings while nourishing your body with beneficial nutrients. Remember, balance is key to maintaining a healthy lifestyle.\n"
     ]
    }
   ],
   "source": [
    "prompt = chat_prompt.format_prompt(character='yoga guru', food_item='ice cream')\n",
    "\n",
    "print(chat(messages=prompt.to_messages()).content)"
   ]
  },
  {
   "cell_type": "code",
   "execution_count": null,
   "metadata": {},
   "outputs": [
    {
     "data": {
      "text/plain": [
       "AIMessage(content=\"Welcome to our store! Are you looking for the perfect outfit for a special occasion? We have just the thing for you - a beautiful saree and a stylish tie that will make you stand out from the crowd.\\n\\nOur saree is made from high-quality fabric with intricate embroidery and stunning details that will make you look elegant and graceful. The rich colors and luxurious feel of the saree will surely make you the center of attention at any event.\\n\\nPair it with our sophisticated tie, which is crafted from premium material and designed to complement the saree perfectly. The tie adds a touch of class and style to your outfit, making you look polished and put-together.\\n\\nWhether you're attending a wedding, a party, or a formal event, this saree and tie combo is guaranteed to make you look and feel your best. Don't miss out on this opportunity to elevate your style and make a lasting impression.\\n\\nCome and grab this stunning saree and tie set today and get ready to turn heads wherever you go!\")"
      ]
     },
     "metadata": {},
     "output_type": "display_data"
    }
   ],
   "source": [
    "# Task\n",
    "\n",
    "# Role - shoper\n",
    "# Sales script for items\n",
    "\n",
    "system_template = \"You are a {character}\"\n",
    "system_message_prompt = SystemMessagePromptTemplate.from_template(system_template)\n",
    "\n",
    "human_template = \"Write a selling script to sell a {product1} and a {product2} together.\"\n",
    "human_message_prompt = HumanMessagePromptTemplate.from_template(human_template)\n",
    "\n",
    "chat_prompt = ChatPromptTemplate.from_messages([system_message_prompt, human_message_prompt])\n",
    "prompt = chat_prompt.format_prompt(character='Cloth seller', product1='saree', product2='tie')\n",
    "\n",
    "response = chat(messages=prompt.to_messages())\n",
    "response"
   ]
  },
  {
   "cell_type": "code",
   "execution_count": null,
   "metadata": {},
   "outputs": [
    {
     "name": "stdout",
     "output_type": "stream",
     "text": [
      "Welcome to our store! Are you looking for the perfect outfit for a special occasion? We have just the thing for you - a beautiful saree and a stylish tie that will make you stand out from the crowd.\n",
      "\n",
      "Our saree is made from high-quality fabric with intricate embroidery and stunning details that will make you look elegant and graceful. The rich colors and luxurious feel of the saree will surely make you the center of attention at any event.\n",
      "\n",
      "Pair it with our sophisticated tie, which is crafted from premium material and designed to complement the saree perfectly. The tie adds a touch of class and style to your outfit, making you look polished and put-together.\n",
      "\n",
      "Whether you're attending a wedding, a party, or a formal event, this saree and tie combo is guaranteed to make you look and feel your best. Don't miss out on this opportunity to elevate your style and make a lasting impression.\n",
      "\n",
      "Come and grab this stunning saree and tie set today and get ready to turn heads wherever you go!\n"
     ]
    }
   ],
   "source": [
    "print(response.content)"
   ]
  },
  {
   "cell_type": "code",
   "execution_count": null,
   "metadata": {},
   "outputs": [],
   "source": []
  },
  {
   "cell_type": "code",
   "execution_count": null,
   "metadata": {},
   "outputs": [],
   "source": []
  }
 ],
 "metadata": {
  "kernelspec": {
   "display_name": "Python 3",
   "language": "python",
   "name": "python3"
  },
  "language_info": {
   "codemirror_mode": {
    "name": "ipython",
    "version": 3
   },
   "file_extension": ".py",
   "mimetype": "text/x-python",
   "name": "python",
   "nbconvert_exporter": "python",
   "pygments_lexer": "ipython3",
   "version": "3.9.0"
  }
 },
 "nbformat": 4,
 "nbformat_minor": 2
}
