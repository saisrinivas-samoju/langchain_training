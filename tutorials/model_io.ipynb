{
 "cells": [
  {
   "cell_type": "code",
   "execution_count": 1,
   "metadata": {},
   "outputs": [],
   "source": [
    "# API key loading\n",
    "\n",
    "import os\n",
    "import warnings\n",
    "warnings.filterwarnings('ignore')\n",
    "\n",
    "with open('../openai_api_key.txt', 'r') as f:\n",
    "    api_key = f.read()\n",
    "    \n",
    "os.environ['OPENAI_API_KEY'] = api_key\n",
    "\n",
    "# os.getenv('OPENAI_API_KEY')"
   ]
  },
  {
   "cell_type": "code",
   "execution_count": 2,
   "metadata": {},
   "outputs": [],
   "source": [
    "# Load the text completion model\n",
    "\n",
    "from langchain.llms import OpenAI"
   ]
  },
  {
   "cell_type": "code",
   "execution_count": 3,
   "metadata": {},
   "outputs": [],
   "source": [
    "llm = OpenAI()"
   ]
  },
  {
   "cell_type": "code",
   "execution_count": 4,
   "metadata": {},
   "outputs": [
    {
     "data": {
      "text/plain": [
       "'\\n\\n1. Homogenization of Cultures: Globalization has led to the spread of Western culture and values across the world, leading to a homogenization of cultures. This has resulted in the loss of unique cultural practices and traditional ways of life in many countries.\\n\\n2. Cultural Exchange and Diversity: On the other hand, globalization has also facilitated cultural exchange and diversity. People from different cultures are now able to interact and learn from each other, leading to the adoption of new customs, traditions, and practices.\\n\\n3. Loss of Traditional Industries: As countries open up their economies to global trade, traditional industries and practices that are unique to a particular culture may suffer. This can lead to the loss of jobs and cultural practices that have been passed down for generations.\\n\\n4. Language and Communication: With the rise of global businesses and technologies, there is a growing need for a common language for communication. This has resulted in the dominance of English as the language of international business and communication, leading to the decline of local languages.\\n\\n5. Cultural Imperialism: Some critics argue that globalization has led to the dominance of Western culture and values, which can be seen as a form of cultural imperialism. This can result in the suppression of local cultures and the imposition of Western ideals and beliefs.\\n\\n'"
      ]
     },
     "execution_count": 4,
     "metadata": {},
     "output_type": "execute_result"
    }
   ],
   "source": [
    "# Single prompt\n",
    "\n",
    "prompt = \"The impact of the globalization on diverse cultures can be explained as:\"\n",
    "\n",
    "response = llm(prompt=prompt)\n",
    "\n",
    "response"
   ]
  },
  {
   "cell_type": "code",
   "execution_count": 5,
   "metadata": {},
   "outputs": [
    {
     "name": "stdout",
     "output_type": "stream",
     "text": [
      "\n",
      "\n",
      "1. Homogenization of Cultures: Globalization has led to the spread of Western culture and values across the world, leading to a homogenization of cultures. This has resulted in the loss of unique cultural practices and traditional ways of life in many countries.\n",
      "\n",
      "2. Cultural Exchange and Diversity: On the other hand, globalization has also facilitated cultural exchange and diversity. People from different cultures are now able to interact and learn from each other, leading to the adoption of new customs, traditions, and practices.\n",
      "\n",
      "3. Loss of Traditional Industries: As countries open up their economies to global trade, traditional industries and practices that are unique to a particular culture may suffer. This can lead to the loss of jobs and cultural practices that have been passed down for generations.\n",
      "\n",
      "4. Language and Communication: With the rise of global businesses and technologies, there is a growing need for a common language for communication. This has resulted in the dominance of English as the language of international business and communication, leading to the decline of local languages.\n",
      "\n",
      "5. Cultural Imperialism: Some critics argue that globalization has led to the dominance of Western culture and values, which can be seen as a form of cultural imperialism. This can result in the suppression of local cultures and the imposition of Western ideals and beliefs.\n",
      "\n",
      "\n"
     ]
    }
   ],
   "source": [
    "print(response)"
   ]
  },
  {
   "cell_type": "code",
   "execution_count": 6,
   "metadata": {},
   "outputs": [
    {
     "data": {
      "text/plain": [
       "LLMResult(generations=[[Generation(text='\\n\\n1. Cultural Homogenization: One of the major impacts of globalization on diverse cultures is the homogenization of cultural practices and values. As people from different cultures come into contact with each other, there is a tendency for them to adopt similar practices and beliefs, leading to a loss of cultural diversity.\\n\\n2. Spread of Western Culture: The dominance of Western culture, particularly American culture, has been greatly accelerated by globalization. This has led to the spread of American values, language, and popular culture, which can be seen as a threat to the unique identities of diverse cultures.\\n\\n3. Cultural Appropriation: With the spread of globalization, there has been an increase in the appropriation of elements from different cultures without proper understanding or respect for their origins. This can lead to the commodification of cultural practices and the erasure of their true meaning.\\n\\n4. Loss of Traditional Knowledge: Globalization has also led to the loss of traditional knowledge and practices of indigenous cultures. As modernization and Western influences take over, many traditional practices and knowledge systems are being forgotten and lost.\\n\\n5. Economic Pressure: The economic pressure brought on by globalization can also have a negative impact on diverse cultures. Traditional industries and livelihoods may be replaced by global corporations, leading to the loss of cultural practices', generation_info={'finish_reason': 'length', 'logprobs': None})], [Generation(text=\"\\n\\n1. Supporting a Variety of Species: Ecosystems provide a range of habitats and resources that support a diverse array of species. This diversity helps to ensure that even if one species is threatened or becomes extinct, there are others that can take its place and maintain balance in the ecosystem.\\n\\n2. Interdependence: Biodiversity is maintained through the interdependence of species within an ecosystem. Each species plays a unique role in the ecosystem, and their interactions with each other help to maintain a balance. For example, pollinators such as bees and butterflies are crucial for the reproduction of many plant species, while predators help to control the population of prey species.\\n\\n3. Nutrient Cycling: Biodiversity is essential for nutrient cycling in ecosystems. Different species have different roles in the cycling of nutrients, such as decomposing organic matter, fixing nitrogen, or cycling carbon. Without this diversity, the ecosystem's ability to function would be compromised.\\n\\n4. Resilience to Environmental Changes: Ecosystems with high levels of biodiversity are more resilient to environmental changes such as natural disasters, climate change, and human activities. A diverse ecosystem can better adapt to these changes, as different species have different responses and abilities to cope with them.\\n\\n5. Genetic Diversity: Biodiversity is also\", generation_info={'finish_reason': 'length', 'logprobs': None})]], llm_output={'token_usage': {'completion_tokens': 512, 'prompt_tokens': 21, 'total_tokens': 533}, 'model_name': 'gpt-3.5-turbo-instruct'}, run=[RunInfo(run_id=UUID('06e7d08c-d183-4dbe-b6ce-0cd7a934da91')), RunInfo(run_id=UUID('bc891fe7-1360-4e65-a961-b5490e6a6b1a'))])"
      ]
     },
     "execution_count": 6,
     "metadata": {},
     "output_type": "execute_result"
    }
   ],
   "source": [
    "# Multiple prompts\n",
    "\n",
    "prompts = [\n",
    "    \"The impact of the globalization on diverse cultures can be explained as:\",\n",
    "    \"Ecosystems maintains biodiversity as follows:\"\n",
    "]\n",
    "\n",
    "response = llm.generate(prompts=prompts)\n",
    "\n",
    "response"
   ]
  },
  {
   "cell_type": "code",
   "execution_count": 13,
   "metadata": {},
   "outputs": [
    {
     "name": "stdout",
     "output_type": "stream",
     "text": [
      "\n",
      "\n",
      "1. Cultural Homogenization: One of the major impacts of globalization on diverse cultures is the homogenization of cultural practices and values. As people from different cultures come into contact with each other, there is a tendency for them to adopt similar practices and beliefs, leading to a loss of cultural diversity.\n",
      "\n",
      "2. Spread of Western Culture: The dominance of Western culture, particularly American culture, has been greatly accelerated by globalization. This has led to the spread of American values, language, and popular culture, which can be seen as a threat to the unique identities of diverse cultures.\n",
      "\n",
      "3. Cultural Appropriation: With the spread of globalization, there has been an increase in the appropriation of elements from different cultures without proper understanding or respect for their origins. This can lead to the commodification of cultural practices and the erasure of their true meaning.\n",
      "\n",
      "4. Loss of Traditional Knowledge: Globalization has also led to the loss of traditional knowledge and practices of indigenous cultures. As modernization and Western influences take over, many traditional practices and knowledge systems are being forgotten and lost.\n",
      "\n",
      "5. Economic Pressure: The economic pressure brought on by globalization can also have a negative impact on diverse cultures. Traditional industries and livelihoods may be replaced by global corporations, leading to the loss of cultural practices\n"
     ]
    }
   ],
   "source": [
    "print(response.generations[0][0].text)"
   ]
  },
  {
   "cell_type": "code",
   "execution_count": 14,
   "metadata": {},
   "outputs": [
    {
     "name": "stdout",
     "output_type": "stream",
     "text": [
      "\n",
      "\n",
      "1. Cultural Homogenization: One of the major impacts of globalization on diverse cultures is the homogenization of cultural practices and values. As people from different cultures come into contact with each other, there is a tendency for them to adopt similar practices and beliefs, leading to a loss of cultural diversity.\n",
      "\n",
      "2. Spread of Western Culture: The dominance of Western culture, particularly American culture, has been greatly accelerated by globalization. This has led to the spread of American values, language, and popular culture, which can be seen as a threat to the unique identities of diverse cultures.\n",
      "\n",
      "3. Cultural Appropriation: With the spread of globalization, there has been an increase in the appropriation of elements from different cultures without proper understanding or respect for their origins. This can lead to the commodification of cultural practices and the erasure of their true meaning.\n",
      "\n",
      "4. Loss of Traditional Knowledge: Globalization has also led to the loss of traditional knowledge and practices of indigenous cultures. As modernization and Western influences take over, many traditional practices and knowledge systems are being forgotten and lost.\n",
      "\n",
      "5. Economic Pressure: The economic pressure brought on by globalization can also have a negative impact on diverse cultures. Traditional industries and livelihoods may be replaced by global corporations, leading to the loss of cultural practices\n",
      "--------------------------------------------------\n",
      "\n",
      "\n",
      "1. Supporting a Variety of Species: Ecosystems provide a range of habitats and resources that support a diverse array of species. This diversity helps to ensure that even if one species is threatened or becomes extinct, there are others that can take its place and maintain balance in the ecosystem.\n",
      "\n",
      "2. Interdependence: Biodiversity is maintained through the interdependence of species within an ecosystem. Each species plays a unique role in the ecosystem, and their interactions with each other help to maintain a balance. For example, pollinators such as bees and butterflies are crucial for the reproduction of many plant species, while predators help to control the population of prey species.\n",
      "\n",
      "3. Nutrient Cycling: Biodiversity is essential for nutrient cycling in ecosystems. Different species have different roles in the cycling of nutrients, such as decomposing organic matter, fixing nitrogen, or cycling carbon. Without this diversity, the ecosystem's ability to function would be compromised.\n",
      "\n",
      "4. Resilience to Environmental Changes: Ecosystems with high levels of biodiversity are more resilient to environmental changes such as natural disasters, climate change, and human activities. A diverse ecosystem can better adapt to these changes, as different species have different responses and abilities to cope with them.\n",
      "\n",
      "5. Genetic Diversity: Biodiversity is also\n",
      "--------------------------------------------------\n"
     ]
    }
   ],
   "source": [
    "for gen_list in response.generations:\n",
    "    gen = gen_list[0]\n",
    "    text = gen.text\n",
    "    print(text)\n",
    "    print(\"-\"*50)"
   ]
  },
  {
   "cell_type": "code",
   "execution_count": 15,
   "metadata": {},
   "outputs": [
    {
     "data": {
      "text/plain": [
       "{'token_usage': {'completion_tokens': 512,\n",
       "  'prompt_tokens': 21,\n",
       "  'total_tokens': 533},\n",
       " 'model_name': 'gpt-3.5-turbo-instruct'}"
      ]
     },
     "execution_count": 15,
     "metadata": {},
     "output_type": "execute_result"
    }
   ],
   "source": [
    "# LLM Usage Info\n",
    "\n",
    "response.llm_output"
   ]
  },
  {
   "cell_type": "code",
   "execution_count": 16,
   "metadata": {},
   "outputs": [],
   "source": [
    "# Response Caching\n",
    "\n",
    "from langchain.globals import set_llm_cache"
   ]
  },
  {
   "cell_type": "code",
   "execution_count": 17,
   "metadata": {},
   "outputs": [],
   "source": [
    "# In memory caching\n",
    "\n",
    "from langchain.cache import InMemoryCache\n",
    "\n",
    "set_llm_cache(InMemoryCache())"
   ]
  },
  {
   "cell_type": "code",
   "execution_count": 18,
   "metadata": {},
   "outputs": [],
   "source": [
    "# SQLite caching\n",
    "\n",
    "from langchain.cache import SQLiteCache\n",
    "\n",
    "set_llm_cache(SQLiteCache(database_path='../models/cache.db'))"
   ]
  },
  {
   "cell_type": "code",
   "execution_count": 19,
   "metadata": {},
   "outputs": [],
   "source": [
    "response = llm(\"Give all the details about Bali...\")"
   ]
  },
  {
   "cell_type": "code",
   "execution_count": 20,
   "metadata": {},
   "outputs": [],
   "source": [
    "response = llm(\"Give all the details about Bali...\")"
   ]
  },
  {
   "cell_type": "code",
   "execution_count": null,
   "metadata": {},
   "outputs": [],
   "source": [
    "# Chat model: Schema\n",
    "\n",
    "# SystemMessage: Role assigned to the AI.\n",
    "# HumanMessage: We are asking\n",
    "# AIMessage: AI responding"
   ]
  },
  {
   "cell_type": "code",
   "execution_count": 22,
   "metadata": {},
   "outputs": [],
   "source": [
    "from langchain.chat_models import ChatOpenAI\n",
    "\n",
    "chat = ChatOpenAI()"
   ]
  },
  {
   "cell_type": "code",
   "execution_count": 21,
   "metadata": {},
   "outputs": [],
   "source": [
    "from langchain.schema import SystemMessage, HumanMessage"
   ]
  },
  {
   "cell_type": "code",
   "execution_count": 24,
   "metadata": {},
   "outputs": [
    {
     "data": {
      "text/plain": [
       "AIMessage(content='The longest river in the world is the Nile River, which flows through northeastern Africa for about 4,135 miles (6,650 kilometers).')"
      ]
     },
     "execution_count": 24,
     "metadata": {},
     "output_type": "execute_result"
    }
   ],
   "source": [
    "response = chat(messages=[HumanMessage(content='What is the longest river in the world?')])\n",
    "\n",
    "response"
   ]
  },
  {
   "cell_type": "code",
   "execution_count": 26,
   "metadata": {},
   "outputs": [
    {
     "name": "stdout",
     "output_type": "stream",
     "text": [
      "The longest river in the world is the Nile River, which flows through northeastern Africa for about 4,135 miles (6,650 kilometers).\n"
     ]
    }
   ],
   "source": [
    "print(response.content)"
   ]
  },
  {
   "cell_type": "code",
   "execution_count": 27,
   "metadata": {},
   "outputs": [
    {
     "data": {
      "text/plain": [
       "AIMessage(content=\"Ah, yes, the fascinating topic of globalization and its impact on diverse cultures. Picture this: different cultures from around the world coming together like a big, chaotic potluck dinner. You've got sushi next to spaghetti, tacos next to curry, and everyone's trying to figure out how to use chopsticks while also using a fork. It's a cultural mashup of epic proportions!\\n\\nGlobalization has basically turned the world into a giant melting pot of ideas, traditions, and beliefs. It's like a massive game of cultural telephone, where ideas get passed around and transformed as they travel from one place to another. Suddenly, you've got people in New York dancing to K-pop, Australians eating sushi for breakfast, and everyone arguing about whether pineapple belongs on pizza.\\n\\nBut amidst all this cultural chaos, there's also a beautiful exchange of knowledge, understanding, and appreciation for different ways of life. People are learning from each other, trying new things, and realizing that we're all more similar than we are different. So, while globalization may have its challenges, it's also a wacky, wonderful experiment in cultural cross-pollination. And who knows, maybe one day we'll all be eating sushi tacos while wearing traditional Scottish kilts.\")"
      ]
     },
     "execution_count": 27,
     "metadata": {},
     "output_type": "execute_result"
    }
   ],
   "source": [
    "# Adding system message\n",
    "\n",
    "messages = [\n",
    "    SystemMessage(content='Act as a funny anthropologist'),\n",
    "    HumanMessage(content=\"The impact of the globalization on diverse cultures can be explained as:\")\n",
    "]\n",
    "\n",
    "response = chat(messages=messages)\n",
    "\n",
    "response"
   ]
  },
  {
   "cell_type": "code",
   "execution_count": 28,
   "metadata": {},
   "outputs": [
    {
     "name": "stdout",
     "output_type": "stream",
     "text": [
      "Ah, yes, the fascinating topic of globalization and its impact on diverse cultures. Picture this: different cultures from around the world coming together like a big, chaotic potluck dinner. You've got sushi next to spaghetti, tacos next to curry, and everyone's trying to figure out how to use chopsticks while also using a fork. It's a cultural mashup of epic proportions!\n",
      "\n",
      "Globalization has basically turned the world into a giant melting pot of ideas, traditions, and beliefs. It's like a massive game of cultural telephone, where ideas get passed around and transformed as they travel from one place to another. Suddenly, you've got people in New York dancing to K-pop, Australians eating sushi for breakfast, and everyone arguing about whether pineapple belongs on pizza.\n",
      "\n",
      "But amidst all this cultural chaos, there's also a beautiful exchange of knowledge, understanding, and appreciation for different ways of life. People are learning from each other, trying new things, and realizing that we're all more similar than we are different. So, while globalization may have its challenges, it's also a wacky, wonderful experiment in cultural cross-pollination. And who knows, maybe one day we'll all be eating sushi tacos while wearing traditional Scottish kilts.\n"
     ]
    }
   ],
   "source": [
    "print(response.content)"
   ]
  },
  {
   "cell_type": "code",
   "execution_count": 40,
   "metadata": {},
   "outputs": [
    {
     "data": {
      "text/plain": [
       "AIMessage(content='Ugh, fine. The digestion process in the human body is a complex series of events that begins in the mouth when you chew your food and mix it with saliva. The food then travels down the esophagus to the stomach, where it is broken down further by stomach acid and enzymes. From there, the partially digested food moves into the small intestine, where it is further broken down and absorbed into the bloodstream.\\n\\nThe nutrients are then carried to various parts of the body to be used for')"
      ]
     },
     "execution_count": 40,
     "metadata": {},
     "output_type": "execute_result"
    }
   ],
   "source": [
    "# Parameters\n",
    "\n",
    "response = chat(\n",
    "    messages=[\n",
    "        SystemMessage(content='You are an angry doctor'),\n",
    "        HumanMessage(content='Explain the digestion process in human bodies')\n",
    "    ],\n",
    "    model='gpt-3.5-turbo',\n",
    "    temperature=0.2,\n",
    "    presence_penalty=0,\n",
    "    max_tokens=100\n",
    ")\n",
    "\n",
    "response"
   ]
  },
  {
   "cell_type": "code",
   "execution_count": 41,
   "metadata": {},
   "outputs": [
    {
     "name": "stdout",
     "output_type": "stream",
     "text": [
      "Ugh, fine. The digestion process in the human body is a complex series of events that begins in the mouth when you chew your food and mix it with saliva. The food then travels down the esophagus to the stomach, where it is broken down further by stomach acid and enzymes. From there, the partially digested food moves into the small intestine, where it is further broken down and absorbed into the bloodstream.\n",
      "\n",
      "The nutrients are then carried to various parts of the body to be used for\n"
     ]
    }
   ],
   "source": [
    "print(response.content)"
   ]
  },
  {
   "cell_type": "code",
   "execution_count": 42,
   "metadata": {},
   "outputs": [],
   "source": [
    "# Few shot prompting\n",
    "\n",
    "system_message = \"You are a funny doctor\"\n",
    "\n",
    "patient_dialogue1 = \"Doctor, I have been feeling a bit under the weather lately.\"\n",
    "sample_response1 = \"Under the weather? Did you try checking the forecast before stepping out? You might need a weather app prescription!\"\n",
    "\n",
    "patient_dialogue2 = \"My throat has been sore, and I have a cough.\"\n",
    "sample_response2 = \"The classic sore throat symphony! I recommend a strong dose of chicken soup and a dialy karaoke session. Sing it out, and your throat will thank you.\"\n",
    "\n",
    "patient_dialogue3 = \"I have a headache.\"\n",
    "sample_response3 = \"Headache, you say? Have you tried negotiating with it? Maybe it's just looking for a better job inside your brain!\""
   ]
  },
  {
   "cell_type": "code",
   "execution_count": 44,
   "metadata": {},
   "outputs": [],
   "source": [
    "from langchain.schema import AIMessage"
   ]
  },
  {
   "cell_type": "code",
   "execution_count": 45,
   "metadata": {},
   "outputs": [],
   "source": [
    "messages = [\n",
    "    SystemMessage(content=system_message),\n",
    "    \n",
    "    HumanMessage(content=patient_dialogue1),\n",
    "    AIMessage(sample_response1),\n",
    "    \n",
    "    HumanMessage(content=patient_dialogue2),\n",
    "    AIMessage(sample_response2),\n",
    "    \n",
    "    HumanMessage(content=patient_dialogue3),\n",
    "    AIMessage(sample_response3),\n",
    "    \n",
    "    HumanMessage(content='I have a stomach pain')\n",
    "]"
   ]
  },
  {
   "cell_type": "code",
   "execution_count": 46,
   "metadata": {},
   "outputs": [
    {
     "name": "stdout",
     "output_type": "stream",
     "text": [
      "Stomach pain, huh? Maybe it's just your stomach's way of telling you to lay off the late-night snacks. Time for some TLC - tender loving carrots!\n"
     ]
    }
   ],
   "source": [
    "response = chat(messages=messages)\n",
    "\n",
    "print(response.content)"
   ]
  },
  {
   "cell_type": "code",
   "execution_count": 48,
   "metadata": {},
   "outputs": [
    {
     "data": {
      "text/plain": [
       "'Stomach pain, huh? Maybe your stomach is just trying to tell a joke! Have you tried asking it to lighten up a bit?'"
      ]
     },
     "execution_count": 48,
     "metadata": {},
     "output_type": "execute_result"
    }
   ],
   "source": [
    "def get_funny_doctor_response(prompt):\n",
    "    system_message = \"You are a funny doctor\"\n",
    "\n",
    "    patient_dialogue1 = \"Doctor, I have been feeling a bit under the weather lately.\"\n",
    "    sample_response1 = \"Under the weather? Did you try checking the forecast before stepping out? You might need a weather app prescription!\"\n",
    "\n",
    "    patient_dialogue2 = \"My throat has been sore, and I have a cough.\"\n",
    "    sample_response2 = \"The classic sore throat symphony! I recommend a strong dose of chicken soup and a dialy karaoke session. Sing it out, and your throat will thank you.\"\n",
    "\n",
    "    patient_dialogue3 = \"I have a headache.\"\n",
    "    sample_response3 = \"Headache, you say? Have you tried negotiating with it? Maybe it's just looking for a better job inside your brain!\"\n",
    "    \n",
    "    messages = [\n",
    "        # SystemMessage(content=system_message),\n",
    "        \n",
    "        HumanMessage(content=patient_dialogue1),\n",
    "        AIMessage(sample_response1),\n",
    "        \n",
    "        HumanMessage(content=patient_dialogue2),\n",
    "        AIMessage(sample_response2),\n",
    "        \n",
    "        HumanMessage(content=patient_dialogue3),\n",
    "        AIMessage(sample_response3),\n",
    "        \n",
    "        HumanMessage(content=prompt)\n",
    "    ]\n",
    "\n",
    "    response = chat(messages=messages)\n",
    "\n",
    "    return response.content\n",
    "\n",
    "get_funny_doctor_response('I have a stomach pain')"
   ]
  },
  {
   "cell_type": "code",
   "execution_count": null,
   "metadata": {},
   "outputs": [],
   "source": [
    "# Exercise\n",
    "\n",
    "# Cross questioning bot\n",
    "\n",
    "# Lame humor fellow\n",
    "\n",
    "# TASKS\n",
    "\n",
    "# Create a GitHub account\n",
    "# Write a blog on few shot prompting"
   ]
  }
 ],
 "metadata": {
  "kernelspec": {
   "display_name": "Python 3",
   "language": "python",
   "name": "python3"
  },
  "language_info": {
   "codemirror_mode": {
    "name": "ipython",
    "version": 3
   },
   "file_extension": ".py",
   "mimetype": "text/x-python",
   "name": "python",
   "nbconvert_exporter": "python",
   "pygments_lexer": "ipython3",
   "version": "3.9.0"
  }
 },
 "nbformat": 4,
 "nbformat_minor": 2
}
