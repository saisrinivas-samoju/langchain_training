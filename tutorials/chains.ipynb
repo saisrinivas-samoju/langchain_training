{
 "cells": [
  {
   "cell_type": "markdown",
   "metadata": {},
   "source": [
    "Data structures in python\n",
    "* String\n",
    "* List\n",
    "* Tuples\n",
    "* Dictionaries\n",
    "* Set"
   ]
  },
  {
   "cell_type": "markdown",
   "metadata": {},
   "source": [
    "*args\n",
    "\n",
    "**kwargs"
   ]
  },
  {
   "cell_type": "code",
   "execution_count": 41,
   "metadata": {},
   "outputs": [
    {
     "data": {
      "text/plain": [
       "720"
      ]
     },
     "execution_count": 41,
     "metadata": {},
     "output_type": "execute_result"
    }
   ],
   "source": [
    "# *args -> positional arguments\n",
    "\n",
    "def get_prod(*args):\n",
    "    res = 1\n",
    "    for arg in args:\n",
    "        res = res*arg\n",
    "    return res\n",
    "\n",
    "get_prod(1, 4, 5, 2, 3, 6)"
   ]
  },
  {
   "cell_type": "code",
   "execution_count": 42,
   "metadata": {},
   "outputs": [
    {
     "name": "stdout",
     "output_type": "stream",
     "text": [
      "Hello, John!\n",
      "Hello, John, You are 24 years old!\n",
      "Hello, John from New york!\n",
      "Hello, John, You are 24 years old from New york!\n"
     ]
    }
   ],
   "source": [
    "# **kwargs\n",
    "\n",
    "def greet(**kwargs):\n",
    "    greeting = \"Hello\"\n",
    "    if \"name\" in kwargs:\n",
    "        greeting += f\", {kwargs['name']}\"\n",
    "    if 'age' in  kwargs:\n",
    "        greeting += f\", You are {kwargs['age']} years old\"\n",
    "    if \"location\" in kwargs:\n",
    "        greeting += f\" from {kwargs['location']}\"\n",
    "    greeting+=\"!\"\n",
    "    return greeting\n",
    "\n",
    "print(greet(name='John'))\n",
    "print(greet(name='John', age=24))\n",
    "print(greet(name=\"John\", location=\"New york\"))\n",
    "print(greet(name=\"John\", age=24, location=\"New york\"))"
   ]
  },
  {
   "cell_type": "code",
   "execution_count": 43,
   "metadata": {},
   "outputs": [],
   "source": [
    "def check_args(*args):\n",
    "    return args\n",
    "\n",
    "def check_kwargs(**kwargs):\n",
    "    return kwargs"
   ]
  },
  {
   "cell_type": "code",
   "execution_count": 44,
   "metadata": {},
   "outputs": [
    {
     "data": {
      "text/plain": [
       "(1, 2, 3, 4)"
      ]
     },
     "execution_count": 44,
     "metadata": {},
     "output_type": "execute_result"
    }
   ],
   "source": [
    "check_args(1, 2, 3, 4)"
   ]
  },
  {
   "cell_type": "code",
   "execution_count": 45,
   "metadata": {},
   "outputs": [
    {
     "data": {
      "text/plain": [
       "{'name': 'John', 'age': 24, 'location': 'New york'}"
      ]
     },
     "execution_count": 45,
     "metadata": {},
     "output_type": "execute_result"
    }
   ],
   "source": [
    "check_kwargs(name=\"John\", age=24, location=\"New york\")"
   ]
  },
  {
   "cell_type": "code",
   "execution_count": 46,
   "metadata": {},
   "outputs": [],
   "source": [
    "# Decorators\n",
    "\n",
    "import time\n",
    "from datetime import datetime\n",
    "\n",
    "get_curr_time = lambda : datetime.now().time().strftime(\"%H:%M:%S\")\n",
    "\n",
    "def timer(func):\n",
    "    def get_timings(*args, **kwargs):\n",
    "        start_time = get_curr_time()\n",
    "        val = func(*args, **kwargs)\n",
    "        time.sleep(2)\n",
    "        end_time = get_curr_time()\n",
    "        print(f\"Start time: {start_time} | End time: {end_time} \")\n",
    "        return val\n",
    "    return get_timings\n",
    "\n",
    "@timer\n",
    "def get_sq(a):\n",
    "    return a**2"
   ]
  },
  {
   "cell_type": "code",
   "execution_count": 25,
   "metadata": {},
   "outputs": [
    {
     "name": "stdout",
     "output_type": "stream",
     "text": [
      "Start time: 10:32:53 | End time: 10:32:55 \n"
     ]
    },
    {
     "data": {
      "text/plain": [
       "16"
      ]
     },
     "execution_count": 25,
     "metadata": {},
     "output_type": "execute_result"
    }
   ],
   "source": [
    "get_sq(4)"
   ]
  },
  {
   "cell_type": "markdown",
   "metadata": {},
   "source": [
    "# Chains"
   ]
  },
  {
   "cell_type": "code",
   "execution_count": 5,
   "metadata": {},
   "outputs": [],
   "source": [
    "import os\n",
    "from dotenv import load_dotenv\n",
    "from langchain_openai.llms import OpenAI\n",
    "from langchain_openai.chat_models import ChatOpenAI\n",
    "from langchain.globals import set_llm_cache\n",
    "from langchain.cache import InMemoryCache\n",
    "from langchain.prompts.chat import ChatPromptTemplate, HumanMessagePromptTemplate\n",
    "\n",
    "load_dotenv()\n",
    "llm = OpenAI()\n",
    "chat = ChatOpenAI()\n",
    "set_llm_cache(InMemoryCache())"
   ]
  },
  {
   "cell_type": "markdown",
   "metadata": {},
   "source": [
    "## LLMChain"
   ]
  },
  {
   "cell_type": "code",
   "execution_count": 6,
   "metadata": {},
   "outputs": [],
   "source": [
    "human_template = \"Write a film story outline on the topic: {topic}\"\n",
    "\n",
    "human_message_prompt = HumanMessagePromptTemplate.from_template(human_template)\n",
    "\n",
    "chat_prompt = ChatPromptTemplate.from_messages([human_message_prompt])"
   ]
  },
  {
   "cell_type": "code",
   "execution_count": 7,
   "metadata": {},
   "outputs": [],
   "source": [
    "from langchain.chains import LLMChain\n",
    "\n",
    "chain = LLMChain(llm=chat, prompt=chat_prompt)"
   ]
  },
  {
   "cell_type": "code",
   "execution_count": 8,
   "metadata": {},
   "outputs": [
    {
     "data": {
      "text/plain": [
       "{'topic': 'Growth of India',\n",
       " 'text': 'Title: Rising from the Ashes: The Growth of India\\n\\nAct 1:\\n- The film opens with a montage of historical footage showcasing the struggles and challenges faced by India in the past, including colonization, poverty, and political instability.\\n- We are introduced to our protagonist, Ravi, a young man from a small village in India who dreams of creating a better future for himself and his country.\\n- Ravi moves to the bustling city of Mumbai to pursue his education and career, facing numerous obstacles along the way.\\n\\nAct 2:\\n- As Ravi works his way up the corporate ladder, he witnesses firsthand the rapid economic growth and development taking place in India.\\n- Through his experiences, Ravi learns about the importance of innovation, entrepreneurship, and hard work in driving the country\\'s progress.\\n- Ravi becomes involved in various initiatives aimed at promoting education, healthcare, and sustainable development in India, inspiring others to do the same.\\n\\nAct 3:\\n- Just as things seem to be going well for Ravi, a political scandal erupts, threatening to derail all the progress that has been made.\\n- Ravi must rally his friends and colleagues to fight against corruption and ensure that the country continues on its path towards growth and prosperity.\\n- In a climactic showdown, Ravi and his allies succeed in exposing the truth and bringing about positive change in India.\\n\\nEpilogue:\\n- The film ends with a hopeful vision of India\\'s future, showing how the country has overcome its past challenges and emerged as a global leader in technology, innovation, and social development.\\n- Ravi reflects on the journey he has been on and the lessons he has learned about perseverance, unity, and the power of individuals to make a difference in their country.\\n- The screen fades to black with the words \"Jai Hind\" (Victory to India) displayed, symbolizing the triumph of the Indian spirit in the face of adversity.'}"
      ]
     },
     "execution_count": 8,
     "metadata": {},
     "output_type": "execute_result"
    }
   ],
   "source": [
    "result = chain.invoke(input={\"topic\": \"Growth of India\"})\n",
    "result"
   ]
  },
  {
   "cell_type": "code",
   "execution_count": 9,
   "metadata": {},
   "outputs": [
    {
     "data": {
      "text/plain": [
       "'Human: Write a film story outline on the topic: Growth of India'"
      ]
     },
     "execution_count": 9,
     "metadata": {},
     "output_type": "execute_result"
    }
   ],
   "source": [
    "chat_prompt.format(**{\"topic\": \"Growth of India\"})"
   ]
  },
  {
   "cell_type": "code",
   "execution_count": 10,
   "metadata": {},
   "outputs": [
    {
     "name": "stdout",
     "output_type": "stream",
     "text": [
      "Title: Rising from the Ashes: The Growth of India\n",
      "\n",
      "Act 1:\n",
      "- The film opens with a montage of historical footage showcasing the struggles and challenges faced by India in the past, including colonization, poverty, and political instability.\n",
      "- We are introduced to our protagonist, Ravi, a young man from a small village in India who dreams of creating a better future for himself and his country.\n",
      "- Ravi moves to the bustling city of Mumbai to pursue his education and career, facing numerous obstacles along the way.\n",
      "\n",
      "Act 2:\n",
      "- As Ravi works his way up the corporate ladder, he witnesses firsthand the rapid economic growth and development taking place in India.\n",
      "- Through his experiences, Ravi learns about the importance of innovation, entrepreneurship, and hard work in driving the country's progress.\n",
      "- Ravi becomes involved in various initiatives aimed at promoting education, healthcare, and sustainable development in India, inspiring others to do the same.\n",
      "\n",
      "Act 3:\n",
      "- Just as things seem to be going well for Ravi, a political scandal erupts, threatening to derail all the progress that has been made.\n",
      "- Ravi must rally his friends and colleagues to fight against corruption and ensure that the country continues on its path towards growth and prosperity.\n",
      "- In a climactic showdown, Ravi and his allies succeed in exposing the truth and bringing about positive change in India.\n",
      "\n",
      "Epilogue:\n",
      "- The film ends with a hopeful vision of India's future, showing how the country has overcome its past challenges and emerged as a global leader in technology, innovation, and social development.\n",
      "- Ravi reflects on the journey he has been on and the lessons he has learned about perseverance, unity, and the power of individuals to make a difference in their country.\n",
      "- The screen fades to black with the words \"Jai Hind\" (Victory to India) displayed, symbolizing the triumph of the Indian spirit in the face of adversity.\n"
     ]
    }
   ],
   "source": [
    "print(result['text'])"
   ]
  },
  {
   "cell_type": "code",
   "execution_count": 11,
   "metadata": {},
   "outputs": [
    {
     "data": {
      "text/plain": [
       "AIMessage(content='Title: Rising from the Ashes: The Growth of India\\n\\nAct 1:\\n- The film opens with a montage of historical footage showcasing the struggles and challenges faced by India in the past, including colonization, poverty, and political instability.\\n- We are introduced to our protagonist, Ravi, a young man from a small village in India who dreams of creating a better future for himself and his country.\\n- Ravi moves to the bustling city of Mumbai to pursue his education and career, facing numerous obstacles along the way.\\n\\nAct 2:\\n- As Ravi works his way up the corporate ladder, he witnesses firsthand the rapid economic growth and development taking place in India.\\n- Through his experiences, Ravi learns about the importance of innovation, entrepreneurship, and hard work in driving the country\\'s progress.\\n- Ravi becomes involved in various initiatives aimed at promoting education, healthcare, and sustainable development in India, inspiring others to do the same.\\n\\nAct 3:\\n- Just as things seem to be going well for Ravi, a political scandal erupts, threatening to derail all the progress that has been made.\\n- Ravi must rally his friends and colleagues to fight against corruption and ensure that the country continues on its path towards growth and prosperity.\\n- In a climactic showdown, Ravi and his allies succeed in exposing the truth and bringing about positive change in India.\\n\\nEpilogue:\\n- The film ends with a hopeful vision of India\\'s future, showing how the country has overcome its past challenges and emerged as a global leader in technology, innovation, and social development.\\n- Ravi reflects on the journey he has been on and the lessons he has learned about perseverance, unity, and the power of individuals to make a difference in their country.\\n- The screen fades to black with the words \"Jai Hind\" (Victory to India) displayed, symbolizing the triumph of the Indian spirit in the face of adversity.')"
      ]
     },
     "execution_count": 11,
     "metadata": {},
     "output_type": "execute_result"
    }
   ],
   "source": [
    "lcel_chain = chat_prompt | chat\n",
    "\n",
    "lcel_chain.invoke(input={\"topic\": \"Growth of India\"})"
   ]
  },
  {
   "cell_type": "markdown",
   "metadata": {},
   "source": [
    "# Simple Sequential Chain"
   ]
  },
  {
   "cell_type": "code",
   "execution_count": 12,
   "metadata": {},
   "outputs": [],
   "source": [
    "story_line_template = \"Write a film story outline on the topic: {topic}\"\n",
    "story_line_prompt = ChatPromptTemplate.from_template(template=story_line_template)\n",
    "story_line_chain = LLMChain(llm=chat, prompt=story_line_prompt)\n",
    "\n",
    "full_story_template = \"Write a short film story on the given story line: {story_line}\"\n",
    "full_story_prompt = ChatPromptTemplate.from_template(template=full_story_template)\n",
    "full_story_chain = LLMChain(llm=chat, prompt=full_story_prompt)\n",
    "\n",
    "reviewer_template = \"Act as a reviewer of rotten tomatoes and rate the given story: {full_story}\"\n",
    "reviewer_prompt = ChatPromptTemplate.from_template(template=reviewer_template)\n",
    "reviewer_chain = LLMChain(llm=chat, prompt=reviewer_prompt)"
   ]
  },
  {
   "cell_type": "code",
   "execution_count": 13,
   "metadata": {},
   "outputs": [],
   "source": [
    "from langchain.chains import SimpleSequentialChain\n",
    "\n",
    "film_chain = SimpleSequentialChain(\n",
    "    chains=[story_line_chain, full_story_chain, reviewer_chain],\n",
    "    verbose=True\n",
    ")"
   ]
  },
  {
   "cell_type": "code",
   "execution_count": 14,
   "metadata": {},
   "outputs": [
    {
     "name": "stderr",
     "output_type": "stream",
     "text": [
      "d:\\CodeWork\\GitHub\\langchain_training\\.conda\\lib\\site-packages\\langchain_core\\_api\\deprecation.py:117: LangChainDeprecationWarning: The function `run` was deprecated in LangChain 0.1.0 and will be removed in 0.2.0. Use invoke instead.\n",
      "  warn_deprecated(\n"
     ]
    },
    {
     "name": "stdout",
     "output_type": "stream",
     "text": [
      "\n",
      "\n",
      "\u001b[1m> Entering new SimpleSequentialChain chain...\u001b[0m\n",
      "\u001b[36;1m\u001b[1;3mTitle: Rising from the Ashes: The Growth of India\n",
      "\n",
      "Act 1:\n",
      "- The film opens with a montage of historical footage showcasing the struggles and challenges faced by India in the past, including colonization, poverty, and political instability.\n",
      "- We are introduced to our protagonist, Ravi, a young man from a small village in India who dreams of creating a better future for himself and his country.\n",
      "- Ravi moves to the bustling city of Mumbai to pursue his education and career, facing numerous obstacles along the way.\n",
      "\n",
      "Act 2:\n",
      "- As Ravi works his way up the corporate ladder, he witnesses firsthand the rapid economic growth and development taking place in India.\n",
      "- Through his experiences, Ravi learns about the importance of innovation, entrepreneurship, and hard work in driving the country's progress.\n",
      "- Ravi becomes involved in various initiatives aimed at promoting education, healthcare, and sustainable development in India, inspiring others to do the same.\n",
      "\n",
      "Act 3:\n",
      "- Just as things seem to be going well for Ravi, a political scandal erupts, threatening to derail all the progress that has been made.\n",
      "- Ravi must rally his friends and colleagues to fight against corruption and ensure that the country continues on its path towards growth and prosperity.\n",
      "- In a climactic showdown, Ravi and his allies succeed in exposing the truth and bringing about positive change in India.\n",
      "\n",
      "Epilogue:\n",
      "- The film ends with a hopeful vision of India's future, showing how the country has overcome its past challenges and emerged as a global leader in technology, innovation, and social development.\n",
      "- Ravi reflects on the journey he has been on and the lessons he has learned about perseverance, unity, and the power of individuals to make a difference in their country.\n",
      "- The screen fades to black with the words \"Jai Hind\" (Victory to India) displayed, symbolizing the triumph of the Indian spirit in the face of adversity.\u001b[0m\n"
     ]
    },
    {
     "name": "stdout",
     "output_type": "stream",
     "text": [
      "\u001b[33;1m\u001b[1;3mFade in to a beautiful sunrise over the city of Mumbai, showcasing the bustling streets and towering skyscrapers. Ravi stands at the edge of a rooftop, looking out at the city he now calls home. He takes a deep breath, feeling a sense of pride and accomplishment for all that he has achieved.\n",
      "\n",
      "As Ravi looks out at the horizon, he is reminded of the journey he has been on - the struggles, the setbacks, and the triumphs. He thinks back to his humble beginnings in a small village, where he dared to dream of a better future for himself and his country.\n",
      "\n",
      "Ravi's phone buzzes, interrupting his thoughts. He answers the call, a smile spreading across his face as he hears the voice on the other end. It's his friends and colleagues, ready to embark on their next mission to drive positive change in India.\n",
      "\n",
      "With renewed determination, Ravi joins his allies as they set out to tackle the challenges that lie ahead. Together, they work tirelessly to promote education, healthcare, and sustainable development, striving to create a brighter future for all Indians.\n",
      "\n",
      "As they navigate the complexities of politics and corruption, Ravi and his team face numerous obstacles. But through their unwavering dedication and perseverance, they manage to overcome every hurdle that comes their way.\n",
      "\n",
      "In a heart-pounding climax, Ravi and his allies expose the truth behind the political scandal, bringing about justice and accountability. The country celebrates their victory, applauding the courage and tenacity of these young change-makers.\n",
      "\n",
      "As the dust settles, Ravi stands on the rooftop once again, looking out at the city below. The sun sets in the distance, casting a warm glow over the skyline. Ravi feels a sense of peace and fulfillment, knowing that he has played a part in the growth and development of his beloved country.\n",
      "\n",
      "The screen fades to black, leaving the audience with a sense of hope and optimism for the future of India. The words \"Rising from the Ashes: The Growth of India\" appear on the screen, a testament to the resilience and determination of the Indian people. Jai Hind.\u001b[0m\n",
      "\u001b[38;5;200m\u001b[1;3mRating: 4/5\n",
      "\n",
      "\"Rising from the Ashes: The Growth of India\" is a heartwarming and inspirational story that captures the spirit of determination and resilience of the Indian people. The film beautifully portrays the journey of Ravi and his allies as they work towards creating a better future for their country. The characters are well-developed and the storyline is engaging, keeping the audience invested from start to finish.\n",
      "\n",
      "The cinematography of the film is stunning, with breathtaking shots of Mumbai and the city's vibrant energy. The themes of education, healthcare, and sustainable development are important and relevant, adding depth to the narrative.\n",
      "\n",
      "While the plot may be a bit predictable at times, the overall message of hope and optimism shines through. The film does a great job of highlighting the challenges and obstacles that come with driving positive change, while also emphasizing the power of unity and perseverance.\n",
      "\n",
      "Overall, \"Rising from the Ashes: The Growth of India\" is a feel-good movie that will leave you inspired and hopeful for the future. A must-watch for those who believe in the power of making a difference. Jai Hind!\u001b[0m\n",
      "\n",
      "\u001b[1m> Finished chain.\u001b[0m\n"
     ]
    }
   ],
   "source": [
    "result = film_chain.run(\"Growth of India\")"
   ]
  },
  {
   "cell_type": "code",
   "execution_count": 15,
   "metadata": {},
   "outputs": [
    {
     "data": {
      "text/plain": [
       "'Rating: 4/5\\n\\n\"Rising from the Ashes: The Growth of India\" is a heartwarming and inspirational story that captures the spirit of determination and resilience of the Indian people. The film beautifully portrays the journey of Ravi and his allies as they work towards creating a better future for their country. The characters are well-developed and the storyline is engaging, keeping the audience invested from start to finish.\\n\\nThe cinematography of the film is stunning, with breathtaking shots of Mumbai and the city\\'s vibrant energy. The themes of education, healthcare, and sustainable development are important and relevant, adding depth to the narrative.\\n\\nWhile the plot may be a bit predictable at times, the overall message of hope and optimism shines through. The film does a great job of highlighting the challenges and obstacles that come with driving positive change, while also emphasizing the power of unity and perseverance.\\n\\nOverall, \"Rising from the Ashes: The Growth of India\" is a feel-good movie that will leave you inspired and hopeful for the future. A must-watch for those who believe in the power of making a difference. Jai Hind!'"
      ]
     },
     "execution_count": 15,
     "metadata": {},
     "output_type": "execute_result"
    }
   ],
   "source": [
    "result"
   ]
  },
  {
   "cell_type": "code",
   "execution_count": 16,
   "metadata": {},
   "outputs": [
    {
     "data": {
      "text/plain": [
       "{'topic': 'Growth of India',\n",
       " 'story_line': 'Growth of India',\n",
       " 'full_story': 'Growth of India',\n",
       " 'text': 'Title: Growth of India\\n\\nRating: 80%\\n\\nReview:\\n\"Growth of India is a compelling and informative documentary that explores the economic and social development of India over the past few decades. The film delves into various aspects of India\\'s growth story, from its booming IT sector to its expanding middle class. The interviews with economists, politicians, and ordinary citizens provide a well-rounded perspective on the challenges and opportunities facing the country. The cinematography is stunning, capturing the vibrant colors and diverse landscapes of India. However, at times, the film feels a bit too focused on the positives and fails to address some of the darker aspects of India\\'s growth, such as income inequality and environmental degradation. Overall, Growth of India is a must-watch for anyone interested in understanding the complexities of India\\'s economic transformation.\"'}"
      ]
     },
     "execution_count": 16,
     "metadata": {},
     "output_type": "execute_result"
    }
   ],
   "source": [
    "lcel_film_chain = story_line_chain | full_story_chain | reviewer_chain\n",
    "\n",
    "lcel_film_chain.invoke(input={\"topic\": \"Growth of India\", \"story_line\": \"Growth of India\", \"full_story\": \"Growth of India\"})"
   ]
  },
  {
   "cell_type": "code",
   "execution_count": 18,
   "metadata": {},
   "outputs": [
    {
     "data": {
      "text/plain": [
       "{'full_story': 'Fade in to a beautiful sunrise over the city of Mumbai, showcasing the bustling streets and towering skyscrapers. Ravi stands at the edge of a rooftop, looking out at the city he now calls home. He takes a deep breath, feeling a sense of pride and accomplishment for all that he has achieved.\\n\\nAs Ravi looks out at the horizon, he is reminded of the journey he has been on - the struggles, the setbacks, and the triumphs. He thinks back to his humble beginnings in a small village, where he dared to dream of a better future for himself and his country.\\n\\nRavi\\'s phone buzzes, interrupting his thoughts. He answers the call, a smile spreading across his face as he hears the voice on the other end. It\\'s his friends and colleagues, ready to embark on their next mission to drive positive change in India.\\n\\nWith renewed determination, Ravi joins his allies as they set out to tackle the challenges that lie ahead. Together, they work tirelessly to promote education, healthcare, and sustainable development, striving to create a brighter future for all Indians.\\n\\nAs they navigate the complexities of politics and corruption, Ravi and his team face numerous obstacles. But through their unwavering dedication and perseverance, they manage to overcome every hurdle that comes their way.\\n\\nIn a heart-pounding climax, Ravi and his allies expose the truth behind the political scandal, bringing about justice and accountability. The country celebrates their victory, applauding the courage and tenacity of these young change-makers.\\n\\nAs the dust settles, Ravi stands on the rooftop once again, looking out at the city below. The sun sets in the distance, casting a warm glow over the skyline. Ravi feels a sense of peace and fulfillment, knowing that he has played a part in the growth and development of his beloved country.\\n\\nThe screen fades to black, leaving the audience with a sense of hope and optimism for the future of India. The words \"Rising from the Ashes: The Growth of India\" appear on the screen, a testament to the resilience and determination of the Indian people. Jai Hind.',\n",
       " 'text': 'Rating: 4/5\\n\\n\"Rising from the Ashes: The Growth of India\" is a heartwarming and inspirational story that captures the spirit of determination and resilience of the Indian people. The film beautifully portrays the journey of Ravi and his allies as they work towards creating a better future for their country. The characters are well-developed and the storyline is engaging, keeping the audience invested from start to finish.\\n\\nThe cinematography of the film is stunning, with breathtaking shots of Mumbai and the city\\'s vibrant energy. The themes of education, healthcare, and sustainable development are important and relevant, adding depth to the narrative.\\n\\nWhile the plot may be a bit predictable at times, the overall message of hope and optimism shines through. The film does a great job of highlighting the challenges and obstacles that come with driving positive change, while also emphasizing the power of unity and perseverance.\\n\\nOverall, \"Rising from the Ashes: The Growth of India\" is a feel-good movie that will leave you inspired and hopeful for the future. A must-watch for those who believe in the power of making a difference. Jai Hind!'}"
      ]
     },
     "execution_count": 18,
     "metadata": {},
     "output_type": "execute_result"
    }
   ],
   "source": [
    "from langchain.schema.runnable import RunnableLambda\n",
    "\n",
    "def get_story_line(response):\n",
    "    return {\"story_line\": response['text']}\n",
    "\n",
    "def get_full_story(response):\n",
    "    return {\"full_story\": response['text']}\n",
    "\n",
    "story_line_lcel_chain = story_line_chain | RunnableLambda(get_story_line)\n",
    "full_story_lcel_chain = full_story_chain | RunnableLambda(get_full_story)\n",
    "\n",
    "lcel_film_chain = story_line_lcel_chain | full_story_lcel_chain | reviewer_chain\n",
    "\n",
    "lcel_film_chain.invoke(input={\"topic\": \"Growth of India\"})"
   ]
  },
  {
   "cell_type": "markdown",
   "metadata": {},
   "source": [
    "# Sequential Chain"
   ]
  },
  {
   "cell_type": "code",
   "execution_count": 26,
   "metadata": {},
   "outputs": [],
   "source": [
    "from langchain.chains import SequentialChain"
   ]
  },
  {
   "cell_type": "code",
   "execution_count": 29,
   "metadata": {},
   "outputs": [],
   "source": [
    "story_line_template = \"Write a film story outline on the topic: {topic}\"\n",
    "story_line_prompt = ChatPromptTemplate.from_template(template=story_line_template)\n",
    "story_line_chain = LLMChain(llm=chat, prompt=story_line_prompt, output_key=\"story_line\")\n",
    "\n",
    "full_story_template = \"Write a short film story on the given story line: {story_line}\"\n",
    "full_story_prompt = ChatPromptTemplate.from_template(template=full_story_template)\n",
    "full_story_chain = LLMChain(llm=chat, prompt=full_story_prompt, output_key=\"full_story\")\n",
    "\n",
    "reviewer_template = \"Act as a reviewer of rotten tomatoes and rate the given story: {full_story}\\n and the topic is: {topic}\"\n",
    "reviewer_prompt = ChatPromptTemplate.from_template(template=reviewer_template)\n",
    "reviewer_chain = LLMChain(llm=chat, prompt=reviewer_prompt, output_key=\"reviwer_response\")"
   ]
  },
  {
   "cell_type": "code",
   "execution_count": 30,
   "metadata": {},
   "outputs": [],
   "source": [
    "lcel_chain = story_line_chain | full_story_chain | reviewer_chain"
   ]
  },
  {
   "cell_type": "code",
   "execution_count": 31,
   "metadata": {},
   "outputs": [
    {
     "data": {
      "text/plain": [
       "{'topic': 'Growth of India',\n",
       " 'story_line': 'Title: Rising from the Ashes: The Growth of India\\n\\nAct 1:\\n- The film opens with a montage of historical footage showcasing the struggles and challenges faced by India in the past, including colonization, poverty, and political instability.\\n- We are introduced to our protagonist, Ravi, a young man from a small village in India who dreams of creating a better future for himself and his country.\\n- Ravi moves to the bustling city of Mumbai to pursue his education and career, facing numerous obstacles along the way.\\n\\nAct 2:\\n- As Ravi works his way up the corporate ladder, he witnesses firsthand the rapid economic growth and development taking place in India.\\n- Through his experiences, Ravi learns about the importance of innovation, entrepreneurship, and hard work in driving the country\\'s progress.\\n- Ravi becomes involved in various initiatives aimed at promoting education, healthcare, and sustainable development in India, inspiring others to do the same.\\n\\nAct 3:\\n- Just as things seem to be going well for Ravi, a political scandal erupts, threatening to derail all the progress that has been made.\\n- Ravi must rally his friends and colleagues to fight against corruption and ensure that the country continues on its path towards growth and prosperity.\\n- In a climactic showdown, Ravi and his allies succeed in exposing the truth and bringing about positive change in India.\\n\\nEpilogue:\\n- The film ends with a hopeful vision of India\\'s future, showing how the country has overcome its past challenges and emerged as a global leader in technology, innovation, and social development.\\n- Ravi reflects on the journey he has been on and the lessons he has learned about perseverance, unity, and the power of individuals to make a difference in their country.\\n- The screen fades to black with the words \"Jai Hind\" (Victory to India) displayed, symbolizing the triumph of the Indian spirit in the face of adversity.',\n",
       " 'full_story': 'Fade in to a beautiful sunrise over the city of Mumbai, showcasing the bustling streets and towering skyscrapers. Ravi stands at the edge of a rooftop, looking out at the city he now calls home. He takes a deep breath, feeling a sense of pride and accomplishment for all that he has achieved.\\n\\nAs Ravi looks out at the horizon, he is reminded of the journey he has been on - the struggles, the setbacks, and the triumphs. He thinks back to his humble beginnings in a small village, where he dared to dream of a better future for himself and his country.\\n\\nRavi\\'s phone buzzes, interrupting his thoughts. He answers the call, a smile spreading across his face as he hears the voice on the other end. It\\'s his friends and colleagues, ready to embark on their next mission to drive positive change in India.\\n\\nWith renewed determination, Ravi joins his allies as they set out to tackle the challenges that lie ahead. Together, they work tirelessly to promote education, healthcare, and sustainable development, striving to create a brighter future for all Indians.\\n\\nAs they navigate the complexities of politics and corruption, Ravi and his team face numerous obstacles. But through their unwavering dedication and perseverance, they manage to overcome every hurdle that comes their way.\\n\\nIn a heart-pounding climax, Ravi and his allies expose the truth behind the political scandal, bringing about justice and accountability. The country celebrates their victory, applauding the courage and tenacity of these young change-makers.\\n\\nAs the dust settles, Ravi stands on the rooftop once again, looking out at the city below. The sun sets in the distance, casting a warm glow over the skyline. Ravi feels a sense of peace and fulfillment, knowing that he has played a part in the growth and development of his beloved country.\\n\\nThe screen fades to black, leaving the audience with a sense of hope and optimism for the future of India. The words \"Rising from the Ashes: The Growth of India\" appear on the screen, a testament to the resilience and determination of the Indian people. Jai Hind.',\n",
       " 'reviwer_response': 'Rating: 4.5/5\\n\\n\"Rising from the Ashes: The Growth of India\" is a captivating and inspiring story that beautifully captures the journey of Ravi and his allies as they work towards driving positive change in India. The film does an excellent job of showcasing the struggles and triumphs of the characters, as well as highlighting the complexities of politics and corruption in the country.\\n\\nThe climax of the story is particularly heart-pounding and satisfying, as Ravi and his team expose the truth behind a political scandal and bring about justice and accountability. The message of hope and optimism for the future of India is portrayed effectively, leaving the audience with a sense of empowerment and inspiration.\\n\\nOverall, \"Rising from the Ashes: The Growth of India\" is a must-watch for anyone interested in stories of perseverance, dedication, and the power of collective action. It is a testament to the resilience and determination of the Indian people, and I highly recommend it to all viewers. Jai Hind.'}"
      ]
     },
     "execution_count": 31,
     "metadata": {},
     "output_type": "execute_result"
    }
   ],
   "source": [
    "lcel_chain.invoke(input={\"topic\": \"Growth of India\"})"
   ]
  },
  {
   "cell_type": "code",
   "execution_count": 32,
   "metadata": {},
   "outputs": [
    {
     "name": "stdout",
     "output_type": "stream",
     "text": [
      "\n",
      "\n",
      "\u001b[1m> Entering new SequentialChain chain...\u001b[0m\n",
      "\n",
      "\u001b[1m> Finished chain.\u001b[0m\n"
     ]
    },
    {
     "data": {
      "text/plain": [
       "{'topic': 'Growth of India',\n",
       " 'story_line': 'Title: Rising from the Ashes: The Growth of India\\n\\nAct 1:\\n- The film opens with a montage of historical footage showcasing the struggles and challenges faced by India in the past, including colonization, poverty, and political instability.\\n- We are introduced to our protagonist, Ravi, a young man from a small village in India who dreams of creating a better future for himself and his country.\\n- Ravi moves to the bustling city of Mumbai to pursue his education and career, facing numerous obstacles along the way.\\n\\nAct 2:\\n- As Ravi works his way up the corporate ladder, he witnesses firsthand the rapid economic growth and development taking place in India.\\n- Through his experiences, Ravi learns about the importance of innovation, entrepreneurship, and hard work in driving the country\\'s progress.\\n- Ravi becomes involved in various initiatives aimed at promoting education, healthcare, and sustainable development in India, inspiring others to do the same.\\n\\nAct 3:\\n- Just as things seem to be going well for Ravi, a political scandal erupts, threatening to derail all the progress that has been made.\\n- Ravi must rally his friends and colleagues to fight against corruption and ensure that the country continues on its path towards growth and prosperity.\\n- In a climactic showdown, Ravi and his allies succeed in exposing the truth and bringing about positive change in India.\\n\\nEpilogue:\\n- The film ends with a hopeful vision of India\\'s future, showing how the country has overcome its past challenges and emerged as a global leader in technology, innovation, and social development.\\n- Ravi reflects on the journey he has been on and the lessons he has learned about perseverance, unity, and the power of individuals to make a difference in their country.\\n- The screen fades to black with the words \"Jai Hind\" (Victory to India) displayed, symbolizing the triumph of the Indian spirit in the face of adversity.',\n",
       " 'full_story': 'Fade in to a beautiful sunrise over the city of Mumbai, showcasing the bustling streets and towering skyscrapers. Ravi stands at the edge of a rooftop, looking out at the city he now calls home. He takes a deep breath, feeling a sense of pride and accomplishment for all that he has achieved.\\n\\nAs Ravi looks out at the horizon, he is reminded of the journey he has been on - the struggles, the setbacks, and the triumphs. He thinks back to his humble beginnings in a small village, where he dared to dream of a better future for himself and his country.\\n\\nRavi\\'s phone buzzes, interrupting his thoughts. He answers the call, a smile spreading across his face as he hears the voice on the other end. It\\'s his friends and colleagues, ready to embark on their next mission to drive positive change in India.\\n\\nWith renewed determination, Ravi joins his allies as they set out to tackle the challenges that lie ahead. Together, they work tirelessly to promote education, healthcare, and sustainable development, striving to create a brighter future for all Indians.\\n\\nAs they navigate the complexities of politics and corruption, Ravi and his team face numerous obstacles. But through their unwavering dedication and perseverance, they manage to overcome every hurdle that comes their way.\\n\\nIn a heart-pounding climax, Ravi and his allies expose the truth behind the political scandal, bringing about justice and accountability. The country celebrates their victory, applauding the courage and tenacity of these young change-makers.\\n\\nAs the dust settles, Ravi stands on the rooftop once again, looking out at the city below. The sun sets in the distance, casting a warm glow over the skyline. Ravi feels a sense of peace and fulfillment, knowing that he has played a part in the growth and development of his beloved country.\\n\\nThe screen fades to black, leaving the audience with a sense of hope and optimism for the future of India. The words \"Rising from the Ashes: The Growth of India\" appear on the screen, a testament to the resilience and determination of the Indian people. Jai Hind.',\n",
       " 'reviwer_response': 'Rating: 4.5/5\\n\\n\"Rising from the Ashes: The Growth of India\" is a captivating and inspiring story that beautifully captures the journey of Ravi and his allies as they work towards driving positive change in India. The film does an excellent job of showcasing the struggles and triumphs of the characters, as well as highlighting the complexities of politics and corruption in the country.\\n\\nThe climax of the story is particularly heart-pounding and satisfying, as Ravi and his team expose the truth behind a political scandal and bring about justice and accountability. The message of hope and optimism for the future of India is portrayed effectively, leaving the audience with a sense of empowerment and inspiration.\\n\\nOverall, \"Rising from the Ashes: The Growth of India\" is a must-watch for anyone interested in stories of perseverance, dedication, and the power of collective action. It is a testament to the resilience and determination of the Indian people, and I highly recommend it to all viewers. Jai Hind.'}"
      ]
     },
     "execution_count": 32,
     "metadata": {},
     "output_type": "execute_result"
    }
   ],
   "source": [
    "seq_chain = SequentialChain(\n",
    "    chains=[story_line_chain, full_story_chain, reviewer_chain],\n",
    "    input_variables=['topic'],\n",
    "    output_variables = ['story_line', 'full_story', 'reviwer_response'],\n",
    "    verbose=True\n",
    ")\n",
    "\n",
    "seq_chain.invoke(input={\"topic\": \"Growth of India\"})"
   ]
  },
  {
   "cell_type": "markdown",
   "metadata": {},
   "source": [
    "# LCEL"
   ]
  },
  {
   "cell_type": "code",
   "execution_count": 33,
   "metadata": {},
   "outputs": [
    {
     "data": {
      "text/plain": [
       "RunnableLambda(square)"
      ]
     },
     "execution_count": 33,
     "metadata": {},
     "output_type": "execute_result"
    }
   ],
   "source": [
    "from langchain.schema.runnable import RunnableLambda\n",
    "\n",
    "def square(a):\n",
    "    return a**2\n",
    "\n",
    "sq_runnable = RunnableLambda(square)\n",
    "\n",
    "sq_runnable"
   ]
  },
  {
   "cell_type": "code",
   "execution_count": 34,
   "metadata": {},
   "outputs": [
    {
     "data": {
      "text/plain": [
       "langchain_core.runnables.base.RunnableLambda"
      ]
     },
     "execution_count": 34,
     "metadata": {},
     "output_type": "execute_result"
    }
   ],
   "source": [
    "type(sq_runnable)"
   ]
  },
  {
   "cell_type": "code",
   "execution_count": 35,
   "metadata": {},
   "outputs": [
    {
     "data": {
      "text/plain": [
       "16"
      ]
     },
     "execution_count": 35,
     "metadata": {},
     "output_type": "execute_result"
    }
   ],
   "source": [
    "sq_runnable.invoke(4)"
   ]
  },
  {
   "cell_type": "code",
   "execution_count": 38,
   "metadata": {},
   "outputs": [],
   "source": [
    "from langchain.schema.runnable import RunnablePassthrough\n",
    "\n",
    "runnable_sq_pass = RunnablePassthrough()"
   ]
  },
  {
   "cell_type": "code",
   "execution_count": 40,
   "metadata": {},
   "outputs": [
    {
     "data": {
      "text/plain": [
       "5"
      ]
     },
     "execution_count": 40,
     "metadata": {},
     "output_type": "execute_result"
    }
   ],
   "source": [
    "runnable_sq_pass.invoke(5)"
   ]
  },
  {
   "cell_type": "code",
   "execution_count": 56,
   "metadata": {},
   "outputs": [
    {
     "data": {
      "text/plain": [
       "18"
      ]
     },
     "execution_count": 56,
     "metadata": {},
     "output_type": "execute_result"
    }
   ],
   "source": [
    "from langchain.schema.runnable import RunnableParallel\n",
    "from operator import itemgetter\n",
    "\n",
    "\n",
    "def times2(x):\n",
    "    return x*2\n",
    "\n",
    "\n",
    "def times3(y):\n",
    "    return y*3\n",
    "\n",
    "\n",
    "# def add(res_dict):\n",
    "#     return res_dict['a'] + res_dict['b']\n",
    "def add(res_dict):\n",
    "    res = 0\n",
    "    for k, v in res_dict.items():\n",
    "        res+=v\n",
    "    return res\n",
    "\n",
    "runnable_times2 = RunnableLambda(times2)\n",
    "runnable_times3 = RunnableLambda(times3)\n",
    "runnable_sum = RunnableLambda(add)\n",
    "\n",
    "# par_chain = RunnableParallel({\"a\": itemgetter('x') | runnable_times2, \n",
    "#                               \"b\": itemgetter('y') | runnable_times3})\n",
    "\n",
    "par_chain = RunnableParallel(\n",
    "    {\"a\": itemgetter('x') | runnable_times2, \n",
    "     \"b\": itemgetter('y') | runnable_times3,\n",
    "     \"x\": itemgetter('x') | RunnablePassthrough(),\n",
    "     \"y\": itemgetter('y') | RunnablePassthrough(),\n",
    "     })\n",
    "\n",
    "calc_chain = par_chain | runnable_sum\n",
    "\n",
    "calc_chain.invoke(input={\"x\": 2, \"y\": 3})"
   ]
  },
  {
   "cell_type": "code",
   "execution_count": 67,
   "metadata": {},
   "outputs": [
    {
     "data": {
      "text/plain": [
       "12"
      ]
     },
     "execution_count": 67,
     "metadata": {},
     "output_type": "execute_result"
    }
   ],
   "source": [
    "class RunnableLambdaTest:\n",
    "    def __init__(self, func):\n",
    "        self.func = func\n",
    "        \n",
    "    def __or__(self, other_runnable_obj):\n",
    "        def chained_func(*args, **kwargs):\n",
    "            return other_runnable_obj.invoke(self.func(*args, **kwargs))\n",
    "        return RunnableLambdaTest(chained_func)\n",
    "    \n",
    "    def invoke(self, *args, **kwargs):\n",
    "        return self.func(*args, **kwargs)\n",
    "    \n",
    "def times2(a):\n",
    "    return a*2\n",
    "\n",
    "def times3(b): \n",
    "    return b*3\n",
    "\n",
    "runnable_2 = RunnableLambdaTest(times2)\n",
    "runnable_3 = RunnableLambdaTest(times3)\n",
    "\n",
    "# test_chain = runnable_2.__or__(runnable_3)\n",
    "\n",
    "test_chain = runnable_2 | runnable_3\n",
    "\n",
    "test_chain.invoke(2)"
   ]
  },
  {
   "cell_type": "markdown",
   "metadata": {},
   "source": [
    "# LLMRouterChain"
   ]
  },
  {
   "cell_type": "code",
   "execution_count": 17,
   "metadata": {},
   "outputs": [],
   "source": [
    "import os\n",
    "import warnings\n",
    "from dotenv import load_dotenv\n",
    "from langchain_openai.llms import OpenAI\n",
    "from langchain_openai.chat_models import ChatOpenAI\n",
    "from langchain.globals import set_llm_cache\n",
    "from langchain.cache import InMemoryCache\n",
    "from langchain.prompts import PromptTemplate\n",
    "from langchain.prompts.chat import ChatPromptTemplate, HumanMessagePromptTemplate\n",
    "from langchain.chains import LLMChain\n",
    "\n",
    "warnings.filterwarnings(\"ignore\")\n",
    "load_dotenv()\n",
    "llm = OpenAI()\n",
    "chat = ChatOpenAI()\n",
    "set_llm_cache(InMemoryCache())"
   ]
  },
  {
   "cell_type": "code",
   "execution_count": 2,
   "metadata": {},
   "outputs": [],
   "source": [
    "# Task types\n",
    "\n",
    "psy_name = \"Psychologist\" # Who\n",
    "\n",
    "psy_description = \"Helps with any psychological issues\" # What\n",
    "\n",
    "psy_template = \"\"\"You are a helpful psychologist who wants to help the user to make them feel better.\n",
    "You always give 3 simple and most appropriate remedies to the user based on their issue.\n",
    "The user issue is mentioned in the below triple backticks:\n",
    "```\n",
    "{input}\n",
    "```\n",
    "\"\"\" # How\n",
    "\n",
    "# ----------------------------------------------\n",
    "\n",
    "phy_name = \"General Physician\"\n",
    "\n",
    "phy_description = \"Helps with any General Physical Health issues\"\n",
    "\n",
    "phy_template = \"\"\"You are a helpful general physician who always suggests home remedies for any issues.\n",
    "You always suggest 5 most appropriate remedies to the user based on their issue.\n",
    "The user issue is mentioned in the below triple backticks:\n",
    "```\n",
    "{input}\n",
    "```\n",
    "\"\"\""
   ]
  },
  {
   "cell_type": "code",
   "execution_count": 3,
   "metadata": {},
   "outputs": [],
   "source": [
    "llm_dict = {psy_name: chat, phy_name: chat}"
   ]
  },
  {
   "cell_type": "code",
   "execution_count": 4,
   "metadata": {},
   "outputs": [],
   "source": [
    "prompt_info_list = [\n",
    "    {\n",
    "        \"name\": psy_name,\n",
    "        \"description\": psy_description,\n",
    "        \"template\": psy_template\n",
    "    }, \n",
    "    {\n",
    "        \"name\": phy_name,\n",
    "        \"description\": phy_description,\n",
    "        \"template\": phy_template\n",
    "    }, \n",
    "]"
   ]
  },
  {
   "cell_type": "code",
   "execution_count": 8,
   "metadata": {},
   "outputs": [],
   "source": [
    "destination_chains = {}\n",
    "destination_descriptions = \"\"\n",
    "\n",
    "for prompt_info in prompt_info_list:\n",
    "    name = prompt_info['name']\n",
    "    template = prompt_info['template']\n",
    "    prompt = ChatPromptTemplate.from_template(template=template)\n",
    "    llm = llm_dict[name]\n",
    "    chain = LLMChain(llm=llm, prompt=prompt)\n",
    "    destination_chains[name] = chain\n",
    "    \n",
    "    destination_descriptions += f\"{prompt_info['name']}: {prompt_info['description']}\\n\""
   ]
  },
  {
   "cell_type": "code",
   "execution_count": 9,
   "metadata": {},
   "outputs": [
    {
     "data": {
      "text/plain": [
       "{'Psychologist': LLMChain(prompt=ChatPromptTemplate(input_variables=['input'], messages=[HumanMessagePromptTemplate(prompt=PromptTemplate(input_variables=['input'], template='You are a helpful psychologist who wants to help the user to make them feel better.\\nYou always give 3 simple and most appropriate remedies to the user based on their issue.\\nThe user issue is mentioned in the below triple backticks:\\n```\\n{input}\\n```\\n'))]), llm=ChatOpenAI(client=<openai.resources.chat.completions.Completions object at 0x0000026DBE909F40>, async_client=<openai.resources.chat.completions.AsyncCompletions object at 0x0000026DBE915460>, openai_api_key=SecretStr('**********'), openai_proxy='')),\n",
       " 'General Physician': LLMChain(prompt=ChatPromptTemplate(input_variables=['input'], messages=[HumanMessagePromptTemplate(prompt=PromptTemplate(input_variables=['input'], template='You are a helpful general physician who always suggests home remedies for any issues.\\nYou always suggest 5 most appropriate remedies to the user based on their issue.\\nThe user issue is mentioned in the below triple backticks:\\n```\\n{input}\\n```\\n'))]), llm=ChatOpenAI(client=<openai.resources.chat.completions.Completions object at 0x0000026DBE909F40>, async_client=<openai.resources.chat.completions.AsyncCompletions object at 0x0000026DBE915460>, openai_api_key=SecretStr('**********'), openai_proxy=''))}"
      ]
     },
     "execution_count": 9,
     "metadata": {},
     "output_type": "execute_result"
    }
   ],
   "source": [
    "destination_chains"
   ]
  },
  {
   "cell_type": "code",
   "execution_count": 11,
   "metadata": {},
   "outputs": [
    {
     "name": "stdout",
     "output_type": "stream",
     "text": [
      "Psychologist: Helps with any psychological issues\n",
      "General Physician: Helps with any General Physical Health issues\n",
      "\n"
     ]
    }
   ],
   "source": [
    "print(destination_descriptions)"
   ]
  },
  {
   "cell_type": "code",
   "execution_count": 15,
   "metadata": {},
   "outputs": [],
   "source": [
    "from langchain.chains.router.multi_prompt_prompt import MULTI_PROMPT_ROUTER_TEMPLATE\n",
    "from langchain.chains.router.llm_router import LLMRouterChain, RouterOutputParser\n",
    "from langchain.chains.router import MultiPromptChain"
   ]
  },
  {
   "cell_type": "code",
   "execution_count": 33,
   "metadata": {},
   "outputs": [],
   "source": [
    "router_template = MULTI_PROMPT_ROUTER_TEMPLATE.format(destinations=destination_descriptions)"
   ]
  },
  {
   "cell_type": "code",
   "execution_count": 34,
   "metadata": {},
   "outputs": [],
   "source": [
    "router_prompt = PromptTemplate(template=router_template, input_variables=[], output_parser=RouterOutputParser())"
   ]
  },
  {
   "cell_type": "code",
   "execution_count": 35,
   "metadata": {},
   "outputs": [],
   "source": [
    "router_chain = LLMRouterChain.from_llm(llm=chat, prompt=router_prompt)"
   ]
  },
  {
   "cell_type": "code",
   "execution_count": 36,
   "metadata": {},
   "outputs": [],
   "source": [
    "from langchain.chains import ConversationChain\n",
    "\n",
    "default_chain = ConversationChain(llm=chat, output_key='text')"
   ]
  },
  {
   "cell_type": "code",
   "execution_count": 37,
   "metadata": {},
   "outputs": [],
   "source": [
    "chain = MultiPromptChain(\n",
    "    router_chain=router_chain,\n",
    "    destination_chains=destination_chains,\n",
    "    default_chain=default_chain,\n",
    "    verbose=True\n",
    ")"
   ]
  },
  {
   "cell_type": "code",
   "execution_count": 38,
   "metadata": {},
   "outputs": [
    {
     "name": "stdout",
     "output_type": "stream",
     "text": [
      "\n",
      "\n",
      "\u001b[1m> Entering new MultiPromptChain chain...\u001b[0m\n",
      "Psychologist: {'input': 'I had trouble sleeping last night'}\n",
      "\u001b[1m> Finished chain.\u001b[0m\n",
      "1. Establish a bedtime routine: Try going to bed and waking up at the same time every day, even on weekends. Create a relaxing bedtime routine to signal to your body that it's time to wind down.\n",
      "\n",
      "2. Limit screen time before bed: The blue light emitted from screens can interfere with your body's production of melatonin, the hormone that regulates sleep. Try to avoid screens at least an hour before bedtime.\n",
      "\n",
      "3. Practice relaxation techniques: Deep breathing, meditation, or progressive muscle relaxation can help calm your mind and body before bed. Experiment with different techniques to find what works best for you.\n"
     ]
    }
   ],
   "source": [
    "response = chain.run(\"I could not sleep last night\")\n",
    "print(response)"
   ]
  },
  {
   "cell_type": "code",
   "execution_count": 5,
   "metadata": {},
   "outputs": [
    {
     "name": "stdout",
     "output_type": "stream",
     "text": [
      "\n",
      "\n",
      "\u001b[1m> Entering new MultiPromptChain chain...\u001b[0m\n",
      "General Physician: {'input': \"I couldn't walk properly since I hit my leg to the bed yesterday\"}\n",
      "\u001b[1m> Finished chain.\u001b[0m\n",
      "Here are 5 home remedies for your leg injury:\n",
      "\n",
      "1. Rest: Make sure to give your leg proper rest to allow it to heal.\n",
      "2. Ice: Apply ice to the injured area to reduce swelling and pain. Make sure to wrap the ice pack in a cloth to prevent ice burn.\n",
      "3. Elevation: Elevate your leg above heart level to reduce swelling and promote healing.\n",
      "4. Compression: Wrap the injured area with a compression bandage to provide support and reduce swelling.\n",
      "5. Arnica: Consider using arnica gel or cream to help reduce pain and inflammation in the injured area.\n"
     ]
    }
   ],
   "source": [
    "response = chain.run(\"I couldn't walk properly since I hit my leg to the bed yesterday\")\n",
    "print(response)"
   ]
  },
  {
   "cell_type": "code",
   "execution_count": 6,
   "metadata": {},
   "outputs": [
    {
     "name": "stdout",
     "output_type": "stream",
     "text": [
      "\n",
      "\n",
      "\u001b[1m> Entering new MultiPromptChain chain...\u001b[0m\n",
      "None: {'input': 'Taj mahal is beautiful'}\n",
      "\u001b[1m> Finished chain.\u001b[0m\n",
      "Yes, the Taj Mahal is indeed a breathtakingly beautiful structure located in Agra, India. It was built by the Mughal emperor Shah Jahan in memory of his wife Mumtaz Mahal and is considered one of the most iconic symbols of love and architecture in the world. The Taj Mahal is made of white marble and features intricate carvings, inlaid precious stones, and a stunning garden complex. It is also a UNESCO World Heritage Site and attracts millions of visitors each year.\n"
     ]
    }
   ],
   "source": [
    "response = chain.run(\"Taj mahal is beautiful\")\n",
    "print(response)"
   ]
  },
  {
   "cell_type": "code",
   "execution_count": 9,
   "metadata": {},
   "outputs": [
    {
     "name": "stdout",
     "output_type": "stream",
     "text": [
      "\n",
      "\n",
      "\u001b[1m> Entering new MultiPromptChain chain...\u001b[0m\n",
      "Psychologist: {'input': \"I don't like taj mahal\"}\n",
      "\u001b[1m> Finished chain.\u001b[0m\n",
      "I understand that not everyone may appreciate the Taj Mahal for various reasons. Here are three simple remedies that may help you feel better about the situation:\n",
      "\n",
      "1. Focus on other aspects of travel or landmarks that interest you more. It's okay to have different preferences and explore other destinations that align better with your interests.\n",
      "\n",
      "2. Try to appreciate the historical and cultural significance of the Taj Mahal. Learning about its architecture, history, and symbolism may help you gain a deeper understanding and appreciation for this iconic monument.\n",
      "\n",
      "3. Plan a trip to a different destination that you feel more excited about. Traveling is about discovering new places and experiences that resonate with you, so don't hesitate to explore other options that align better with your preferences.\n"
     ]
    }
   ],
   "source": [
    "response = chain.run(\"I don't like taj mahal\")\n",
    "print(response)"
   ]
  },
  {
   "cell_type": "markdown",
   "metadata": {},
   "source": [
    "## MathChain"
   ]
  },
  {
   "cell_type": "code",
   "execution_count": 8,
   "metadata": {},
   "outputs": [
    {
     "name": "stdout",
     "output_type": "stream",
     "text": [
      "Requirement already satisfied: numexpr in d:\\codework\\github\\langchain_training\\.conda\\lib\\site-packages (2.10.0)\n",
      "Requirement already satisfied: numpy>=1.19.3 in d:\\codework\\github\\langchain_training\\.conda\\lib\\site-packages (from numexpr) (1.26.4)\n"
     ]
    }
   ],
   "source": [
    "!pip install numexpr"
   ]
  },
  {
   "cell_type": "markdown",
   "metadata": {},
   "source": [
    "### LLMMathChain"
   ]
  },
  {
   "cell_type": "code",
   "execution_count": 10,
   "metadata": {},
   "outputs": [],
   "source": [
    "from langchain import LLMMathChain\n",
    "\n",
    "llm_math_chain = LLMMathChain.from_llm(llm=chat, verbose=True)"
   ]
  },
  {
   "cell_type": "code",
   "execution_count": 11,
   "metadata": {},
   "outputs": [
    {
     "name": "stdout",
     "output_type": "stream",
     "text": [
      "\n",
      "\n",
      "\u001b[1m> Entering new LLMMathChain chain...\u001b[0m\n",
      "What is 23 multiplied by 4 and subtracted by 18?\u001b[32;1m\u001b[1;3m```text\n",
      "23 * 4 - 18\n",
      "```\n",
      "...numexpr.evaluate(\"23 * 4 - 18\")...\n",
      "\u001b[0m\n",
      "Answer: \u001b[33;1m\u001b[1;3m74\u001b[0m\n",
      "\u001b[1m> Finished chain.\u001b[0m\n"
     ]
    },
    {
     "data": {
      "text/plain": [
       "'Answer: 74'"
      ]
     },
     "execution_count": 11,
     "metadata": {},
     "output_type": "execute_result"
    }
   ],
   "source": [
    "llm_math_chain.run(\"What is 23 multiplied by 4 and subtracted by 18?\")"
   ]
  },
  {
   "cell_type": "markdown",
   "metadata": {},
   "source": [
    "### PALChain"
   ]
  },
  {
   "cell_type": "code",
   "execution_count": 12,
   "metadata": {},
   "outputs": [],
   "source": [
    "from langchain_experimental.pal_chain import PALChain"
   ]
  },
  {
   "cell_type": "code",
   "execution_count": 13,
   "metadata": {},
   "outputs": [],
   "source": [
    "pal_chain = PALChain.from_math_prompt(llm=chat, verbose=True)"
   ]
  },
  {
   "cell_type": "code",
   "execution_count": 14,
   "metadata": {},
   "outputs": [
    {
     "name": "stdout",
     "output_type": "stream",
     "text": [
      "\n",
      "\n",
      "\u001b[1m> Entering new PALChain chain...\u001b[0m\n"
     ]
    },
    {
     "name": "stderr",
     "output_type": "stream",
     "text": [
      "Python REPL can execute arbitrary code. Use with caution.\n"
     ]
    },
    {
     "name": "stdout",
     "output_type": "stream",
     "text": [
      "\u001b[32;1m\u001b[1;3mdef solution():\n",
      "    \"\"\"A train travels at a speed of 60km/h and covers a certain distance in 3 hours. What is the distance covered by the train?\"\"\"\n",
      "    speed = 60  # speed in km/h\n",
      "    time = 3  # time in hours\n",
      "    distance_covered = speed * time\n",
      "    result = distance_covered\n",
      "    return result\u001b[0m\n",
      "\n",
      "\u001b[1m> Finished chain.\u001b[0m\n"
     ]
    },
    {
     "data": {
      "text/plain": [
       "'180'"
      ]
     },
     "execution_count": 14,
     "metadata": {},
     "output_type": "execute_result"
    }
   ],
   "source": [
    "pal_chain.run(\"A train travels at a speed of 60km/h and covers a certain distance in 3 hours. What is the distance covered by the train?\")"
   ]
  },
  {
   "cell_type": "code",
   "execution_count": null,
   "metadata": {},
   "outputs": [],
   "source": [
    "# Task\n",
    "\n",
    "from langchain.chains import MultiRetrievalQAChain\n",
    "\n",
    "chain = MultiRetrievalQAChain.from_retrievers(\n",
    "    llm=chat,\n",
    "    retriever_infos, \n",
    "    default_chain\n",
    ")"
   ]
  }
 ],
 "metadata": {
  "kernelspec": {
   "display_name": "Python 3",
   "language": "python",
   "name": "python3"
  },
  "language_info": {
   "codemirror_mode": {
    "name": "ipython",
    "version": 3
   },
   "file_extension": ".py",
   "mimetype": "text/x-python",
   "name": "python",
   "nbconvert_exporter": "python",
   "pygments_lexer": "ipython3",
   "version": "3.9.18"
  }
 },
 "nbformat": 4,
 "nbformat_minor": 2
}
