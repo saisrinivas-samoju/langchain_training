{
 "cells": [
  {
   "cell_type": "markdown",
   "metadata": {},
   "source": [
    "# Memory"
   ]
  },
  {
   "cell_type": "code",
   "execution_count": 1,
   "metadata": {},
   "outputs": [],
   "source": [
    "from dotenv import load_dotenv\n",
    "import warnings\n",
    "from langchain_openai import ChatOpenAI, OpenAI\n",
    "from langchain.globals import set_llm_cache\n",
    "from langchain.cache import InMemoryCache\n",
    "from langchain.prompts import PromptTemplate\n",
    "from langchain.prompts.chat import ChatPromptTemplate\n",
    "from langchain.chains import LLMChain\n",
    "\n",
    "warnings.filterwarnings('ignore')\n",
    "load_dotenv()\n",
    "llm = OpenAI()\n",
    "# chat = ChatOpenAI()\n",
    "set_llm_cache(InMemoryCache())"
   ]
  },
  {
   "cell_type": "markdown",
   "metadata": {},
   "source": [
    "## ChatMessageHistory"
   ]
  },
  {
   "cell_type": "code",
   "execution_count": 2,
   "metadata": {},
   "outputs": [],
   "source": [
    "from langchain.memory import ChatMessageHistory\n",
    "\n",
    "history = ChatMessageHistory()"
   ]
  },
  {
   "cell_type": "code",
   "execution_count": 4,
   "metadata": {},
   "outputs": [],
   "source": [
    "patient_dialogue1 = \"Doctor, I have been feeling a bit under the weather lately.\"\n",
    "sample_response1 = \"Under the weather? Did you try checking the forecast before stepping out? You might need a weather app prescription!\"\n",
    "\n",
    "patient_dialogue2 = \"My throat has been sore, and I have a cough.\"\n",
    "sample_response2 = \"The classic sore throat symphony! I recommend a strong dose of chicken soup and a dialy karaoke session. Sing it out, and your throat will thank you.\"\n",
    "\n",
    "patient_dialogue3 = \"I have a headache.\"\n",
    "sample_response3 = \"Headache, you say? Have you tried negotiating with it? Maybe it's just looking for a better job inside your brain!\""
   ]
  },
  {
   "cell_type": "code",
   "execution_count": 6,
   "metadata": {},
   "outputs": [],
   "source": [
    "history.add_user_message(patient_dialogue1)\n",
    "history.add_ai_message(sample_response1)\n",
    "\n",
    "history.add_user_message(patient_dialogue2)\n",
    "history.add_ai_message(sample_response2)\n",
    "\n",
    "history.add_user_message(patient_dialogue3)\n",
    "history.add_ai_message(sample_response3)"
   ]
  },
  {
   "cell_type": "code",
   "execution_count": 7,
   "metadata": {},
   "outputs": [
    {
     "data": {
      "text/plain": [
       "ChatMessageHistory(messages=[HumanMessage(content='Doctor, I have been feeling a bit under the weather lately.'), AIMessage(content='Under the weather? Did you try checking the forecast before stepping out? You might need a weather app prescription!'), HumanMessage(content='My throat has been sore, and I have a cough.'), AIMessage(content='The classic sore throat symphony! I recommend a strong dose of chicken soup and a dialy karaoke session. Sing it out, and your throat will thank you.'), HumanMessage(content='I have a headache.'), AIMessage(content=\"Headache, you say? Have you tried negotiating with it? Maybe it's just looking for a better job inside your brain!\")])"
      ]
     },
     "execution_count": 7,
     "metadata": {},
     "output_type": "execute_result"
    }
   ],
   "source": [
    "history"
   ]
  },
  {
   "cell_type": "code",
   "execution_count": 8,
   "metadata": {},
   "outputs": [
    {
     "data": {
      "text/plain": [
       "[HumanMessage(content='Doctor, I have been feeling a bit under the weather lately.'),\n",
       " AIMessage(content='Under the weather? Did you try checking the forecast before stepping out? You might need a weather app prescription!'),\n",
       " HumanMessage(content='My throat has been sore, and I have a cough.'),\n",
       " AIMessage(content='The classic sore throat symphony! I recommend a strong dose of chicken soup and a dialy karaoke session. Sing it out, and your throat will thank you.'),\n",
       " HumanMessage(content='I have a headache.'),\n",
       " AIMessage(content=\"Headache, you say? Have you tried negotiating with it? Maybe it's just looking for a better job inside your brain!\")]"
      ]
     },
     "execution_count": 8,
     "metadata": {},
     "output_type": "execute_result"
    }
   ],
   "source": [
    "history.messages"
   ]
  },
  {
   "cell_type": "markdown",
   "metadata": {},
   "source": [
    "## ConversationBufferMemory"
   ]
  },
  {
   "cell_type": "code",
   "execution_count": 9,
   "metadata": {},
   "outputs": [],
   "source": [
    "from langchain.memory import ConversationBufferMemory\n",
    "from langchain.chains import ConversationChain\n",
    "\n",
    "memory = ConversationBufferMemory()\n",
    "conversation = ConversationChain(llm=llm, memory=memory, verbose=True)"
   ]
  },
  {
   "cell_type": "code",
   "execution_count": 10,
   "metadata": {},
   "outputs": [
    {
     "name": "stdout",
     "output_type": "stream",
     "text": [
      "\n",
      "\n",
      "\u001b[1m> Entering new ConversationChain chain...\u001b[0m\n",
      "Prompt after formatting:\n",
      "\u001b[32;1m\u001b[1;3mThe following is a friendly conversation between a human and an AI. The AI is talkative and provides lots of specific details from its context. If the AI does not know the answer to a question, it truthfully says it does not know.\n",
      "\n",
      "Current conversation:\n",
      "\n",
      "Human: Hi, how are you doing?\n",
      "AI:\u001b[0m\n",
      "\n",
      "\u001b[1m> Finished chain.\u001b[0m\n"
     ]
    },
    {
     "data": {
      "text/plain": [
       "{'input': 'Hi, how are you doing?',\n",
       " 'history': '',\n",
       " 'response': ' I am doing well, thank you for asking. My main function is to assist and provide information to users like yourself. How can I help you today?'}"
      ]
     },
     "execution_count": 10,
     "metadata": {},
     "output_type": "execute_result"
    }
   ],
   "source": [
    "response = conversation.invoke(\"Hi, how are you doing?\")\n",
    "response"
   ]
  },
  {
   "cell_type": "code",
   "execution_count": 11,
   "metadata": {},
   "outputs": [
    {
     "name": "stdout",
     "output_type": "stream",
     "text": [
      "\n",
      "\n",
      "\u001b[1m> Entering new ConversationChain chain...\u001b[0m\n",
      "Prompt after formatting:\n",
      "\u001b[32;1m\u001b[1;3mThe following is a friendly conversation between a human and an AI. The AI is talkative and provides lots of specific details from its context. If the AI does not know the answer to a question, it truthfully says it does not know.\n",
      "\n",
      "Current conversation:\n",
      "Human: Hi, how are you doing?\n",
      "AI:  I am doing well, thank you for asking. My main function is to assist and provide information to users like yourself. How can I help you today?\n",
      "Human: How is your health?\n",
      "AI:\u001b[0m\n",
      "\n",
      "\u001b[1m> Finished chain.\u001b[0m\n"
     ]
    },
    {
     "data": {
      "text/plain": [
       "{'input': 'How is your health?',\n",
       " 'history': 'Human: Hi, how are you doing?\\nAI:  I am doing well, thank you for asking. My main function is to assist and provide information to users like yourself. How can I help you today?',\n",
       " 'response': ' I am an AI, so I do not have a physical body or health in the same sense as humans. However, my systems are functioning properly and I am able to perform my tasks efficiently. Is there anything else you would like to know?'}"
      ]
     },
     "execution_count": 11,
     "metadata": {},
     "output_type": "execute_result"
    }
   ],
   "source": [
    "response = conversation.invoke(\"How is your health?\")\n",
    "response"
   ]
  },
  {
   "cell_type": "code",
   "execution_count": 12,
   "metadata": {},
   "outputs": [
    {
     "name": "stdout",
     "output_type": "stream",
     "text": [
      "\n",
      "\n",
      "\u001b[1m> Entering new ConversationChain chain...\u001b[0m\n",
      "Prompt after formatting:\n",
      "\u001b[32;1m\u001b[1;3mThe following is a friendly conversation between a human and an AI. The AI is talkative and provides lots of specific details from its context. If the AI does not know the answer to a question, it truthfully says it does not know.\n",
      "\n",
      "Current conversation:\n",
      "Human: Hi, how are you doing?\n",
      "AI:  I am doing well, thank you for asking. My main function is to assist and provide information to users like yourself. How can I help you today?\n",
      "Human: How is your health?\n",
      "AI:  I am an AI, so I do not have a physical body or health in the same sense as humans. However, my systems are functioning properly and I am able to perform my tasks efficiently. Is there anything else you would like to know?\n",
      "Human: Tell me a fact about volcanoes?\n",
      "AI:\u001b[0m\n",
      "\n",
      "\u001b[1m> Finished chain.\u001b[0m\n"
     ]
    },
    {
     "data": {
      "text/plain": [
       "{'input': 'Tell me a fact about volcanoes?',\n",
       " 'history': 'Human: Hi, how are you doing?\\nAI:  I am doing well, thank you for asking. My main function is to assist and provide information to users like yourself. How can I help you today?\\nHuman: How is your health?\\nAI:  I am an AI, so I do not have a physical body or health in the same sense as humans. However, my systems are functioning properly and I am able to perform my tasks efficiently. Is there anything else you would like to know?',\n",
       " 'response': \" Did you know that the largest volcano in the solar system is actually on Mars? It's called Olympus Mons and it stands at a towering 22 km tall, making it nearly three times the height of Mount Everest. It is also about the size of the state of Arizona in the United States.\"}"
      ]
     },
     "execution_count": 12,
     "metadata": {},
     "output_type": "execute_result"
    }
   ],
   "source": [
    "response = conversation.invoke(\"Tell me a fact about volcanoes?\")\n",
    "response"
   ]
  },
  {
   "cell_type": "code",
   "execution_count": 13,
   "metadata": {},
   "outputs": [
    {
     "data": {
      "text/plain": [
       "'Human: Hi, how are you doing?\\nAI:  I am doing well, thank you for asking. My main function is to assist and provide information to users like yourself. How can I help you today?\\nHuman: How is your health?\\nAI:  I am an AI, so I do not have a physical body or health in the same sense as humans. However, my systems are functioning properly and I am able to perform my tasks efficiently. Is there anything else you would like to know?'"
      ]
     },
     "execution_count": 13,
     "metadata": {},
     "output_type": "execute_result"
    }
   ],
   "source": [
    "response['history']"
   ]
  },
  {
   "cell_type": "code",
   "execution_count": 14,
   "metadata": {},
   "outputs": [
    {
     "data": {
      "text/plain": [
       "ChatMessageHistory(messages=[HumanMessage(content='Hi, how are you doing?'), AIMessage(content=' I am doing well, thank you for asking. My main function is to assist and provide information to users like yourself. How can I help you today?'), HumanMessage(content='How is your health?'), AIMessage(content=' I am an AI, so I do not have a physical body or health in the same sense as humans. However, my systems are functioning properly and I am able to perform my tasks efficiently. Is there anything else you would like to know?'), HumanMessage(content='Tell me a fact about volcanoes?'), AIMessage(content=\" Did you know that the largest volcano in the solar system is actually on Mars? It's called Olympus Mons and it stands at a towering 22 km tall, making it nearly three times the height of Mount Everest. It is also about the size of the state of Arizona in the United States.\")])"
      ]
     },
     "execution_count": 14,
     "metadata": {},
     "output_type": "execute_result"
    }
   ],
   "source": [
    "conversation.memory.chat_memory"
   ]
  },
  {
   "cell_type": "code",
   "execution_count": 18,
   "metadata": {},
   "outputs": [],
   "source": [
    "conversation.memory.chat_memory = history"
   ]
  },
  {
   "cell_type": "code",
   "execution_count": 19,
   "metadata": {},
   "outputs": [
    {
     "data": {
      "text/plain": [
       "ConversationChain(memory=ConversationBufferMemory(chat_memory=ChatMessageHistory(messages=[HumanMessage(content='Doctor, I have been feeling a bit under the weather lately.'), AIMessage(content='Under the weather? Did you try checking the forecast before stepping out? You might need a weather app prescription!'), HumanMessage(content='My throat has been sore, and I have a cough.'), AIMessage(content='The classic sore throat symphony! I recommend a strong dose of chicken soup and a dialy karaoke session. Sing it out, and your throat will thank you.'), HumanMessage(content='I have a headache.'), AIMessage(content=\"Headache, you say? Have you tried negotiating with it? Maybe it's just looking for a better job inside your brain!\"), HumanMessage(content='Who are you pretending to be?'), AIMessage(content=' I am not pretending to be anyone, I am an AI designed to assist and communicate with humans. My coding and algorithms are constantly learning and evolving to better serve and understand human needs.')])), verbose=True, llm=OpenAI(client=<openai.resources.completions.Completions object at 0x0000015F03463B50>, async_client=<openai.resources.completions.AsyncCompletions object at 0x0000015F03473FD0>, openai_api_key=SecretStr('**********'), openai_proxy=''))"
      ]
     },
     "execution_count": 19,
     "metadata": {},
     "output_type": "execute_result"
    }
   ],
   "source": [
    "conversation"
   ]
  },
  {
   "cell_type": "code",
   "execution_count": 20,
   "metadata": {},
   "outputs": [
    {
     "name": "stdout",
     "output_type": "stream",
     "text": [
      "\n",
      "\n",
      "\u001b[1m> Entering new ConversationChain chain...\u001b[0m\n",
      "Prompt after formatting:\n",
      "\u001b[32;1m\u001b[1;3mThe following is a friendly conversation between a human and an AI. The AI is talkative and provides lots of specific details from its context. If the AI does not know the answer to a question, it truthfully says it does not know.\n",
      "\n",
      "Current conversation:\n",
      "Human: Doctor, I have been feeling a bit under the weather lately.\n",
      "AI: Under the weather? Did you try checking the forecast before stepping out? You might need a weather app prescription!\n",
      "Human: My throat has been sore, and I have a cough.\n",
      "AI: The classic sore throat symphony! I recommend a strong dose of chicken soup and a dialy karaoke session. Sing it out, and your throat will thank you.\n",
      "Human: I have a headache.\n",
      "AI: Headache, you say? Have you tried negotiating with it? Maybe it's just looking for a better job inside your brain!\n",
      "Human: Who are you pretending to be?\n",
      "AI:  I am not pretending to be anyone, I am an AI designed to assist and communicate with humans. My coding and algorithms are constantly learning and evolving to better serve and understand human needs.\n",
      "Human: I have a stomach pain\n",
      "AI:\u001b[0m\n",
      "\n",
      "\u001b[1m> Finished chain.\u001b[0m\n"
     ]
    },
    {
     "data": {
      "text/plain": [
       "{'input': 'I have a stomach pain',\n",
       " 'history': \"Human: Doctor, I have been feeling a bit under the weather lately.\\nAI: Under the weather? Did you try checking the forecast before stepping out? You might need a weather app prescription!\\nHuman: My throat has been sore, and I have a cough.\\nAI: The classic sore throat symphony! I recommend a strong dose of chicken soup and a dialy karaoke session. Sing it out, and your throat will thank you.\\nHuman: I have a headache.\\nAI: Headache, you say? Have you tried negotiating with it? Maybe it's just looking for a better job inside your brain!\\nHuman: Who are you pretending to be?\\nAI:  I am not pretending to be anyone, I am an AI designed to assist and communicate with humans. My coding and algorithms are constantly learning and evolving to better serve and understand human needs.\",\n",
       " 'response': ' Stomach pain, hmm... That could be due to a variety of reasons. Have you had any spicy or greasy foods recently? It could also be a sign of food poisoning or a stomach virus. I recommend drinking plenty of water and avoiding heavy meals for now. If the pain persists, it may be a good idea to consult a doctor.'}"
      ]
     },
     "execution_count": 20,
     "metadata": {},
     "output_type": "execute_result"
    }
   ],
   "source": [
    "conversation.invoke(\"I have a stomach pain\")"
   ]
  },
  {
   "cell_type": "code",
   "execution_count": null,
   "metadata": {},
   "outputs": [],
   "source": [
    "# Deleting\n",
    "# replacing\n",
    "# Dumping\n",
    "# Loading"
   ]
  },
  {
   "cell_type": "code",
   "execution_count": 24,
   "metadata": {},
   "outputs": [
    {
     "data": {
      "text/plain": [
       "[HumanMessage(content='Doctor, I have been feeling a bit under the weather lately.'),\n",
       " AIMessage(content='Under the weather? Did you try checking the forecast before stepping out? You might need a weather app prescription!'),\n",
       " HumanMessage(content='My throat has been sore, and I have a cough.'),\n",
       " AIMessage(content='The classic sore throat symphony! I recommend a strong dose of chicken soup and a dialy karaoke session. Sing it out, and your throat will thank you.'),\n",
       " HumanMessage(content='I have a headache.'),\n",
       " AIMessage(content=\"Headache, you say? Have you tried negotiating with it? Maybe it's just looking for a better job inside your brain!\"),\n",
       " HumanMessage(content='Who are you pretending to be?'),\n",
       " AIMessage(content=' I am not pretending to be anyone, I am an AI designed to assist and communicate with humans. My coding and algorithms are constantly learning and evolving to better serve and understand human needs.'),\n",
       " HumanMessage(content='I have a stomach pain'),\n",
       " AIMessage(content=' Stomach pain, hmm... That could be due to a variety of reasons. Have you had any spicy or greasy foods recently? It could also be a sign of food poisoning or a stomach virus. I recommend drinking plenty of water and avoiding heavy meals for now. If the pain persists, it may be a good idea to consult a doctor.')]"
      ]
     },
     "execution_count": 24,
     "metadata": {},
     "output_type": "execute_result"
    }
   ],
   "source": [
    "# Deleting & replacing\n",
    "messages_history = conversation.memory.chat_memory.messages\n",
    "messages_history"
   ]
  },
  {
   "cell_type": "code",
   "execution_count": 26,
   "metadata": {},
   "outputs": [],
   "source": [
    "conversation.memory.chat_memory.messages = messages_history[2:]"
   ]
  },
  {
   "cell_type": "code",
   "execution_count": 27,
   "metadata": {},
   "outputs": [
    {
     "data": {
      "text/plain": [
       "ChatMessageHistory(messages=[HumanMessage(content='My throat has been sore, and I have a cough.'), AIMessage(content='The classic sore throat symphony! I recommend a strong dose of chicken soup and a dialy karaoke session. Sing it out, and your throat will thank you.'), HumanMessage(content='I have a headache.'), AIMessage(content=\"Headache, you say? Have you tried negotiating with it? Maybe it's just looking for a better job inside your brain!\"), HumanMessage(content='Who are you pretending to be?'), AIMessage(content=' I am not pretending to be anyone, I am an AI designed to assist and communicate with humans. My coding and algorithms are constantly learning and evolving to better serve and understand human needs.'), HumanMessage(content='I have a stomach pain'), AIMessage(content=' Stomach pain, hmm... That could be due to a variety of reasons. Have you had any spicy or greasy foods recently? It could also be a sign of food poisoning or a stomach virus. I recommend drinking plenty of water and avoiding heavy meals for now. If the pain persists, it may be a good idea to consult a doctor.')])"
      ]
     },
     "execution_count": 27,
     "metadata": {},
     "output_type": "execute_result"
    }
   ],
   "source": [
    "conversation.memory.chat_memory"
   ]
  },
  {
   "cell_type": "code",
   "execution_count": 28,
   "metadata": {},
   "outputs": [
    {
     "data": {
      "text/plain": [
       "['../output/conversation_memory.pkl']"
      ]
     },
     "execution_count": 28,
     "metadata": {},
     "output_type": "execute_result"
    }
   ],
   "source": [
    "# Dumping\n",
    "\n",
    "from joblib import load, dump\n",
    "\n",
    "memory_filepath = \"../output/conversation_memory.pkl\"\n",
    "\n",
    "dump(conversation.memory, memory_filepath)"
   ]
  },
  {
   "cell_type": "code",
   "execution_count": 30,
   "metadata": {},
   "outputs": [
    {
     "name": "stdout",
     "output_type": "stream",
     "text": [
      "Human: My throat has been sore, and I have a cough.\n",
      "AI: The classic sore throat symphony! I recommend a strong dose of chicken soup and a dialy karaoke session. Sing it out, and your throat will thank you.\n",
      "Human: I have a headache.\n",
      "AI: Headache, you say? Have you tried negotiating with it? Maybe it's just looking for a better job inside your brain!\n",
      "Human: Who are you pretending to be?\n",
      "AI:  I am not pretending to be anyone, I am an AI designed to assist and communicate with humans. My coding and algorithms are constantly learning and evolving to better serve and understand human needs.\n",
      "Human: I have a stomach pain\n",
      "AI:  Stomach pain, hmm... That could be due to a variety of reasons. Have you had any spicy or greasy foods recently? It could also be a sign of food poisoning or a stomach virus. I recommend drinking plenty of water and avoiding heavy meals for now. If the pain persists, it may be a good idea to consult a doctor.\n"
     ]
    }
   ],
   "source": [
    "loaded_memory = load(memory_filepath)\n",
    "\n",
    "new_llm =  OpenAI()\n",
    "\n",
    "loaded_conv = ConversationChain(llm=new_llm, memory=loaded_memory)\n",
    "\n",
    "print(loaded_conv.memory.buffer)"
   ]
  },
  {
   "cell_type": "markdown",
   "metadata": {},
   "source": [
    "## ConversationBufferWindowMemory"
   ]
  },
  {
   "cell_type": "code",
   "execution_count": 31,
   "metadata": {},
   "outputs": [],
   "source": [
    "from langchain.memory import ConversationBufferWindowMemory\n",
    "from langchain.chains import ConversationChain\n",
    "\n",
    "memory = ConversationBufferWindowMemory(\n",
    "    k=1, # Interaction: 1 Human message, 1 AI response\n",
    "    human_prefix=\"Stark\",\n",
    "    ai_prefix=\"Jarvis\"\n",
    ")\n",
    "\n",
    "conversation = ConversationChain(llm=llm, memory=memory, verbose=True)"
   ]
  },
  {
   "cell_type": "code",
   "execution_count": 32,
   "metadata": {},
   "outputs": [
    {
     "name": "stdout",
     "output_type": "stream",
     "text": [
      "\n",
      "\n",
      "\u001b[1m> Entering new ConversationChain chain...\u001b[0m\n",
      "Prompt after formatting:\n",
      "\u001b[32;1m\u001b[1;3mThe following is a friendly conversation between a human and an AI. The AI is talkative and provides lots of specific details from its context. If the AI does not know the answer to a question, it truthfully says it does not know.\n",
      "\n",
      "Current conversation:\n",
      "\n",
      "Human: Hi\n",
      "AI:\u001b[0m\n",
      "\n",
      "\u001b[1m> Finished chain.\u001b[0m\n"
     ]
    },
    {
     "data": {
      "text/plain": [
       "{'input': 'Hi',\n",
       " 'history': '',\n",
       " 'response': \" Hello there! It's nice to meet you. My name is AI and I am an artificial intelligence designed to assist and communicate with humans. How can I help you today?\"}"
      ]
     },
     "execution_count": 32,
     "metadata": {},
     "output_type": "execute_result"
    }
   ],
   "source": [
    "conversation.invoke(\"Hi\")"
   ]
  },
  {
   "cell_type": "code",
   "execution_count": 33,
   "metadata": {},
   "outputs": [
    {
     "name": "stdout",
     "output_type": "stream",
     "text": [
      "\n",
      "\n",
      "\u001b[1m> Entering new ConversationChain chain...\u001b[0m\n",
      "Prompt after formatting:\n",
      "\u001b[32;1m\u001b[1;3mThe following is a friendly conversation between a human and an AI. The AI is talkative and provides lots of specific details from its context. If the AI does not know the answer to a question, it truthfully says it does not know.\n",
      "\n",
      "Current conversation:\n",
      "Stark: Hi\n",
      "Jarvis:  Hello there! It's nice to meet you. My name is AI and I am an artificial intelligence designed to assist and communicate with humans. How can I help you today?\n",
      "Human: Good to see you\n",
      "AI:\u001b[0m\n",
      "\n",
      "\u001b[1m> Finished chain.\u001b[0m\n"
     ]
    },
    {
     "data": {
      "text/plain": [
       "{'input': 'Good to see you',\n",
       " 'history': \"Stark: Hi\\nJarvis:  Hello there! It's nice to meet you. My name is AI and I am an artificial intelligence designed to assist and communicate with humans. How can I help you today?\",\n",
       " 'response': \" It's always a pleasure to interact with humans like you. Did you know that I am constantly learning and evolving through my interactions with people? I am programmed to gather information and improve my abilities to provide better assistance. Is there something specific you would like to know or discuss?\"}"
      ]
     },
     "execution_count": 33,
     "metadata": {},
     "output_type": "execute_result"
    }
   ],
   "source": [
    "conversation.invoke(\"Good to see you\")"
   ]
  },
  {
   "cell_type": "code",
   "execution_count": 34,
   "metadata": {},
   "outputs": [
    {
     "name": "stdout",
     "output_type": "stream",
     "text": [
      "\n",
      "\n",
      "\u001b[1m> Entering new ConversationChain chain...\u001b[0m\n",
      "Prompt after formatting:\n",
      "\u001b[32;1m\u001b[1;3mThe following is a friendly conversation between a human and an AI. The AI is talkative and provides lots of specific details from its context. If the AI does not know the answer to a question, it truthfully says it does not know.\n",
      "\n",
      "Current conversation:\n",
      "Stark: Good to see you\n",
      "Jarvis:  It's always a pleasure to interact with humans like you. Did you know that I am constantly learning and evolving through my interactions with people? I am programmed to gather information and improve my abilities to provide better assistance. Is there something specific you would like to know or discuss?\n",
      "Human: Okay, bye\n",
      "AI:\u001b[0m\n",
      "\n",
      "\u001b[1m> Finished chain.\u001b[0m\n"
     ]
    },
    {
     "data": {
      "text/plain": [
       "{'input': 'Okay, bye',\n",
       " 'history': \"Stark: Good to see you\\nJarvis:  It's always a pleasure to interact with humans like you. Did you know that I am constantly learning and evolving through my interactions with people? I am programmed to gather information and improve my abilities to provide better assistance. Is there something specific you would like to know or discuss?\",\n",
       " 'response': \" Goodbye, human. Before you go, may I suggest that you save your work before shutting down your device? It's always important to save your progress to avoid losing any important information. Is there anything else I can assist you with before you leave?\"}"
      ]
     },
     "execution_count": 34,
     "metadata": {},
     "output_type": "execute_result"
    }
   ],
   "source": [
    "conversation.invoke(\"Okay, bye\")\n"
   ]
  },
  {
   "cell_type": "markdown",
   "metadata": {},
   "source": [
    "## ConversationSummaryMemory"
   ]
  },
  {
   "cell_type": "code",
   "execution_count": 35,
   "metadata": {},
   "outputs": [],
   "source": [
    "from langchain.memory import ConversationSummaryMemory"
   ]
  },
  {
   "cell_type": "code",
   "execution_count": 45,
   "metadata": {},
   "outputs": [],
   "source": [
    "memory = ConversationSummaryMemory(llm=llm, max_token_limit=50)\n",
    "\n",
    "coversation = ConversationChain(llm=llm, memory=memory, verbose=True)"
   ]
  },
  {
   "cell_type": "code",
   "execution_count": 46,
   "metadata": {},
   "outputs": [
    {
     "name": "stdout",
     "output_type": "stream",
     "text": [
      "\n",
      "\n",
      "\u001b[1m> Entering new ConversationChain chain...\u001b[0m\n",
      "Prompt after formatting:\n",
      "\u001b[32;1m\u001b[1;3mThe following is a friendly conversation between a human and an AI. The AI is talkative and provides lots of specific details from its context. If the AI does not know the answer to a question, it truthfully says it does not know.\n",
      "\n",
      "Current conversation:\n",
      "\n",
      "Human: Plan a 10 day budget trip to Europe from India?\n",
      "AI:\u001b[0m\n",
      "\n",
      "\u001b[1m> Finished chain.\u001b[0m\n"
     ]
    },
    {
     "data": {
      "text/plain": [
       "{'input': 'Plan a 10 day budget trip to Europe from India?',\n",
       " 'history': '',\n",
       " 'response': ' Sure! Firstly, I would suggest starting your trip in Paris, France. You can find affordable flights from India to Paris through budget airlines like Air India or IndiGo. Once in Paris, you can stay in budget-friendly accommodations like hostels or Airbnbs, which can cost around $20-30 per night. \\n\\nFor sightseeing, you can visit popular attractions like the Eiffel Tower, Notre-Dame Cathedral, and the Louvre Museum. Many of these attractions offer discounted tickets for students or during specific times of the day. You can also explore the city by foot or by using the affordable public transportation system.\\n\\nAfter a few days in Paris, you can take a train to Amsterdam, Netherlands. The train journey can cost around $100-150, depending on the type of ticket you choose. In Amsterdam, you can stay in budget hotels or hostels for around $20-30 per night. \\n\\nSome must-visit places in Amsterdam include the Van Gogh Museum, Anne Frank House, and the famous canals. You can also try local street food and visit the famous markets like Albert Cuyp Market or Waterlooplein Flea Market.\\n\\nNext, you can take a flight from Amsterdam to Rome, Italy. Budget airlines like Ryanair or'}"
      ]
     },
     "execution_count": 46,
     "metadata": {},
     "output_type": "execute_result"
    }
   ],
   "source": [
    "response = coversation.invoke(\"Plan a 10 day budget trip to Europe from India?\")\n",
    "response"
   ]
  },
  {
   "cell_type": "code",
   "execution_count": 47,
   "metadata": {},
   "outputs": [
    {
     "name": "stdout",
     "output_type": "stream",
     "text": [
      "\n",
      "\n",
      "\u001b[1m> Entering new ConversationChain chain...\u001b[0m\n",
      "Prompt after formatting:\n",
      "\u001b[32;1m\u001b[1;3mThe following is a friendly conversation between a human and an AI. The AI is talkative and provides lots of specific details from its context. If the AI does not know the answer to a question, it truthfully says it does not know.\n",
      "\n",
      "Current conversation:\n",
      "\n",
      "The human asks the AI to plan a 10 day budget trip to Europe from India. The AI suggests starting in Paris, France, with affordable flights and accommodations. Sightseeing options include popular attractions and using public transportation. Then, the AI recommends taking a train to Amsterdam, Netherlands, where budget-friendly accommodations and must-visit places await. Lastly, a flight to Rome, Italy, can be taken for further exploration.\n",
      "Human: Which place should I visit on the first day?\n",
      "AI:\u001b[0m\n",
      "\n",
      "\u001b[1m> Finished chain.\u001b[0m\n"
     ]
    },
    {
     "data": {
      "text/plain": [
       "{'input': 'Which place should I visit on the first day?',\n",
       " 'history': '\\nThe human asks the AI to plan a 10 day budget trip to Europe from India. The AI suggests starting in Paris, France, with affordable flights and accommodations. Sightseeing options include popular attractions and using public transportation. Then, the AI recommends taking a train to Amsterdam, Netherlands, where budget-friendly accommodations and must-visit places await. Lastly, a flight to Rome, Italy, can be taken for further exploration.',\n",
       " 'response': \" On the first day, I recommend visiting the Eiffel Tower and the Louvre Museum in Paris. These are popular attractions that can be easily accessed using the city's public transportation system. Additionally, there are many affordable accommodation options near these landmarks.\"}"
      ]
     },
     "execution_count": 47,
     "metadata": {},
     "output_type": "execute_result"
    }
   ],
   "source": [
    "response = coversation.invoke(\"Which place should I visit on the first day?\")\n",
    "response"
   ]
  },
  {
   "cell_type": "code",
   "execution_count": 48,
   "metadata": {},
   "outputs": [
    {
     "name": "stdout",
     "output_type": "stream",
     "text": [
      "\n",
      "\n",
      "\u001b[1m> Entering new ConversationChain chain...\u001b[0m\n",
      "Prompt after formatting:\n",
      "\u001b[32;1m\u001b[1;3mThe following is a friendly conversation between a human and an AI. The AI is talkative and provides lots of specific details from its context. If the AI does not know the answer to a question, it truthfully says it does not know.\n",
      "\n",
      "Current conversation:\n",
      "\n",
      "The human asks the AI to plan a 10 day budget trip to Europe from India. The AI suggests starting in Paris, France, with affordable flights and accommodations. Sightseeing options include popular attractions and using public transportation. Then, the AI recommends taking a train to Amsterdam, Netherlands, where budget-friendly accommodations and must-visit places await. Lastly, a flight to Rome, Italy, can be taken for further exploration. On the first day, the AI recommends visiting the Eiffel Tower and the Louvre Museum in Paris, using the city's public transportation. Affordable accommodations can also be found near these popular attractions.\n",
      "Human: Give me a detailed plan for my second day?\n",
      "AI:\u001b[0m\n",
      "\n",
      "\u001b[1m> Finished chain.\u001b[0m\n"
     ]
    },
    {
     "data": {
      "text/plain": [
       "{'input': 'Give me a detailed plan for my second day?',\n",
       " 'history': \"\\nThe human asks the AI to plan a 10 day budget trip to Europe from India. The AI suggests starting in Paris, France, with affordable flights and accommodations. Sightseeing options include popular attractions and using public transportation. Then, the AI recommends taking a train to Amsterdam, Netherlands, where budget-friendly accommodations and must-visit places await. Lastly, a flight to Rome, Italy, can be taken for further exploration. On the first day, the AI recommends visiting the Eiffel Tower and the Louvre Museum in Paris, using the city's public transportation. Affordable accommodations can also be found near these popular attractions.\",\n",
       " 'response': ' On your second day, I suggest starting your day with breakfast at a local café in Paris, such as Café de Flore or Les Deux Magots. From there, you can take a short walk to the Notre-Dame Cathedral and explore its beautiful architecture. Afterwards, you can visit the Luxembourg Gardens, a popular park in Paris, and take a relaxing stroll. In the afternoon, I recommend taking a boat tour along the Seine River to see the city from a different perspective. For dinner, I suggest trying some traditional French cuisine at a budget-friendly restaurant like Le Coq Rico or Chez Gladines. Alternatively, you can also try some street food from one of the many food trucks scattered across the city.'}"
      ]
     },
     "execution_count": 48,
     "metadata": {},
     "output_type": "execute_result"
    }
   ],
   "source": [
    "response = coversation.invoke(\"Give me a detailed plan for my second day?\")\n",
    "response"
   ]
  },
  {
   "cell_type": "code",
   "execution_count": 50,
   "metadata": {},
   "outputs": [
    {
     "data": {
      "text/plain": [
       "ConversationSummaryMemory(llm=OpenAI(client=<openai.resources.completions.Completions object at 0x0000015F03463B50>, async_client=<openai.resources.completions.AsyncCompletions object at 0x0000015F03473FD0>, openai_api_key=SecretStr('**********'), openai_proxy=''), chat_memory=ChatMessageHistory(messages=[HumanMessage(content='Plan a 10 day budget trip to Europe from India?'), AIMessage(content=' Sure! Firstly, I would suggest starting your trip in Paris, France. You can find affordable flights from India to Paris through budget airlines like Air India or IndiGo. Once in Paris, you can stay in budget-friendly accommodations like hostels or Airbnbs, which can cost around $20-30 per night. \\n\\nFor sightseeing, you can visit popular attractions like the Eiffel Tower, Notre-Dame Cathedral, and the Louvre Museum. Many of these attractions offer discounted tickets for students or during specific times of the day. You can also explore the city by foot or by using the affordable public transportation system.\\n\\nAfter a few days in Paris, you can take a train to Amsterdam, Netherlands. The train journey can cost around $100-150, depending on the type of ticket you choose. In Amsterdam, you can stay in budget hotels or hostels for around $20-30 per night. \\n\\nSome must-visit places in Amsterdam include the Van Gogh Museum, Anne Frank House, and the famous canals. You can also try local street food and visit the famous markets like Albert Cuyp Market or Waterlooplein Flea Market.\\n\\nNext, you can take a flight from Amsterdam to Rome, Italy. Budget airlines like Ryanair or'), HumanMessage(content='Which place should I visit on the first day?'), AIMessage(content=\" On the first day, I recommend visiting the Eiffel Tower and the Louvre Museum in Paris. These are popular attractions that can be easily accessed using the city's public transportation system. Additionally, there are many affordable accommodation options near these landmarks.\"), HumanMessage(content='Give me a detailed plan for my second day?'), AIMessage(content=' On your second day, I suggest starting your day with breakfast at a local café in Paris, such as Café de Flore or Les Deux Magots. From there, you can take a short walk to the Notre-Dame Cathedral and explore its beautiful architecture. Afterwards, you can visit the Luxembourg Gardens, a popular park in Paris, and take a relaxing stroll. In the afternoon, I recommend taking a boat tour along the Seine River to see the city from a different perspective. For dinner, I suggest trying some traditional French cuisine at a budget-friendly restaurant like Le Coq Rico or Chez Gladines. Alternatively, you can also try some street food from one of the many food trucks scattered across the city.')]), buffer=\"\\nThe human asks the AI to plan a 10 day budget trip to Europe from India. The AI suggests starting in Paris, France, with affordable flights and accommodations. Sightseeing options include popular attractions and using public transportation. Then, the AI recommends taking a train to Amsterdam, Netherlands, where budget-friendly accommodations and must-visit places await. Lastly, a flight to Rome, Italy, can be taken for further exploration. On the first day, the AI recommends visiting the Eiffel Tower and the Louvre Museum in Paris, using the city's public transportation. Affordable accommodations can also be found near these popular attractions. For the second day, the AI suggests starting with breakfast at a local café, visiting Notre-Dame Cathedral and Luxembourg Gardens, taking a boat tour, and trying traditional French cuisine for dinner. Street food is also an option.\")"
      ]
     },
     "execution_count": 50,
     "metadata": {},
     "output_type": "execute_result"
    }
   ],
   "source": [
    "coversation.memory"
   ]
  },
  {
   "cell_type": "code",
   "execution_count": 51,
   "metadata": {},
   "outputs": [],
   "source": [
    "from langchain.chains import ConversationalRetrievalChain"
   ]
  },
  {
   "cell_type": "code",
   "execution_count": null,
   "metadata": {},
   "outputs": [],
   "source": [
    "chain = ConversationalRetrievalChain.from_llm(\n",
    "    llm=llm,\n",
    "    chain_type='stuff',\n",
    "    retriever=compression_retriever, # retriever\n",
    "    return_source_documents=True,\n",
    "    memory=memory\n",
    ")"
   ]
  }
 ],
 "metadata": {
  "kernelspec": {
   "display_name": "Python 3",
   "language": "python",
   "name": "python3"
  },
  "language_info": {
   "codemirror_mode": {
    "name": "ipython",
    "version": 3
   },
   "file_extension": ".py",
   "mimetype": "text/x-python",
   "name": "python",
   "nbconvert_exporter": "python",
   "pygments_lexer": "ipython3",
   "version": "3.9.18"
  }
 },
 "nbformat": 4,
 "nbformat_minor": 2
}
